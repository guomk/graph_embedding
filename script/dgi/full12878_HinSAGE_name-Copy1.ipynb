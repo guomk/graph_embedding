{
 "cells": [
  {
   "cell_type": "markdown",
   "metadata": {
    "colab_type": "text",
    "id": "5inT3APPel92"
   },
   "source": [
    "# Node representation learning with Deep Graph Infomax and HinSAGE\n"
   ]
  },
  {
   "cell_type": "markdown",
   "metadata": {
    "colab_type": "text",
    "id": "DsTXmAsKel93"
   },
   "source": [
    "This demo demonstrates how to perform unsupervised training of a GCN, GAT, APPNP, or GraphSAGE model using the Deep Graph Infomax algorithm (https://arxiv.org/pdf/1809.10341.pdf) on the GM12878_sample dataset. \n",
    "\n",
    "As with all StellarGraph workflows: first we load the dataset, next we create our data generators, and then we train our model. We then take the embeddings created through unsupervised training and predict the node classes using logistic regression."
   ]
  },
  {
   "cell_type": "code",
   "execution_count": 1,
   "metadata": {
    "colab": {},
    "colab_type": "code",
    "execution": {
     "iopub.execute_input": "2020-06-15T01:45:53.871786Z",
     "iopub.status.busy": "2020-06-15T01:45:53.871786Z",
     "iopub.status.idle": "2020-06-15T01:45:58.590297Z",
     "shell.execute_reply": "2020-06-15T01:45:58.590297Z",
     "shell.execute_reply.started": "2020-06-15T01:45:53.871786Z"
    },
    "id": "nA4FZSrKel97"
   },
   "outputs": [
    {
     "name": "stdout",
     "output_type": "stream",
     "text": [
      "Default GPU Device:/device:GPU:0\n"
     ]
    }
   ],
   "source": [
    "from stellargraph.mapper import (\n",
    "    CorruptedGenerator,\n",
    "    FullBatchNodeGenerator,\n",
    "    GraphSAGENodeGenerator,\n",
    "    HinSAGENodeGenerator,\n",
    ")\n",
    "from stellargraph import StellarDiGraph\n",
    "from stellargraph.layer import GCN, DeepGraphInfomax, GraphSAGE, GAT, APPNP, HinSAGE\n",
    "\n",
    "from stellargraph import datasets\n",
    "from stellargraph.utils import plot_history\n",
    "\n",
    "import pandas as pd\n",
    "from matplotlib import pyplot as plt\n",
    "from sklearn import model_selection\n",
    "from sklearn.linear_model import LogisticRegression\n",
    "from sklearn.manifold import TSNE\n",
    "from IPython.display import display, HTML\n",
    "\n",
    "from tensorflow.keras.optimizers import Adam\n",
    "from tensorflow.keras.callbacks import EarlyStopping\n",
    "import tensorflow as tf\n",
    "from tensorflow.keras import Model\n",
    "if tf.test.gpu_device_name():\n",
    "  print('Default GPU Device:{}'.format(tf.test.gpu_device_name()))\n",
    "\n",
    "from pathlib import Path"
   ]
  },
  {
   "cell_type": "markdown",
   "metadata": {
    "colab_type": "text",
    "id": "xKLFlEiWel99",
    "tags": [
     "DataLoadingLinks"
    ]
   },
   "source": [
    "(See [the \"Loading from Pandas\" demo](../basics/loading-pandas.ipynb) for details on how data can be loaded.)"
   ]
  },
  {
   "cell_type": "markdown",
   "metadata": {},
   "source": [
    "## Load graph and node features"
   ]
  },
  {
   "cell_type": "code",
   "execution_count": 2,
   "metadata": {
    "execution": {
     "iopub.execute_input": "2020-06-15T01:45:58.591298Z",
     "iopub.status.busy": "2020-06-15T01:45:58.591298Z",
     "iopub.status.idle": "2020-06-15T01:46:10.278360Z",
     "shell.execute_reply": "2020-06-15T01:46:10.278360Z",
     "shell.execute_reply.started": "2020-06-15T01:45:58.591298Z"
    }
   },
   "outputs": [],
   "source": [
    "DATA_FOLDER = Path(\"../../data/\")\n",
    "FEATURE_FOLDER = Path('../../data/features/')\n",
    "FILE_NAME = 'joint_renamed.csv'\n",
    "FEATURE_FILE = 'joint_renamed_onehot_names.csv'\n",
    "SEP = ','\n",
    "\n",
    "df = pd.read_csv(DATA_FOLDER / FILE_NAME, sep=SEP)[['cell_type', 'source', 'target', 'weight', 'type']]\n",
    "\n",
    "feature_df = pd.read_csv(FEATURE_FOLDER / FEATURE_FILE, index_col=0)\n",
    "\n"
   ]
  },
  {
   "cell_type": "code",
   "execution_count": 3,
   "metadata": {
    "execution": {
     "iopub.execute_input": "2020-06-15T01:46:10.279707Z",
     "iopub.status.busy": "2020-06-15T01:46:10.279707Z",
     "iopub.status.idle": "2020-06-15T01:46:11.071908Z",
     "shell.execute_reply": "2020-06-15T01:46:11.071908Z",
     "shell.execute_reply.started": "2020-06-15T01:46:10.279707Z"
    }
   },
   "outputs": [
    {
     "name": "stdout",
     "output_type": "stream",
     "text": [
      "StellarDiGraph: Directed multigraph\n",
      " Nodes: 8829, Edges: 46680\n",
      "\n",
      " Node types:\n",
      "  default: [8829]\n",
      "    Features: float32 vector, length 8829\n",
      "    Edge types: default-0->default, default-1->default\n",
      "\n",
      " Edge types:\n",
      "    default-0->default: [42076]\n",
      "        Weights: all 1 (default)\n",
      "        Features: none\n",
      "    default-1->default: [4604]\n",
      "        Weights: all 1 (default)\n",
      "        Features: none\n"
     ]
    }
   ],
   "source": [
    "df['edge_type'] = df['type'].map(lambda x: 1 if x == 'TSS' else 0)\n",
    "\n",
    "\n",
    "G = StellarDiGraph(edges=df[['source', 'target', 'edge_type']], edge_type_column='edge_type', nodes=feature_df)\n",
    "print(G.info())"
   ]
  },
  {
   "cell_type": "markdown",
   "metadata": {
    "colab_type": "text",
    "id": "hnm1j3a5el-A"
   },
   "source": [
    "## Data Generators\n",
    "\n",
    "Now we create the data generators using `CorruptedGenerator`. `CorruptedGenerator` returns shuffled node features along with the regular node features and we train our model to discriminate between the two. \n",
    "\n",
    "Note that:\n",
    "\n",
    "- We typically pass all nodes to `corrupted_generator.flow` because this is an unsupervised task\n",
    "- We don't pass `targets` to `corrupted_generator.flow` because these are binary labels (true nodes, false nodes) that are created by `CorruptedGenerator`"
   ]
  },
  {
   "cell_type": "code",
   "execution_count": 4,
   "metadata": {
    "colab": {},
    "colab_type": "code",
    "execution": {
     "iopub.execute_input": "2020-06-15T01:46:11.073909Z",
     "iopub.status.busy": "2020-06-15T01:46:11.072909Z",
     "iopub.status.idle": "2020-06-15T01:46:11.102910Z",
     "shell.execute_reply": "2020-06-15T01:46:11.102910Z",
     "shell.execute_reply.started": "2020-06-15T01:46:11.072909Z"
    },
    "id": "oGwDi_zeel-A",
    "outputId": "866833d4-f7ed-4dda-c58c-353f19e921ac"
   },
   "outputs": [],
   "source": [
    "# HinSAGE model \n",
    "hinsage_generator = HinSAGENodeGenerator(\n",
    "    G, batch_size=50, num_samples=[10, 10]\n",
    ")\n",
    "\n",
    "hinsage_model = HinSAGE(\n",
    "    layer_sizes=[64, 64], activations=[\"linear\", \"relu\"], generator=hinsage_generator\n",
    ")\n",
    "# hinsage_acc = run_deep_graph_infomax(hinsage_model, hinsage_generator, epochs=epochs)\n",
    "\n",
    "# print(f\"Test classification accuracy: {hinsage_acc}\")\n",
    "\n",
    "corrupted_generator = CorruptedGenerator(hinsage_generator)\n",
    "gen = corrupted_generator.flow(G.nodes())"
   ]
  },
  {
   "cell_type": "markdown",
   "metadata": {
    "colab_type": "text",
    "id": "JiiPI3qMel-C"
   },
   "source": [
    "## Model Creation and Training\n",
    "\n",
    "We create and train our `DeepGraphInfomax` model. Note that the loss used here must always be `tf.nn.sigmoid_cross_entropy_with_logits`."
   ]
  },
  {
   "cell_type": "code",
   "execution_count": 5,
   "metadata": {
    "colab": {},
    "colab_type": "code",
    "execution": {
     "iopub.execute_input": "2020-06-15T01:46:11.103910Z",
     "iopub.status.busy": "2020-06-15T01:46:11.103910Z",
     "iopub.status.idle": "2020-06-15T01:46:12.054909Z",
     "shell.execute_reply": "2020-06-15T01:46:12.054909Z",
     "shell.execute_reply.started": "2020-06-15T01:46:11.103910Z"
    },
    "id": "l82u77L5el-C"
   },
   "outputs": [],
   "source": [
    "infomax = DeepGraphInfomax(hinsage_model, corrupted_generator)\n",
    "x_in, x_out = infomax.in_out_tensors()\n",
    "\n",
    "model = Model(inputs=x_in, outputs=x_out)\n",
    "model.compile(loss=tf.nn.sigmoid_cross_entropy_with_logits, \n",
    "              optimizer=Adam(lr=1e-3),\n",
    "#               metrics=['loss']\n",
    "              )"
   ]
  },
  {
   "cell_type": "code",
   "execution_count": 6,
   "metadata": {
    "colab": {},
    "colab_type": "code",
    "execution": {
     "iopub.execute_input": "2020-06-15T01:46:12.055909Z",
     "iopub.status.busy": "2020-06-15T01:46:12.055909Z",
     "iopub.status.idle": "2020-06-15T01:46:12.069910Z",
     "shell.execute_reply": "2020-06-15T01:46:12.069910Z",
     "shell.execute_reply.started": "2020-06-15T01:46:12.055909Z"
    },
    "id": "2wCQIugxel-E",
    "tags": [
     "parameters"
    ]
   },
   "outputs": [],
   "source": [
    "epochs = 100"
   ]
  },
  {
   "cell_type": "code",
   "execution_count": 7,
   "metadata": {
    "execution": {
     "iopub.execute_input": "2020-06-15T01:46:12.070913Z",
     "iopub.status.busy": "2020-06-15T01:46:12.070913Z",
     "iopub.status.idle": "2020-06-15T01:46:12.085910Z",
     "shell.execute_reply": "2020-06-15T01:46:12.085910Z",
     "shell.execute_reply.started": "2020-06-15T01:46:12.070913Z"
    }
   },
   "outputs": [],
   "source": [
    "# # checkpoint (Not working here)\n",
    "# filepath=\"./checkpoints/weights-improvement-{epoch:02d}-{loss:.2f}.hdf5\"\n",
    "# cp = tf.keras.callbacks.ModelCheckpoint(str(filepath), \n",
    "#                              monitor='loss', \n",
    "#                              verbose=0, \n",
    "#                              save_best_only=True, \n",
    "#                              save_weights_only=True,\n",
    "#                              mode='auto')\n"
   ]
  },
  {
   "cell_type": "code",
   "execution_count": 8,
   "metadata": {
    "colab": {},
    "colab_type": "code",
    "execution": {
     "iopub.execute_input": "2020-06-15T01:46:12.087912Z",
     "iopub.status.busy": "2020-06-15T01:46:12.087912Z",
     "iopub.status.idle": "2020-06-15T07:05:58.324052Z",
     "shell.execute_reply": "2020-06-15T07:05:58.324052Z",
     "shell.execute_reply.started": "2020-06-15T01:46:12.087912Z"
    },
    "id": "uUnlywYael-G",
    "outputId": "0fdf7b8c-dbca-4575-e9f0-16aa79931772"
   },
   "outputs": [
    {
     "name": "stdout",
     "output_type": "stream",
     "text": [
      "WARNING:tensorflow:sample_weight modes were coerced from\n",
      "  ...\n",
      "    to  \n",
      "  ['...']\n",
      "Train for 177 steps\n",
      "Epoch 1/100\n",
      "177/177 [==============================] - 194s 1s/step - loss: 0.0975\n",
      "Epoch 2/100\n",
      "177/177 [==============================] - 197s 1s/step - loss: 0.0016\n",
      "Epoch 3/100\n",
      "177/177 [==============================] - 194s 1s/step - loss: 5.7751e-04\n",
      "Epoch 4/100\n",
      "177/177 [==============================] - 196s 1s/step - loss: 3.1084e-04\n",
      "Epoch 5/100\n",
      "177/177 [==============================] - 195s 1s/step - loss: 1.8799e-04\n",
      "Epoch 6/100\n",
      "177/177 [==============================] - 194s 1s/step - loss: 1.5307e-04\n",
      "Epoch 7/100\n",
      "177/177 [==============================] - 194s 1s/step - loss: 9.7489e-05\n",
      "Epoch 8/100\n",
      "177/177 [==============================] - 195s 1s/step - loss: 8.3846e-05\n",
      "Epoch 9/100\n",
      "177/177 [==============================] - 194s 1s/step - loss: 7.4434e-05\n",
      "Epoch 10/100\n",
      "177/177 [==============================] - 193s 1s/step - loss: 5.5026e-05\n",
      "Epoch 11/100\n",
      "177/177 [==============================] - 194s 1s/step - loss: 5.1825e-05\n",
      "Epoch 12/100\n",
      "177/177 [==============================] - 195s 1s/step - loss: 3.9434e-05\n",
      "Epoch 13/100\n",
      "177/177 [==============================] - 194s 1s/step - loss: 3.1749e-05\n",
      "Epoch 14/100\n",
      "177/177 [==============================] - 194s 1s/step - loss: 8.5814e-04\n",
      "Epoch 15/100\n",
      "177/177 [==============================] - 193s 1s/step - loss: 0.0011\n",
      "Epoch 16/100\n",
      "177/177 [==============================] - 193s 1s/step - loss: 2.6236e-04\n",
      "Epoch 17/100\n",
      "177/177 [==============================] - 195s 1s/step - loss: 5.0639e-05\n",
      "Epoch 18/100\n",
      "177/177 [==============================] - 197s 1s/step - loss: 7.1038e-05\n",
      "Epoch 19/100\n",
      "177/177 [==============================] - 193s 1s/step - loss: 2.3634e-05\n",
      "Epoch 20/100\n",
      "177/177 [==============================] - 195s 1s/step - loss: 2.8072e-05\n",
      "Epoch 21/100\n",
      "177/177 [==============================] - 191s 1s/step - loss: 1.0341e-04\n",
      "Epoch 22/100\n",
      "177/177 [==============================] - 192s 1s/step - loss: 8.2222e-05\n",
      "Epoch 23/100\n",
      "177/177 [==============================] - 191s 1s/step - loss: 0.0073\n",
      "Epoch 24/100\n",
      "177/177 [==============================] - 190s 1s/step - loss: 5.6823e-04\n",
      "Epoch 25/100\n",
      "177/177 [==============================] - 193s 1s/step - loss: 1.0357e-04\n",
      "Epoch 26/100\n",
      "177/177 [==============================] - 190s 1s/step - loss: 3.1389e-05\n",
      "Epoch 27/100\n",
      "177/177 [==============================] - 190s 1s/step - loss: 1.8491e-05\n",
      "Epoch 28/100\n",
      "177/177 [==============================] - 190s 1s/step - loss: 1.4908e-05\n",
      "Epoch 29/100\n",
      "177/177 [==============================] - 190s 1s/step - loss: 9.7578e-06\n",
      "Epoch 30/100\n",
      "177/177 [==============================] - 190s 1s/step - loss: 1.1869e-05\n",
      "Epoch 31/100\n",
      "177/177 [==============================] - 189s 1s/step - loss: 1.1372e-05\n",
      "Epoch 32/100\n",
      "177/177 [==============================] - 190s 1s/step - loss: 8.9034e-06\n",
      "Epoch 33/100\n",
      "177/177 [==============================] - 189s 1s/step - loss: 8.7291e-06\n",
      "Epoch 34/100\n",
      "177/177 [==============================] - 190s 1s/step - loss: 7.4937e-06\n",
      "Epoch 35/100\n",
      "177/177 [==============================] - 189s 1s/step - loss: 7.5470e-06\n",
      "Epoch 36/100\n",
      "177/177 [==============================] - 195s 1s/step - loss: 3.2372e-05\n",
      "Epoch 37/100\n",
      "177/177 [==============================] - 197s 1s/step - loss: 8.6651e-06\n",
      "Epoch 38/100\n",
      "177/177 [==============================] - 196s 1s/step - loss: 8.2453e-06\n",
      "Epoch 39/100\n",
      "177/177 [==============================] - 195s 1s/step - loss: 5.2197e-06\n",
      "Epoch 40/100\n",
      "177/177 [==============================] - 195s 1s/step - loss: 3.3156e-06\n",
      "Epoch 41/100\n",
      "177/177 [==============================] - 195s 1s/step - loss: 4.2173e-06\n",
      "Epoch 42/100\n",
      "177/177 [==============================] - 195s 1s/step - loss: 3.2094e-05\n",
      "Epoch 43/100\n",
      "177/177 [==============================] - 195s 1s/step - loss: 4.0481e-06\n",
      "Epoch 44/100\n",
      "177/177 [==============================] - 199s 1s/step - loss: 3.2920e-06\n",
      "Epoch 45/100\n",
      "177/177 [==============================] - 199s 1s/step - loss: 1.7427e-06\n",
      "Epoch 46/100\n",
      "177/177 [==============================] - 198s 1s/step - loss: 3.1314e-06\n",
      "Epoch 47/100\n",
      "177/177 [==============================] - 199s 1s/step - loss: 1.5471e-06\n",
      "Epoch 48/100\n",
      "177/177 [==============================] - 198s 1s/step - loss: 1.4551e-06\n",
      "Epoch 49/100\n",
      "177/177 [==============================] - 192s 1s/step - loss: 1.4096e-06\n",
      "Epoch 50/100\n",
      "177/177 [==============================] - 190s 1s/step - loss: 1.3101e-06\n",
      "Epoch 51/100\n",
      "177/177 [==============================] - 190s 1s/step - loss: 1.2268e-06\n",
      "Epoch 52/100\n",
      "177/177 [==============================] - 190s 1s/step - loss: 1.2371e-06\n",
      "Epoch 53/100\n",
      "177/177 [==============================] - 190s 1s/step - loss: 1.1295e-06\n",
      "Epoch 54/100\n",
      "177/177 [==============================] - 190s 1s/step - loss: 0.0052\n",
      "Epoch 55/100\n",
      "177/177 [==============================] - 190s 1s/step - loss: 4.4955e-04\n",
      "Epoch 56/100\n",
      "177/177 [==============================] - 189s 1s/step - loss: 1.3841e-04\n",
      "Epoch 57/100\n",
      "177/177 [==============================] - 190s 1s/step - loss: 1.4150e-05\n",
      "Epoch 58/100\n",
      "177/177 [==============================] - 190s 1s/step - loss: 2.4837e-04\n",
      "Epoch 59/100\n",
      "177/177 [==============================] - 190s 1s/step - loss: 9.7092e-05\n",
      "Epoch 60/100\n",
      "177/177 [==============================] - 190s 1s/step - loss: 5.2896e-06\n",
      "Epoch 61/100\n",
      "177/177 [==============================] - 190s 1s/step - loss: 3.8172e-06\n",
      "Epoch 62/100\n",
      "177/177 [==============================] - 190s 1s/step - loss: 2.6361e-06\n",
      "Epoch 63/100\n",
      "177/177 [==============================] - 190s 1s/step - loss: 4.7408e-06\n",
      "Epoch 64/100\n",
      "177/177 [==============================] - 190s 1s/step - loss: 2.3960e-06\n",
      "Epoch 65/100\n",
      "177/177 [==============================] - 189s 1s/step - loss: 1.9878e-06\n",
      "Epoch 66/100\n",
      "177/177 [==============================] - 190s 1s/step - loss: 1.8534e-06\n",
      "Epoch 67/100\n",
      "177/177 [==============================] - 190s 1s/step - loss: 1.6338e-06\n",
      "Epoch 68/100\n",
      "177/177 [==============================] - 189s 1s/step - loss: 1.6577e-06\n",
      "Epoch 69/100\n",
      "177/177 [==============================] - 189s 1s/step - loss: 1.4696e-06\n",
      "Epoch 70/100\n",
      "177/177 [==============================] - 189s 1s/step - loss: 1.5462e-06\n",
      "Epoch 71/100\n",
      "177/177 [==============================] - 189s 1s/step - loss: 1.8393e-06\n",
      "Epoch 72/100\n",
      "177/177 [==============================] - 190s 1s/step - loss: 2.8112e-06\n",
      "Epoch 73/100\n",
      "177/177 [==============================] - 189s 1s/step - loss: 1.0715e-06\n",
      "Epoch 74/100\n",
      "177/177 [==============================] - 189s 1s/step - loss: 1.3566e-06\n",
      "Epoch 75/100\n",
      "177/177 [==============================] - 189s 1s/step - loss: 1.2169e-06\n",
      "Epoch 76/100\n",
      "177/177 [==============================] - 190s 1s/step - loss: 9.0122e-07\n",
      "Epoch 77/100\n",
      "177/177 [==============================] - 190s 1s/step - loss: 7.7527e-07\n",
      "Epoch 78/100\n",
      "177/177 [==============================] - 189s 1s/step - loss: 7.0400e-07\n",
      "Epoch 79/100\n",
      "177/177 [==============================] - 190s 1s/step - loss: 6.3448e-07\n",
      "Epoch 80/100\n",
      "177/177 [==============================] - 191s 1s/step - loss: 6.8252e-07\n",
      "Epoch 81/100\n",
      "177/177 [==============================] - 191s 1s/step - loss: 6.4861e-07\n",
      "Epoch 82/100\n",
      "177/177 [==============================] - 191s 1s/step - loss: 5.0604e-07\n",
      "Epoch 83/100\n",
      "177/177 [==============================] - 191s 1s/step - loss: 5.1852e-07\n",
      "Epoch 84/100\n",
      "177/177 [==============================] - 191s 1s/step - loss: 4.3636e-07\n",
      "Epoch 85/100\n",
      "177/177 [==============================] - 190s 1s/step - loss: 5.6345e-07\n",
      "Epoch 86/100\n",
      "177/177 [==============================] - 191s 1s/step - loss: 3.9451e-07\n",
      "Epoch 87/100\n",
      "177/177 [==============================] - 191s 1s/step - loss: 3.9868e-07\n",
      "Epoch 88/100\n",
      "177/177 [==============================] - 191s 1s/step - loss: 5.2755e-07\n",
      "Epoch 89/100\n",
      "177/177 [==============================] - 190s 1s/step - loss: 3.0244e-07\n",
      "Epoch 90/100\n",
      "177/177 [==============================] - 191s 1s/step - loss: 3.4433e-07\n",
      "Epoch 91/100\n",
      "177/177 [==============================] - 191s 1s/step - loss: 5.8685e-07\n",
      "Epoch 92/100\n",
      "177/177 [==============================] - 192s 1s/step - loss: 2.8581e-07\n",
      "Epoch 93/100\n",
      "177/177 [==============================] - 191s 1s/step - loss: 3.1747e-07\n",
      "Epoch 94/100\n",
      "177/177 [==============================] - 191s 1s/step - loss: 4.4829e-07\n",
      "Epoch 95/100\n",
      "177/177 [==============================] - 191s 1s/step - loss: 1.9639e-07\n",
      "Epoch 96/100\n",
      "177/177 [==============================] - 191s 1s/step - loss: 1.8726e-07\n",
      "Epoch 97/100\n",
      "177/177 [==============================] - 191s 1s/step - loss: 1.7133e-07\n",
      "Epoch 98/100\n",
      "177/177 [==============================] - 191s 1s/step - loss: 1.5834e-07\n",
      "Epoch 99/100\n",
      "177/177 [==============================] - 191s 1s/step - loss: 1.6806e-07\n",
      "Epoch 100/100\n",
      "177/177 [==============================] - 191s 1s/step - loss: 1.4089e-07\n"
     ]
    }
   ],
   "source": [
    "es = EarlyStopping(monitor=\"loss\", min_delta=0, patience=20)\n",
    "\n",
    "history = model.fit(gen, epochs=epochs, verbose=1, callbacks=[es])\n"
   ]
  },
  {
   "cell_type": "code",
   "execution_count": 9,
   "metadata": {
    "execution": {
     "iopub.execute_input": "2020-06-15T07:47:03.267162Z",
     "iopub.status.busy": "2020-06-15T07:47:03.267162Z",
     "iopub.status.idle": "2020-06-15T07:47:03.346187Z",
     "shell.execute_reply": "2020-06-15T07:47:03.346187Z",
     "shell.execute_reply.started": "2020-06-15T07:47:03.267162Z"
    }
   },
   "outputs": [],
   "source": [
    "model_name='joint_[64,64]_[linear,relu]_[10,10]'\n",
    "model.save(f'./cps/{model_name}.h5')"
   ]
  },
  {
   "cell_type": "code",
   "execution_count": 10,
   "metadata": {
    "execution": {
     "iopub.execute_input": "2020-06-15T07:47:04.658898Z",
     "iopub.status.busy": "2020-06-15T07:47:04.657897Z",
     "iopub.status.idle": "2020-06-15T07:47:04.787761Z",
     "shell.execute_reply": "2020-06-15T07:47:04.787761Z",
     "shell.execute_reply.started": "2020-06-15T07:47:04.658898Z"
    }
   },
   "outputs": [
    {
     "data": {
      "image/png": "[encoded data removed]",
      "text/plain": [
       "<Figure size 504x288 with 1 Axes>"
      ]
     },
     "metadata": {
      "needs_background": "light"
     },
     "output_type": "display_data"
    }
   ],
   "source": [
    "plot_history(history)"
   ]
  },
  {
   "cell_type": "markdown",
   "metadata": {
    "colab_type": "text",
    "id": "zk0ao0QBel-I"
   },
   "source": [
    "## Extracting Embeddings\n",
    "\n",
    "Since we've already trained the weights of our base model - HinSAGE in this example - we can simply use `base_model.in_out_tensors` to obtain the trained node embedding model. "
   ]
  },
  {
   "cell_type": "code",
   "execution_count": 11,
   "metadata": {
    "colab": {},
    "colab_type": "code",
    "execution": {
     "iopub.execute_input": "2020-06-15T07:47:07.124379Z",
     "iopub.status.busy": "2020-06-15T07:47:07.124379Z",
     "iopub.status.idle": "2020-06-15T07:47:07.347053Z",
     "shell.execute_reply": "2020-06-15T07:47:07.347053Z",
     "shell.execute_reply.started": "2020-06-15T07:47:07.124379Z"
    },
    "id": "J2vdCBvnel-I"
   },
   "outputs": [],
   "source": [
    "x_emb_in, x_emb_out = hinsage_model.in_out_tensors()\n",
    "\n",
    "# for full batch models, squeeze out the batch dim (which is 1)\n",
    "# x_out = tf.squeeze(x_emb_out, axis=0)\n",
    "# emb_model = Model(inputs=x_emb_in, outputs=x_out)\n",
    "\n",
    "# not using full batch models\n",
    "emb_model = Model(inputs=x_emb_in, outputs=x_emb_out)"
   ]
  },
  {
   "cell_type": "markdown",
   "metadata": {
    "colab_type": "text",
    "id": "ZfOk_QsBel-M"
   },
   "source": [
    "## Visualisation with TSNE\n",
    "\n",
    "Here we visualize the node embeddings with TSNE. As you can see below, the Deep Graph Infomax model produces well separated embeddings using unsupervised training."
   ]
  },
  {
   "cell_type": "code",
   "execution_count": null,
   "metadata": {
    "colab": {},
    "colab_type": "code",
    "execution": {
     "iopub.execute_input": "2020-06-15T07:47:09.179455Z",
     "iopub.status.busy": "2020-06-15T07:47:09.178455Z"
    },
    "id": "9uuztWSgel-M"
   },
   "outputs": [],
   "source": [
    "all_embeddings = emb_model.predict(hinsage_generator.flow(G.nodes()))\n",
    "\n",
    "# y = node_subjects.astype(\"category\")\n",
    "trans = TSNE(n_components=2)\n",
    "emb_transformed = pd.DataFrame(trans.fit_transform(all_embeddings), index=G.nodes())\n",
    "# emb_transformed[\"label\"] = y"
   ]
  },
  {
   "cell_type": "code",
   "execution_count": null,
   "metadata": {},
   "outputs": [],
   "source": [
    "tf2gene = df[df['type'] == 'TSS']\n",
    "tfs = set(tf2gene['source'])\n",
    "print(tfs)\n",
    "\n",
    "def geneType(name):\n",
    "    if name in tfs:\n",
    "        return 1   # 1 represents TFs\n",
    "    else:\n",
    "        return 0   # 2 represents normal gene\n",
    "\n",
    "emb_transformed['type'] = emb_transformed.index.map(geneType)"
   ]
  },
  {
   "cell_type": "code",
   "execution_count": null,
   "metadata": {
    "colab": {},
    "colab_type": "code",
    "id": "-gVWq4nxel-O",
    "outputId": "8492234e-cae9-4d6e-ad4a-7221bf5b0676"
   },
   "outputs": [],
   "source": [
    "alpha = 0.7\n",
    "\n",
    "fig, ax = plt.subplots(figsize=(7, 7))\n",
    "ax.scatter(\n",
    "    emb_transformed[0],\n",
    "    emb_transformed[1],\n",
    "    c=emb_transformed[\"type\"],\n",
    "    cmap=\"jet\",\n",
    "    alpha=alpha,\n",
    "    s=5\n",
    ")\n",
    "ax.set(aspect=\"equal\", xlabel=\"$X_1$\", ylabel=\"$X_2$\")\n",
    "plt.title(f\"TSNE visualization of HinSAGE embeddings for {model_name}\")\n",
    "\n",
    "plt.savefig(f'./img/{model_name}.png', dpi=150)\n",
    "plt.show()\n",
    "\n"
   ]
  },
  {
   "cell_type": "code",
   "execution_count": null,
   "metadata": {},
   "outputs": [],
   "source": []
  }
 ],
 "metadata": {
  "celltoolbar": "Tags",
  "colab": {
   "name": "deep-graph-infomax-embeddings.ipynb",
   "provenance": []
  },
  "kernelspec": {
   "display_name": "Python 3",
   "language": "python",
   "name": "python3"
  },
  "language_info": {
   "codemirror_mode": {
    "name": "ipython",
    "version": 3
   },
   "file_extension": ".py",
   "mimetype": "text/x-python",
   "name": "python",
   "nbconvert_exporter": "python",
   "pygments_lexer": "ipython3",
   "version": "3.7.7"
  }
 },
 "nbformat": 4,
 "nbformat_minor": 4
}
