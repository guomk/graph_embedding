{
 "cells": [
  {
   "cell_type": "markdown",
   "metadata": {},
   "source": [
    "## 1 说明\n",
    "距离近且稳定：  ZNF274  \n",
    "距离近但不稳定： RCOR1  UBTF"
   ]
  },
  {
   "cell_type": "code",
   "execution_count": 23,
   "metadata": {},
   "outputs": [],
   "source": [
    "import numpy as np\n",
    "import pandas as pd\n",
    "import networkx as nx"
   ]
  },
  {
   "cell_type": "code",
   "execution_count": 24,
   "metadata": {},
   "outputs": [],
   "source": [
    "# load data\n",
    "edge_data_gm = pd.read_csv('EC-003-NET.edgeList_TSS_GM12878.tsv',sep='\\t',header=None)\n",
    "edge_data_gm = edge_data_gm.iloc[:,[1,2,4]]\n",
    "edge_data_gm.columns = ['source', 'target', 'weight']\n",
    "G_gm = nx.from_pandas_edgelist(edge_data_gm, 'source', 'target', 'weight')\n",
    "\n",
    "edge_data_k = pd.read_csv('EC-003-NET.edgeList_TSS_K562.tsv',sep='\\t',header=None)\n",
    "edge_data_k = edge_data_k.iloc[:,[1,2,4]]\n",
    "edge_data_k.columns = ['source', 'target', 'weight']\n",
    "G_k = nx.from_pandas_edgelist(edge_data_k, 'source', 'target', 'weight')"
   ]
  },
  {
   "cell_type": "code",
   "execution_count": 25,
   "metadata": {},
   "outputs": [],
   "source": [
    "def neighbor1(G, node):\n",
    "    neighbor1 = nx.neighbors(G,node)\n",
    "    neighbor1_list = [i for i in neighbor1]\n",
    "    neighbor1_num = len(neighbor1_list)\n",
    "    \n",
    "    return neighbor1_num ,neighbor1_list\n",
    "\n",
    "\n",
    "def neighbor2(G, node):\n",
    "    n1_num, n1_list = neighbor1(G, node)\n",
    "    n2_list = []\n",
    "    for n1_node in n1_list:\n",
    "        tem_num, tem_list = neighbor1(G, n1_node)\n",
    "        n2_list += tem_list\n",
    "    neighbor2_list = list(set(n2_list))\n",
    "    neighbor2_num = len(neighbor2_list)\n",
    "    \n",
    "    return neighbor2_num, neighbor2_list\n",
    "            "
   ]
  },
  {
   "cell_type": "code",
   "execution_count": 39,
   "metadata": {},
   "outputs": [],
   "source": [
    "node_type = {}\n",
    "node_type['ZNF274'] = '距离近且稳定'\n",
    "node_type['POLR2AphosphoS2'] = '距离近且稳定'\n",
    "node_type['UBTF'] = '距离近但不稳定'\n",
    "node_type['RCOR1'] = '距离近但不稳定'\n",
    "node_type['ETS1'] = '距离近但不稳定'\n",
    "node_type['YY1'] = '距离远'"
   ]
  },
  {
   "cell_type": "code",
   "execution_count": 40,
   "metadata": {},
   "outputs": [],
   "source": [
    "result_df = pd.DataFrame(columns = ['node','type','neighbor1_gm','neighbor2_gm','neighbor1_k','neighbor2_k'])\n",
    "\n",
    "for node,type_name in node_type.items():\n",
    "    neighbor1_gm_num, neighbor1_gm_list = neighbor1(G_gm, node)\n",
    "    neighbor2_gm_num, neighbor2_gm_list = neighbor2(G_gm, node)\n",
    "    neighbor1_k_num, neighbor1_k_list = neighbor1(G_k, node)\n",
    "    neighbor2_k_num, neighbor2_k_list = neighbor2(G_k, node)\n",
    "    node_data = pd.Series({'node': node,\n",
    "                           'type': type_name,\n",
    "                           'neighbor1_gm': neighbor1_gm_num,\n",
    "                           'neighbor2_gm': neighbor2_gm_num,\n",
    "                           'neighbor1_k': neighbor1_k_num,\n",
    "                           'neighbor2_k': neighbor2_k_num})\n",
    "    result_df = result_df.append(node_data, ignore_index=True)"
   ]
  },
  {
   "cell_type": "code",
   "execution_count": 41,
   "metadata": {},
   "outputs": [
    {
     "data": {
      "text/html": [
       "<div>\n",
       "<style scoped>\n",
       "    .dataframe tbody tr th:only-of-type {\n",
       "        vertical-align: middle;\n",
       "    }\n",
       "\n",
       "    .dataframe tbody tr th {\n",
       "        vertical-align: top;\n",
       "    }\n",
       "\n",
       "    .dataframe thead th {\n",
       "        text-align: right;\n",
       "    }\n",
       "</style>\n",
       "<table border=\"1\" class=\"dataframe\">\n",
       "  <thead>\n",
       "    <tr style=\"text-align: right;\">\n",
       "      <th></th>\n",
       "      <th>node</th>\n",
       "      <th>type</th>\n",
       "      <th>neighbor1_gm</th>\n",
       "      <th>neighbor2_gm</th>\n",
       "      <th>neighbor1_k</th>\n",
       "      <th>neighbor2_k</th>\n",
       "    </tr>\n",
       "  </thead>\n",
       "  <tbody>\n",
       "    <tr>\n",
       "      <th>0</th>\n",
       "      <td>ZNF274</td>\n",
       "      <td>距离近且稳定</td>\n",
       "      <td>59</td>\n",
       "      <td>15844</td>\n",
       "      <td>427</td>\n",
       "      <td>17498</td>\n",
       "    </tr>\n",
       "    <tr>\n",
       "      <th>1</th>\n",
       "      <td>POLR2AphosphoS2</td>\n",
       "      <td>距离近且稳定</td>\n",
       "      <td>6388</td>\n",
       "      <td>16023</td>\n",
       "      <td>2981</td>\n",
       "      <td>16765</td>\n",
       "    </tr>\n",
       "    <tr>\n",
       "      <th>2</th>\n",
       "      <td>UBTF</td>\n",
       "      <td>距离近但不稳定</td>\n",
       "      <td>803</td>\n",
       "      <td>16303</td>\n",
       "      <td>4406</td>\n",
       "      <td>17725</td>\n",
       "    </tr>\n",
       "    <tr>\n",
       "      <th>3</th>\n",
       "      <td>RCOR1</td>\n",
       "      <td>距离近但不稳定</td>\n",
       "      <td>954</td>\n",
       "      <td>16145</td>\n",
       "      <td>8402</td>\n",
       "      <td>17698</td>\n",
       "    </tr>\n",
       "    <tr>\n",
       "      <th>4</th>\n",
       "      <td>ETS1</td>\n",
       "      <td>距离近但不稳定</td>\n",
       "      <td>3747</td>\n",
       "      <td>15995</td>\n",
       "      <td>7308</td>\n",
       "      <td>17631</td>\n",
       "    </tr>\n",
       "    <tr>\n",
       "      <th>5</th>\n",
       "      <td>YY1</td>\n",
       "      <td>距离远</td>\n",
       "      <td>10845</td>\n",
       "      <td>16318</td>\n",
       "      <td>8446</td>\n",
       "      <td>17724</td>\n",
       "    </tr>\n",
       "  </tbody>\n",
       "</table>\n",
       "</div>"
      ],
      "text/plain": [
       "              node     type neighbor1_gm neighbor2_gm neighbor1_k neighbor2_k\n",
       "0           ZNF274   距离近且稳定           59        15844         427       17498\n",
       "1  POLR2AphosphoS2   距离近且稳定         6388        16023        2981       16765\n",
       "2             UBTF  距离近但不稳定          803        16303        4406       17725\n",
       "3            RCOR1  距离近但不稳定          954        16145        8402       17698\n",
       "4             ETS1  距离近但不稳定         3747        15995        7308       17631\n",
       "5              YY1      距离远        10845        16318        8446       17724"
      ]
     },
     "execution_count": 41,
     "metadata": {},
     "output_type": "execute_result"
    }
   ],
   "source": [
    "result_df"
   ]
  },
  {
   "cell_type": "code",
   "execution_count": 37,
   "metadata": {},
   "outputs": [
    {
     "data": {
      "text/plain": [
       "True"
      ]
     },
     "execution_count": 37,
     "metadata": {},
     "output_type": "execute_result"
    }
   ],
   "source": [
    "'POLR2AphosphoS2' in G_gm.nodes()"
   ]
  },
  {
   "cell_type": "code",
   "execution_count": null,
   "metadata": {},
   "outputs": [],
   "source": []
  }
 ],
 "metadata": {
  "kernelspec": {
   "display_name": "Python 3",
   "language": "python",
   "name": "python3"
  },
  "language_info": {
   "codemirror_mode": {
    "name": "ipython",
    "version": 3
   },
   "file_extension": ".py",
   "mimetype": "text/x-python",
   "name": "python",
   "nbconvert_exporter": "python",
   "pygments_lexer": "ipython3",
   "version": "3.8.3"
  }
 },
 "nbformat": 4,
 "nbformat_minor": 4
}
