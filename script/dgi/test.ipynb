{
 "cells": [
  {
   "cell_type": "code",
   "execution_count": 6,
   "metadata": {},
   "outputs": [],
   "source": [
    "import pandas as pd\n",
    "from pathlib import Path\n",
    "from helper import Preprocess"
   ]
  },
  {
   "cell_type": "code",
   "execution_count": 7,
   "metadata": {},
   "outputs": [
    {
     "output_type": "execute_result",
     "data": {
      "text/plain": "<function helper.Preprocess.raw2tf(self, path_to_data, option, save=False)>"
     },
     "metadata": {},
     "execution_count": 7
    }
   ],
   "source": [
    "Preprocess.raw2tf"
   ]
  },
  {
   "cell_type": "code",
   "execution_count": 12,
   "metadata": {
    "tags": []
   },
   "outputs": [
    {
     "output_type": "stream",
     "name": "stdout",
     "text": "tf\n0      ZNF24\n1       TAF1\n2        ID3\n3      CEBPG\n4      ZNF83\n..       ...\n204  SMARCA4\n205   ZNF589\n206     DPF2\n207     BRF2\n208  SMARCB1\n\n[209 rows x 1 columns]\n"
    }
   ],
   "source": [
    "path_to_data = '../../data/'\n",
    "# path = Path(path_to_data)\n",
    "df = Preprocess().raw2tf(path_to_data=path_to_data, option='union')\n",
    "print(df)"
   ]
  },
  {
   "cell_type": "code",
   "execution_count": null,
   "metadata": {},
   "outputs": [],
   "source": []
  }
 ],
 "metadata": {
  "language_info": {
   "codemirror_mode": {
    "name": "ipython",
    "version": 3
   },
   "file_extension": ".py",
   "mimetype": "text/x-python",
   "name": "python",
   "nbconvert_exporter": "python",
   "pygments_lexer": "ipython3",
   "version": "3.7.7-final"
  },
  "orig_nbformat": 2,
  "kernelspec": {
   "name": "python3",
   "display_name": "Python 3"
  }
 },
 "nbformat": 4,
 "nbformat_minor": 2
}