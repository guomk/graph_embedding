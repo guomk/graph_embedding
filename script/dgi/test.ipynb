{
 "cells": [
  {
   "cell_type": "code",
   "execution_count": 4,
   "metadata": {},
   "outputs": [],
   "source": [
    "import pandas as pd\n",
    "from pathlib import Path"
   ]
  },
  {
   "cell_type": "code",
   "execution_count": 5,
   "metadata": {
    "tags": []
   },
   "outputs": [
    {
     "output_type": "stream",
     "name": "stdout",
     "text": "0     1      2    3           4\n0  GM12878  ATF2   HES4  TSS  674.551267\n1  GM12878  ATF2  ISG15  TSS  261.000000\n2  GM12878  ATF2   AGRN  TSS  190.035403\n3  GM12878  ATF2  ACAP3  TSS  226.268091\n4  GM12878  ATF2  PUSL1  TSS  241.000000\n"
    }
   ],
   "source": [
    "path_to_data = '../../data/'\n",
    "path = Path(path_to_data)\n",
    "df = pd.read_csv(path / 'EC-003-NET.edgeList_TSS_GM12878.tsv', sep='\\t', header=None)\n",
    "print(df.head())"
   ]
  },
  {
   "cell_type": "code",
   "execution_count": null,
   "metadata": {},
   "outputs": [],
   "source": []
  }
 ],
 "metadata": {
  "language_info": {
   "codemirror_mode": {
    "name": "ipython",
    "version": 3
   },
   "file_extension": ".py",
   "mimetype": "text/x-python",
   "name": "python",
   "nbconvert_exporter": "python",
   "pygments_lexer": "ipython3",
   "version": "3.7.7-final"
  },
  "orig_nbformat": 2,
  "kernelspec": {
   "name": "python3",
   "display_name": "Python 3"
  }
 },
 "nbformat": 4,
 "nbformat_minor": 2
}