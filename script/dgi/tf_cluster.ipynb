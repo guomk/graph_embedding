{
 "cells": [
  {
   "cell_type": "code",
   "execution_count": 1,
   "metadata": {},
   "outputs": [],
   "source": [
    "from collections import Counter\n",
    "from pprint import pprint\n",
    "from pathlib import Path\n",
    "import pandas as pd\n",
    "import matplotlib.cm as cm\n",
    "import matplotlib.pyplot as plt\n",
    "import networkx as nx\n",
    "from community import community_louvain\n",
    "from helper import Preprocess\n",
    "from sklearn.neighbors import NearestNeighbors\n",
    "import numpy as np\n",
    "from numpy import linalg as LA\n",
    "\n",
    "from sklearn.manifold import TSNE"
   ]
  },
  {
   "cell_type": "code",
   "execution_count": 3,
   "metadata": {},
   "outputs": [],
   "source": [
    "FILE_NAME = '64_relu_30_5_adjacentTF_1e-4'\n",
    "DATA_DIR = Path(\"../../data/\")"
   ]
  },
  {
   "cell_type": "markdown",
   "metadata": {},
   "source": [
    "We first map the vectors in embedded space to a graph using KNN algorithm"
   ]
  },
  {
   "cell_type": "code",
   "execution_count": 1,
   "metadata": {
    "tags": []
   },
   "outputs": [
    {
     "output_type": "error",
     "ename": "NameError",
     "evalue": "name 'pd' is not defined",
     "traceback": [
      "\u001b[0;31m---------------------------------------------------------------------------\u001b[0m",
      "\u001b[0;31mNameError\u001b[0m                                 Traceback (most recent call last)",
      "\u001b[0;32m<ipython-input-1-8d694d269ac7>\u001b[0m in \u001b[0;36m<module>\u001b[0;34m\u001b[0m\n\u001b[0;32m----> 1\u001b[0;31m \u001b[0memb_df\u001b[0m \u001b[0;34m=\u001b[0m \u001b[0mpd\u001b[0m\u001b[0;34m.\u001b[0m\u001b[0mread_csv\u001b[0m\u001b[0;34m(\u001b[0m\u001b[0;34mf'./emb/{FILE_NAME}.csv'\u001b[0m\u001b[0;34m,\u001b[0m \u001b[0mindex_col\u001b[0m\u001b[0;34m=\u001b[0m\u001b[0;36m0\u001b[0m\u001b[0;34m)\u001b[0m\u001b[0;34m\u001b[0m\u001b[0;34m\u001b[0m\u001b[0m\n\u001b[0m\u001b[1;32m      2\u001b[0m \u001b[0;34m\u001b[0m\u001b[0m\n\u001b[1;32m      3\u001b[0m \u001b[0mgm_emb_df\u001b[0m \u001b[0;34m=\u001b[0m \u001b[0memb_df\u001b[0m\u001b[0;34m[\u001b[0m\u001b[0memb_df\u001b[0m\u001b[0;34m[\u001b[0m\u001b[0;34m'type'\u001b[0m\u001b[0;34m]\u001b[0m \u001b[0;34m==\u001b[0m \u001b[0;36m2\u001b[0m\u001b[0;34m]\u001b[0m\u001b[0;34m.\u001b[0m\u001b[0mdrop\u001b[0m\u001b[0;34m(\u001b[0m\u001b[0;34m[\u001b[0m\u001b[0;34m'type'\u001b[0m\u001b[0;34m]\u001b[0m\u001b[0;34m,\u001b[0m \u001b[0maxis\u001b[0m\u001b[0;34m=\u001b[0m\u001b[0;34m'columns'\u001b[0m\u001b[0;34m)\u001b[0m\u001b[0;34m\u001b[0m\u001b[0;34m\u001b[0m\u001b[0m\n\u001b[1;32m      4\u001b[0m \u001b[0mk_emb_df\u001b[0m \u001b[0;34m=\u001b[0m \u001b[0memb_df\u001b[0m\u001b[0;34m[\u001b[0m\u001b[0memb_df\u001b[0m\u001b[0;34m[\u001b[0m\u001b[0;34m'type'\u001b[0m\u001b[0;34m]\u001b[0m \u001b[0;34m==\u001b[0m \u001b[0;36m1\u001b[0m\u001b[0;34m]\u001b[0m\u001b[0;34m.\u001b[0m\u001b[0mdrop\u001b[0m\u001b[0;34m(\u001b[0m\u001b[0;34m[\u001b[0m\u001b[0;34m'type'\u001b[0m\u001b[0;34m]\u001b[0m\u001b[0;34m,\u001b[0m \u001b[0maxis\u001b[0m\u001b[0;34m=\u001b[0m\u001b[0;34m'columns'\u001b[0m\u001b[0;34m)\u001b[0m\u001b[0;34m\u001b[0m\u001b[0;34m\u001b[0m\u001b[0m\n\u001b[1;32m      5\u001b[0m \u001b[0;34m\u001b[0m\u001b[0m\n",
      "\u001b[0;31mNameError\u001b[0m: name 'pd' is not defined"
     ]
    }
   ],
   "source": [
    "emb_df = pd.read_csv(f'./emb/{FILE_NAME}.csv', index_col=0)\n",
    "\n",
    "gm_emb_df = emb_df[emb_df['type'] == 2].drop(['type'], axis='columns')\n",
    "k_emb_df = emb_df[emb_df['type'] == 1].drop(['type'], axis='columns')\n",
    "\n",
    "gm_emb = gm_emb_df.to_numpy()\n",
    "k_emb = k_emb_df.to_numpy()\n",
    "\n",
    "# use KNN to find nearest neighbors of every node\n",
    "# GM12878\n",
    "idx = list(gm_emb_df.index)\n",
    "idx2name = dict()\n",
    "for i, name in enumerate(idx):\n",
    "    idx2name[i] = name\n",
    "\n",
    "n_neighbors = 10\n",
    "print('Running KNN for GM12878...')\n",
    "nbrs = NearestNeighbors(n_neighbors=n_neighbors, algorithm='ball_tree').fit(gm_emb)\n",
    "gm_distance, gm_indices = nbrs.kneighbors(gm_emb)\n",
    "print('KNN for GM12878 completed!')\n",
    "\n",
    "gm_edgelist = []\n",
    "print('Creating edgelist...')\n",
    "for i, name in enumerate(gm_emb_df.index):\n",
    "    for j in range(len(gm_indices[i])):\n",
    "        temp = []\n",
    "        if j != 0:\n",
    "            temp.append(name)\n",
    "            temp.append(idx2name[gm_indices[i][j]])\n",
    "            temp.append(gm_distance[i][j])\n",
    "            gm_edgelist.append(temp)\n",
    "\n",
    "gm_edgelist_df = pd.DataFrame(gm_edgelist)\n",
    "gm_edgelist_df.columns = ['source', 'target', 'distance']"
   ]
  },
  {
   "cell_type": "code",
   "execution_count": 5,
   "metadata": {},
   "outputs": [
    {
     "output_type": "execute_result",
     "data": {
      "text/plain": "     source      target  distance\n522  MYC_gm     TAF1_gm  0.113848\n523  MYC_gm   ZBTB40_gm  0.124476\n524  MYC_gm     EGR1_gm  0.132534\n525  MYC_gm     ETV6_gm  0.135190\n526  MYC_gm     CHD2_gm  0.137360\n527  MYC_gm     USF2_gm  0.155737\n528  MYC_gm      SP1_gm  0.159003\n529  MYC_gm   TARDBP_gm  0.159230\n530  MYC_gm  BHLHE40_gm  0.163549",
      "text/html": "<div>\n<style scoped>\n    .dataframe tbody tr th:only-of-type {\n        vertical-align: middle;\n    }\n\n    .dataframe tbody tr th {\n        vertical-align: top;\n    }\n\n    .dataframe thead th {\n        text-align: right;\n    }\n</style>\n<table border=\"1\" class=\"dataframe\">\n  <thead>\n    <tr style=\"text-align: right;\">\n      <th></th>\n      <th>source</th>\n      <th>target</th>\n      <th>distance</th>\n    </tr>\n  </thead>\n  <tbody>\n    <tr>\n      <th>522</th>\n      <td>MYC_gm</td>\n      <td>TAF1_gm</td>\n      <td>0.113848</td>\n    </tr>\n    <tr>\n      <th>523</th>\n      <td>MYC_gm</td>\n      <td>ZBTB40_gm</td>\n      <td>0.124476</td>\n    </tr>\n    <tr>\n      <th>524</th>\n      <td>MYC_gm</td>\n      <td>EGR1_gm</td>\n      <td>0.132534</td>\n    </tr>\n    <tr>\n      <th>525</th>\n      <td>MYC_gm</td>\n      <td>ETV6_gm</td>\n      <td>0.135190</td>\n    </tr>\n    <tr>\n      <th>526</th>\n      <td>MYC_gm</td>\n      <td>CHD2_gm</td>\n      <td>0.137360</td>\n    </tr>\n    <tr>\n      <th>527</th>\n      <td>MYC_gm</td>\n      <td>USF2_gm</td>\n      <td>0.155737</td>\n    </tr>\n    <tr>\n      <th>528</th>\n      <td>MYC_gm</td>\n      <td>SP1_gm</td>\n      <td>0.159003</td>\n    </tr>\n    <tr>\n      <th>529</th>\n      <td>MYC_gm</td>\n      <td>TARDBP_gm</td>\n      <td>0.159230</td>\n    </tr>\n    <tr>\n      <th>530</th>\n      <td>MYC_gm</td>\n      <td>BHLHE40_gm</td>\n      <td>0.163549</td>\n    </tr>\n  </tbody>\n</table>\n</div>"
     },
     "metadata": {},
     "execution_count": 5
    }
   ],
   "source": [
    "gm_edgelist_df[gm_edgelist_df['source'] == 'MYC_gm']"
   ]
  },
  {
   "cell_type": "code",
   "execution_count": 6,
   "metadata": {
    "tags": []
   },
   "outputs": [
    {
     "output_type": "stream",
     "name": "stdout",
     "text": "Running KNN for K562...\nKNN for K562 completed!\nCreating edgelist...\n"
    }
   ],
   "source": [
    "# K562\n",
    "idx = list(k_emb_df.index)\n",
    "idx2name = dict()\n",
    "for i, name in enumerate(idx):\n",
    "    idx2name[i] = name\n",
    "\n",
    "print('Running KNN for K562...')\n",
    "nbrs = NearestNeighbors(n_neighbors=n_neighbors, algorithm='ball_tree').fit(k_emb)\n",
    "k_distance, k_indices = nbrs.kneighbors(k_emb)\n",
    "print('KNN for K562 completed!')\n",
    "\n",
    "k_edgelist = []\n",
    "print('Creating edgelist...')\n",
    "for i, name in enumerate(k_emb_df.index):\n",
    "    for j in range(len(k_indices[i])):\n",
    "        temp = []\n",
    "        if j != 0:\n",
    "            temp.append(name)\n",
    "            temp.append(idx2name[k_indices[i][j]])\n",
    "            temp.append(k_distance[i][j])\n",
    "            k_edgelist.append(temp)\n",
    "\n",
    "k_edgelist_df = pd.DataFrame(k_edgelist)\n",
    "k_edgelist_df.columns = ['source', 'target', 'distance']"
   ]
  },
  {
   "cell_type": "code",
   "execution_count": 30,
   "metadata": {},
   "outputs": [
    {
     "output_type": "execute_result",
     "data": {
      "text/plain": "       source    target  distance\n0    ZBTB33_k    NFE2_k  0.232416\n1    ZBTB33_k  ZNF274_k  0.284728\n2    ZBTB33_k    CBX5_k  0.284759\n3    ZBTB33_k     MAZ_k  0.286061\n4    ZBTB33_k    EZH2_k  0.287611\n..        ...       ...       ...\n616   SMAD5_k     TBP_k  0.123027\n617   SMAD5_k     PML_k  0.134127\n618   SMAD5_k    JUND_k  0.136380\n619   SMAD5_k    MTA2_k  0.139846\n620   SMAD5_k    USF1_k  0.143198\n\n[621 rows x 3 columns]",
      "text/html": "<div>\n<style scoped>\n    .dataframe tbody tr th:only-of-type {\n        vertical-align: middle;\n    }\n\n    .dataframe tbody tr th {\n        vertical-align: top;\n    }\n\n    .dataframe thead th {\n        text-align: right;\n    }\n</style>\n<table border=\"1\" class=\"dataframe\">\n  <thead>\n    <tr style=\"text-align: right;\">\n      <th></th>\n      <th>source</th>\n      <th>target</th>\n      <th>distance</th>\n    </tr>\n  </thead>\n  <tbody>\n    <tr>\n      <th>0</th>\n      <td>ZBTB33_k</td>\n      <td>NFE2_k</td>\n      <td>0.232416</td>\n    </tr>\n    <tr>\n      <th>1</th>\n      <td>ZBTB33_k</td>\n      <td>ZNF274_k</td>\n      <td>0.284728</td>\n    </tr>\n    <tr>\n      <th>2</th>\n      <td>ZBTB33_k</td>\n      <td>CBX5_k</td>\n      <td>0.284759</td>\n    </tr>\n    <tr>\n      <th>3</th>\n      <td>ZBTB33_k</td>\n      <td>MAZ_k</td>\n      <td>0.286061</td>\n    </tr>\n    <tr>\n      <th>4</th>\n      <td>ZBTB33_k</td>\n      <td>EZH2_k</td>\n      <td>0.287611</td>\n    </tr>\n    <tr>\n      <th>...</th>\n      <td>...</td>\n      <td>...</td>\n      <td>...</td>\n    </tr>\n    <tr>\n      <th>616</th>\n      <td>SMAD5_k</td>\n      <td>TBP_k</td>\n      <td>0.123027</td>\n    </tr>\n    <tr>\n      <th>617</th>\n      <td>SMAD5_k</td>\n      <td>PML_k</td>\n      <td>0.134127</td>\n    </tr>\n    <tr>\n      <th>618</th>\n      <td>SMAD5_k</td>\n      <td>JUND_k</td>\n      <td>0.136380</td>\n    </tr>\n    <tr>\n      <th>619</th>\n      <td>SMAD5_k</td>\n      <td>MTA2_k</td>\n      <td>0.139846</td>\n    </tr>\n    <tr>\n      <th>620</th>\n      <td>SMAD5_k</td>\n      <td>USF1_k</td>\n      <td>0.143198</td>\n    </tr>\n  </tbody>\n</table>\n<p>621 rows × 3 columns</p>\n</div>"
     },
     "metadata": {},
     "execution_count": 30
    }
   ],
   "source": [
    "k_edgelist_df"
   ]
  },
  {
   "cell_type": "code",
   "execution_count": null,
   "metadata": {},
   "outputs": [],
   "source": []
  }
 ],
 "metadata": {
  "language_info": {
   "codemirror_mode": {
    "name": "ipython",
    "version": 3
   },
   "file_extension": ".py",
   "mimetype": "text/x-python",
   "name": "python",
   "nbconvert_exporter": "python",
   "pygments_lexer": "ipython3",
   "version": "3.8.3-final"
  },
  "orig_nbformat": 2,
  "kernelspec": {
   "name": "python3",
   "display_name": "Python 3"
  }
 },
 "nbformat": 4,
 "nbformat_minor": 2
}