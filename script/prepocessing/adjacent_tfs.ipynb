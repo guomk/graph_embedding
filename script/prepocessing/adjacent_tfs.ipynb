{
 "cells": [
  {
   "cell_type": "code",
   "execution_count": 1,
   "metadata": {
    "execution": {
     "iopub.execute_input": "2020-06-21T23:53:41.166225Z",
     "iopub.status.busy": "2020-06-21T23:53:41.165226Z",
     "iopub.status.idle": "2020-06-21T23:53:41.429223Z",
     "shell.execute_reply": "2020-06-21T23:53:41.429223Z",
     "shell.execute_reply.started": "2020-06-21T23:53:41.166225Z"
    }
   },
   "outputs": [],
   "source": [
    "from pathlib import Path\n",
    "import pandas as pd\n",
    "import numpy as np\n",
    "from pprint import pprint"
   ]
  },
  {
   "cell_type": "code",
   "execution_count": 2,
   "metadata": {
    "execution": {
     "iopub.execute_input": "2020-06-21T23:53:41.494223Z",
     "iopub.status.busy": "2020-06-21T23:53:41.493223Z",
     "iopub.status.idle": "2020-06-21T23:53:41.496223Z",
     "shell.execute_reply": "2020-06-21T23:53:41.496223Z",
     "shell.execute_reply.started": "2020-06-21T23:53:41.494223Z"
    }
   },
   "outputs": [],
   "source": [
    "TARGET_FOLDER = Path('../../data/features/')"
   ]
  },
  {
   "cell_type": "markdown",
   "metadata": {},
   "source": [
    "**Create a Vector for each node, the vector represents tfs that it's connected to**\n",
    "keep in mind\n",
    "1. tf2tf is directional\n",
    "2. tf2gene is directional"
   ]
  },
  {
   "cell_type": "code",
   "execution_count": 3,
   "metadata": {
    "execution": {
     "iopub.execute_input": "2020-06-21T23:54:17.860407Z",
     "iopub.status.busy": "2020-06-21T23:54:17.860407Z",
     "iopub.status.idle": "2020-06-21T23:54:18.197435Z",
     "shell.execute_reply": "2020-06-21T23:54:18.197435Z",
     "shell.execute_reply.started": "2020-06-21T23:54:17.860407Z"
    }
   },
   "outputs": [
    {
     "output_type": "execute_result",
     "data": {
      "text/plain": "        cell_type    source target type      weight\n0         GM12878  ATF2_gm1   HES4  TSS  674.551267\n1         GM12878  ATF2_gm1  ISG15  TSS  261.000000\n2         GM12878  ATF2_gm1   AGRN  TSS  190.035403\n3         GM12878  ATF2_gm1  ACAP3  TSS  226.268091\n4         GM12878  ATF2_gm1  PUSL1  TSS  241.000000\n...           ...       ...    ...  ...         ...\n1054219       NaN       ZYX  NEDD8  PPI         NaN\n1054220       NaN       ZYX    UBC  PPI         NaN\n1054221       NaN       ZYX   VASP  PPI         NaN\n1054222       NaN     ZZEF1    UBC  PPI         NaN\n1054223       NaN     eIF2A    UBC  PPI         NaN\n\n[1054224 rows x 5 columns]",
      "text/html": "<div>\n<style scoped>\n    .dataframe tbody tr th:only-of-type {\n        vertical-align: middle;\n    }\n\n    .dataframe tbody tr th {\n        vertical-align: top;\n    }\n\n    .dataframe thead th {\n        text-align: right;\n    }\n</style>\n<table border=\"1\" class=\"dataframe\">\n  <thead>\n    <tr style=\"text-align: right;\">\n      <th></th>\n      <th>cell_type</th>\n      <th>source</th>\n      <th>target</th>\n      <th>type</th>\n      <th>weight</th>\n    </tr>\n  </thead>\n  <tbody>\n    <tr>\n      <th>0</th>\n      <td>GM12878</td>\n      <td>ATF2_gm1</td>\n      <td>HES4</td>\n      <td>TSS</td>\n      <td>674.551267</td>\n    </tr>\n    <tr>\n      <th>1</th>\n      <td>GM12878</td>\n      <td>ATF2_gm1</td>\n      <td>ISG15</td>\n      <td>TSS</td>\n      <td>261.000000</td>\n    </tr>\n    <tr>\n      <th>2</th>\n      <td>GM12878</td>\n      <td>ATF2_gm1</td>\n      <td>AGRN</td>\n      <td>TSS</td>\n      <td>190.035403</td>\n    </tr>\n    <tr>\n      <th>3</th>\n      <td>GM12878</td>\n      <td>ATF2_gm1</td>\n      <td>ACAP3</td>\n      <td>TSS</td>\n      <td>226.268091</td>\n    </tr>\n    <tr>\n      <th>4</th>\n      <td>GM12878</td>\n      <td>ATF2_gm1</td>\n      <td>PUSL1</td>\n      <td>TSS</td>\n      <td>241.000000</td>\n    </tr>\n    <tr>\n      <th>...</th>\n      <td>...</td>\n      <td>...</td>\n      <td>...</td>\n      <td>...</td>\n      <td>...</td>\n    </tr>\n    <tr>\n      <th>1054219</th>\n      <td>NaN</td>\n      <td>ZYX</td>\n      <td>NEDD8</td>\n      <td>PPI</td>\n      <td>NaN</td>\n    </tr>\n    <tr>\n      <th>1054220</th>\n      <td>NaN</td>\n      <td>ZYX</td>\n      <td>UBC</td>\n      <td>PPI</td>\n      <td>NaN</td>\n    </tr>\n    <tr>\n      <th>1054221</th>\n      <td>NaN</td>\n      <td>ZYX</td>\n      <td>VASP</td>\n      <td>PPI</td>\n      <td>NaN</td>\n    </tr>\n    <tr>\n      <th>1054222</th>\n      <td>NaN</td>\n      <td>ZZEF1</td>\n      <td>UBC</td>\n      <td>PPI</td>\n      <td>NaN</td>\n    </tr>\n    <tr>\n      <th>1054223</th>\n      <td>NaN</td>\n      <td>eIF2A</td>\n      <td>UBC</td>\n      <td>PPI</td>\n      <td>NaN</td>\n    </tr>\n  </tbody>\n</table>\n<p>1054224 rows × 5 columns</p>\n</div>"
     },
     "metadata": {},
     "execution_count": 3
    }
   ],
   "source": [
    "DATA_FOLDER = Path('../../data/')\n",
    "\n",
    "# 1. Read edgelist\n",
    "df = pd.read_csv(DATA_FOLDER / 'joint_renamed_v2.csv', dtype={\n",
    "    'cell_type': object,\n",
    "    'source': object,\n",
    "    'target': object,\n",
    "    'type': object,\n",
    "    'weight': 'float64'\n",
    "})\n",
    "df"
   ]
  },
  {
   "cell_type": "code",
   "execution_count": 4,
   "metadata": {
    "execution": {
     "iopub.execute_input": "2020-06-21T23:54:19.390562Z",
     "iopub.status.busy": "2020-06-21T23:54:19.389563Z",
     "iopub.status.idle": "2020-06-21T23:54:19.395566Z",
     "shell.execute_reply": "2020-06-21T23:54:19.395566Z",
     "shell.execute_reply.started": "2020-06-21T23:54:19.390562Z"
    }
   },
   "outputs": [
    {
     "output_type": "execute_result",
     "data": {
      "text/plain": "138"
     },
     "metadata": {},
     "execution_count": 4
    }
   ],
   "source": [
    "# read common tfs\n",
    "common_tf = list(set(pd.read_csv(DATA_FOLDER / 'common_tf.csv')['tf']))\n",
    "common_tf_k = [tf + '_k' for tf in common_tf]\n",
    "common_tf_gm = [tf + '_gm' for tf in common_tf]\n",
    "common_tf = common_tf_k + common_tf_gm\n",
    "common_tf.sort()\n",
    "len(common_tf)"
   ]
  },
  {
   "cell_type": "code",
   "execution_count": 6,
   "metadata": {
    "execution": {
     "iopub.execute_input": "2020-06-21T23:55:14.531904Z",
     "iopub.status.busy": "2020-06-21T23:55:14.531904Z",
     "iopub.status.idle": "2020-06-21T23:55:14.645487Z",
     "shell.execute_reply": "2020-06-21T23:55:14.645487Z",
     "shell.execute_reply.started": "2020-06-21T23:55:14.531904Z"
    }
   },
   "outputs": [
    {
     "output_type": "execute_result",
     "data": {
      "text/plain": "17226"
     },
     "metadata": {},
     "execution_count": 6
    }
   ],
   "source": [
    "nodes = list(set(df['source']).union(set(df['target'])))\n",
    "len(nodes)"
   ]
  },
  {
   "cell_type": "code",
   "execution_count": 7,
   "metadata": {
    "execution": {
     "iopub.execute_input": "2020-06-21T23:55:16.170340Z",
     "iopub.status.busy": "2020-06-21T23:55:16.170340Z",
     "iopub.status.idle": "2020-06-22T00:10:38.218419Z",
     "shell.execute_reply": "2020-06-22T00:10:38.218419Z",
     "shell.execute_reply.started": "2020-06-21T23:55:16.170340Z"
    }
   },
   "outputs": [],
   "source": [
    "d = dict()\n",
    "for i, tf in enumerate(common_tf):\n",
    "    d[tf] = i\n",
    "\n",
    "\n",
    "def node2neighbors(node, df=df):\n",
    "    feature = np.array([0] * len(common_tf))\n",
    "    a = df['target'] == node\n",
    "    b = df['source'].isin(common_tf)\n",
    "    regulators = list(df[a & b]['source'])\n",
    "    linked_tf_pos = list(map(lambda tf: d[tf], regulators))\n",
    "    feature[linked_tf_pos] = 1\n",
    "    return feature\n",
    "\n",
    "\n",
    "features = dict(zip(nodes, map(node2neighbors, nodes)))    "
   ]
  },
  {
   "cell_type": "code",
   "execution_count": 12,
   "metadata": {
    "execution": {
     "iopub.execute_input": "2020-06-22T00:38:11.237784Z",
     "iopub.status.busy": "2020-06-22T00:38:11.237784Z",
     "iopub.status.idle": "2020-06-22T00:38:12.024784Z",
     "shell.execute_reply": "2020-06-22T00:38:12.024784Z",
     "shell.execute_reply.started": "2020-06-22T00:38:11.237784Z"
    }
   },
   "outputs": [],
   "source": [
    "feature_df = pd.DataFrame.from_dict(features, orient='index')\n",
    "feature_df"
   ]
  },
  {
   "cell_type": "code",
   "execution_count": 18,
   "metadata": {
    "execution": {
     "iopub.execute_input": "2020-06-22T00:43:38.402528Z",
     "iopub.status.busy": "2020-06-22T00:43:38.402528Z",
     "iopub.status.idle": "2020-06-22T00:43:38.429566Z",
     "shell.execute_reply": "2020-06-22T00:43:38.429566Z",
     "shell.execute_reply.started": "2020-06-22T00:43:38.402528Z"
    }
   },
   "outputs": [
    {
     "output_type": "execute_result",
     "data": {
      "text/plain": "(17226, 138)"
     },
     "metadata": {},
     "execution_count": 18
    }
   ],
   "source": [
    "feature_df.loc[~feature_df.index.isin(common_tf)]"
   ]
  },
  {
   "cell_type": "code",
   "execution_count": 10,
   "metadata": {
    "execution": {
     "iopub.execute_input": "2020-06-22T00:30:52.716294Z",
     "iopub.status.busy": "2020-06-22T00:30:52.716294Z",
     "iopub.status.idle": "2020-06-22T00:30:52.748293Z",
     "shell.execute_reply": "2020-06-22T00:30:52.748293Z",
     "shell.execute_reply.started": "2020-06-22T00:30:52.716294Z"
    }
   },
   "outputs": [
    {
     "output_type": "execute_result",
     "data": {
      "text/plain": "          0  1  2  3  4  5  6  7  8  9  ...  129  130  131  132  133  134  \\\nWDR45L    0  0  0  0  0  0  0  0  0  0  ...    0    0    0    0    0    0   \nRGPD1     0  0  0  0  0  0  0  0  0  0  ...    0    0    0    0    0    0   \nIL22      0  0  0  0  0  0  0  0  0  0  ...    0    0    0    0    0    0   \nFAM108C1  0  0  0  0  0  0  0  0  0  0  ...    0    0    0    0    0    0   \nCOL6A1    0  0  0  0  0  0  0  0  0  0  ...    0    0    0    0    0    0   \n...      .. .. .. .. .. .. .. .. .. ..  ...  ...  ...  ...  ...  ...  ...   \nRPL10L    0  0  0  0  0  0  0  0  0  0  ...    0    0    0    0    0    0   \nYBX1      0  0  0  0  0  0  0  0  0  0  ...    0    0    0    0    0    0   \nHTR2C     0  0  0  0  0  0  0  0  0  0  ...    0    0    0    0    0    0   \nTMEM85    0  0  0  0  0  0  0  0  0  0  ...    0    0    0    0    0    0   \nUSF2      0  0  0  0  0  0  0  0  0  0  ...    0    0    0    0    0    0   \n\n          135  136  137  count_1  \nWDR45L      0    0    0        0  \nRGPD1       0    0    0        0  \nIL22        0    0    0        0  \nFAM108C1    0    0    0        0  \nCOL6A1      0    0    0        0  \n...       ...  ...  ...      ...  \nRPL10L      0    0    0        0  \nYBX1        0    0    0        0  \nHTR2C       0    0    0        0  \nTMEM85      0    0    0        0  \nUSF2        0    0    0        0  \n\n[877 rows x 139 columns]",
      "text/html": "<div>\n<style scoped>\n    .dataframe tbody tr th:only-of-type {\n        vertical-align: middle;\n    }\n\n    .dataframe tbody tr th {\n        vertical-align: top;\n    }\n\n    .dataframe thead th {\n        text-align: right;\n    }\n</style>\n<table border=\"1\" class=\"dataframe\">\n  <thead>\n    <tr style=\"text-align: right;\">\n      <th></th>\n      <th>0</th>\n      <th>1</th>\n      <th>2</th>\n      <th>3</th>\n      <th>4</th>\n      <th>5</th>\n      <th>6</th>\n      <th>7</th>\n      <th>8</th>\n      <th>9</th>\n      <th>...</th>\n      <th>129</th>\n      <th>130</th>\n      <th>131</th>\n      <th>132</th>\n      <th>133</th>\n      <th>134</th>\n      <th>135</th>\n      <th>136</th>\n      <th>137</th>\n      <th>count_1</th>\n    </tr>\n  </thead>\n  <tbody>\n    <tr>\n      <th>WDR45L</th>\n      <td>0</td>\n      <td>0</td>\n      <td>0</td>\n      <td>0</td>\n      <td>0</td>\n      <td>0</td>\n      <td>0</td>\n      <td>0</td>\n      <td>0</td>\n      <td>0</td>\n      <td>...</td>\n      <td>0</td>\n      <td>0</td>\n      <td>0</td>\n      <td>0</td>\n      <td>0</td>\n      <td>0</td>\n      <td>0</td>\n      <td>0</td>\n      <td>0</td>\n      <td>0</td>\n    </tr>\n    <tr>\n      <th>RGPD1</th>\n      <td>0</td>\n      <td>0</td>\n      <td>0</td>\n      <td>0</td>\n      <td>0</td>\n      <td>0</td>\n      <td>0</td>\n      <td>0</td>\n      <td>0</td>\n      <td>0</td>\n      <td>...</td>\n      <td>0</td>\n      <td>0</td>\n      <td>0</td>\n      <td>0</td>\n      <td>0</td>\n      <td>0</td>\n      <td>0</td>\n      <td>0</td>\n      <td>0</td>\n      <td>0</td>\n    </tr>\n    <tr>\n      <th>IL22</th>\n      <td>0</td>\n      <td>0</td>\n      <td>0</td>\n      <td>0</td>\n      <td>0</td>\n      <td>0</td>\n      <td>0</td>\n      <td>0</td>\n      <td>0</td>\n      <td>0</td>\n      <td>...</td>\n      <td>0</td>\n      <td>0</td>\n      <td>0</td>\n      <td>0</td>\n      <td>0</td>\n      <td>0</td>\n      <td>0</td>\n      <td>0</td>\n      <td>0</td>\n      <td>0</td>\n    </tr>\n    <tr>\n      <th>FAM108C1</th>\n      <td>0</td>\n      <td>0</td>\n      <td>0</td>\n      <td>0</td>\n      <td>0</td>\n      <td>0</td>\n      <td>0</td>\n      <td>0</td>\n      <td>0</td>\n      <td>0</td>\n      <td>...</td>\n      <td>0</td>\n      <td>0</td>\n      <td>0</td>\n      <td>0</td>\n      <td>0</td>\n      <td>0</td>\n      <td>0</td>\n      <td>0</td>\n      <td>0</td>\n      <td>0</td>\n    </tr>\n    <tr>\n      <th>COL6A1</th>\n      <td>0</td>\n      <td>0</td>\n      <td>0</td>\n      <td>0</td>\n      <td>0</td>\n      <td>0</td>\n      <td>0</td>\n      <td>0</td>\n      <td>0</td>\n      <td>0</td>\n      <td>...</td>\n      <td>0</td>\n      <td>0</td>\n      <td>0</td>\n      <td>0</td>\n      <td>0</td>\n      <td>0</td>\n      <td>0</td>\n      <td>0</td>\n      <td>0</td>\n      <td>0</td>\n    </tr>\n    <tr>\n      <th>...</th>\n      <td>...</td>\n      <td>...</td>\n      <td>...</td>\n      <td>...</td>\n      <td>...</td>\n      <td>...</td>\n      <td>...</td>\n      <td>...</td>\n      <td>...</td>\n      <td>...</td>\n      <td>...</td>\n      <td>...</td>\n      <td>...</td>\n      <td>...</td>\n      <td>...</td>\n      <td>...</td>\n      <td>...</td>\n      <td>...</td>\n      <td>...</td>\n      <td>...</td>\n      <td>...</td>\n    </tr>\n    <tr>\n      <th>RPL10L</th>\n      <td>0</td>\n      <td>0</td>\n      <td>0</td>\n      <td>0</td>\n      <td>0</td>\n      <td>0</td>\n      <td>0</td>\n      <td>0</td>\n      <td>0</td>\n      <td>0</td>\n      <td>...</td>\n      <td>0</td>\n      <td>0</td>\n      <td>0</td>\n      <td>0</td>\n      <td>0</td>\n      <td>0</td>\n      <td>0</td>\n      <td>0</td>\n      <td>0</td>\n      <td>0</td>\n    </tr>\n    <tr>\n      <th>YBX1</th>\n      <td>0</td>\n      <td>0</td>\n      <td>0</td>\n      <td>0</td>\n      <td>0</td>\n      <td>0</td>\n      <td>0</td>\n      <td>0</td>\n      <td>0</td>\n      <td>0</td>\n      <td>...</td>\n      <td>0</td>\n      <td>0</td>\n      <td>0</td>\n      <td>0</td>\n      <td>0</td>\n      <td>0</td>\n      <td>0</td>\n      <td>0</td>\n      <td>0</td>\n      <td>0</td>\n    </tr>\n    <tr>\n      <th>HTR2C</th>\n      <td>0</td>\n      <td>0</td>\n      <td>0</td>\n      <td>0</td>\n      <td>0</td>\n      <td>0</td>\n      <td>0</td>\n      <td>0</td>\n      <td>0</td>\n      <td>0</td>\n      <td>...</td>\n      <td>0</td>\n      <td>0</td>\n      <td>0</td>\n      <td>0</td>\n      <td>0</td>\n      <td>0</td>\n      <td>0</td>\n      <td>0</td>\n      <td>0</td>\n      <td>0</td>\n    </tr>\n    <tr>\n      <th>TMEM85</th>\n      <td>0</td>\n      <td>0</td>\n      <td>0</td>\n      <td>0</td>\n      <td>0</td>\n      <td>0</td>\n      <td>0</td>\n      <td>0</td>\n      <td>0</td>\n      <td>0</td>\n      <td>...</td>\n      <td>0</td>\n      <td>0</td>\n      <td>0</td>\n      <td>0</td>\n      <td>0</td>\n      <td>0</td>\n      <td>0</td>\n      <td>0</td>\n      <td>0</td>\n      <td>0</td>\n    </tr>\n    <tr>\n      <th>USF2</th>\n      <td>0</td>\n      <td>0</td>\n      <td>0</td>\n      <td>0</td>\n      <td>0</td>\n      <td>0</td>\n      <td>0</td>\n      <td>0</td>\n      <td>0</td>\n      <td>0</td>\n      <td>...</td>\n      <td>0</td>\n      <td>0</td>\n      <td>0</td>\n      <td>0</td>\n      <td>0</td>\n      <td>0</td>\n      <td>0</td>\n      <td>0</td>\n      <td>0</td>\n      <td>0</td>\n    </tr>\n  </tbody>\n</table>\n<p>877 rows × 139 columns</p>\n</div>"
     },
     "metadata": {},
     "execution_count": 10
    }
   ],
   "source": [
    "# test = pd.DataFrame.from_dict({\n",
    "#     'A': [0, 0, 0, 1],\n",
    "#     'B': [1, 1, 1, 1]\n",
    "# }, orient='index')\n",
    "# test['count_1'] = test.apply(lambda x: sum(x), axis=1)\n",
    "# test\n",
    "\n",
    "feature_df['count_1'] = feature_df.sum(axis=1)\n",
    "feature_df[feature_df['count_1'] == 0]"
   ]
  },
  {
   "cell_type": "code",
   "execution_count": null,
   "metadata": {},
   "outputs": [],
   "source": []
  }
 ],
 "metadata": {
  "kernelspec": {
   "display_name": "Python 3",
   "language": "python",
   "name": "python3"
  },
  "language_info": {
   "codemirror_mode": {
    "name": "ipython",
    "version": 3
   },
   "file_extension": ".py",
   "mimetype": "text/x-python",
   "name": "python",
   "nbconvert_exporter": "python",
   "pygments_lexer": "ipython3",
   "version": "3.8.3-final"
  }
 },
 "nbformat": 4,
 "nbformat_minor": 4
}