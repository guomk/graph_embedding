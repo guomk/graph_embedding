{
 "cells": [
  {
   "cell_type": "markdown",
   "metadata": {},
   "source": [
    "# Data Preprocessing\n",
    "## 1 Combine tf2gene and PPI to a single dataset\n",
    "**Note that PPI is undirected "
   ]
  },
  {
   "cell_type": "markdown",
   "metadata": {},
   "source": []
  },
  {
   "cell_type": "code",
   "execution_count": null,
   "metadata": {},
   "outputs": [],
   "source": []
  },
  {
   "cell_type": "code",
   "execution_count": 1,
   "metadata": {
    "execution": {
     "iopub.execute_input": "2020-05-27T13:50:50.181030Z",
     "iopub.status.busy": "2020-05-27T13:50:50.179030Z",
     "iopub.status.idle": "2020-05-27T13:50:50.452091Z",
     "shell.execute_reply": "2020-05-27T13:50:50.452091Z",
     "shell.execute_reply.started": "2020-05-27T13:50:50.181030Z"
    }
   },
   "outputs": [],
   "source": [
    "import pandas as pd\n",
    "import numpy as np\n",
    "from pathlib import Path"
   ]
  },
  {
   "cell_type": "code",
   "execution_count": 2,
   "metadata": {
    "execution": {
     "iopub.execute_input": "2020-05-27T13:50:50.453091Z",
     "iopub.status.busy": "2020-05-27T13:50:50.453091Z",
     "iopub.status.idle": "2020-05-27T13:50:51.099740Z",
     "shell.execute_reply": "2020-05-27T13:50:51.099740Z",
     "shell.execute_reply.started": "2020-05-27T13:50:50.453091Z"
    }
   },
   "outputs": [
    {
     "name": "stdout",
     "output_type": "stream",
     "text": [
      "Shape of GM12878: (506074, 5)\n",
      "Shape of K562: (954968, 5)\n",
      "Shape of PPI: (21038, 4)\n"
     ]
    }
   ],
   "source": [
    "path = Path('../../data/')\n",
    "\n",
    "ppi = pd.read_csv(path / 'biogrid.hc.tsv', sep='\\t', header=None)\n",
    "gm = pd.read_csv(path / 'EC-003-NET.edgeList_TSS_GM12878.tsv', sep='\\t', header=None)\n",
    "k = pd.read_csv(path / 'EC-003-NET.edgeList_TSS_K562.tsv', sep='\\t', header=None)\n",
    "\n",
    "gm.columns = ['cell_type', 'source', 'target', 'type', 'weight']\n",
    "k.columns = ['cell_type', 'source', 'target', 'type', 'weight']\n",
    "\n",
    "ppi.columns = ['source', 'target', 'type', 'dummy']\n",
    "ppi = ppi[['source', 'target', 'type']]\n",
    "ppi['weight'] = 'NA'\n",
    "\n",
    "\n",
    "print(f'Shape of GM12878: {gm.shape}')\n",
    "print(f'Shape of K562: {k.shape}')\n",
    "print(f'Shape of PPI: {ppi.shape}')"
   ]
  },
  {
   "cell_type": "markdown",
   "metadata": {},
   "source": [
    "Check for naming compatibility"
   ]
  },
  {
   "cell_type": "code",
   "execution_count": 3,
   "metadata": {
    "execution": {
     "iopub.execute_input": "2020-05-27T13:50:51.241772Z",
     "iopub.status.busy": "2020-05-27T13:50:51.241772Z",
     "iopub.status.idle": "2020-05-27T13:50:51.368801Z",
     "shell.execute_reply": "2020-05-27T13:50:51.368801Z",
     "shell.execute_reply.started": "2020-05-27T13:50:51.241772Z"
    }
   },
   "outputs": [
    {
     "name": "stdout",
     "output_type": "stream",
     "text": [
      "Number of nodes in PPI: 8752\n",
      "Number of gene nodes in GM: 16553\n",
      "Number of gene nodes in K: 17894\n",
      "Number of common nodes in GM&PPI: 8015\n",
      "Number of common nodes in K&PPI: 8169\n"
     ]
    }
   ],
   "source": [
    "ppi_nodes = set(ppi['source']).union(set(ppi['target']))\n",
    "print(f'Number of nodes in PPI: {len(ppi_nodes)}')\n",
    "\n",
    "gm_nodes = set(gm['target'])\n",
    "k_nodes = set(k['target'])\n",
    "print(f'Number of target nodes in GM: {len(gm_nodes)}')\n",
    "print(f'Number of target nodes in K: {len(k_nodes)}')\n",
    "\n",
    "print(f'Number of common nodes in GM&PPI: {len(gm_nodes.intersection(ppi_nodes))}')\n",
    "print(f'Number of common nodes in K&PPI: {len(k_nodes.intersection(ppi_nodes))}')"
   ]
  },
  {
   "cell_type": "markdown",
   "metadata": {},
   "source": [
    "From number of common nodes, we could assume that they are using the same naming system\n",
    "\n",
    "**Transform PPI to undirected graph by swapping its source and target**"
   ]
  },
  {
   "cell_type": "code",
   "execution_count": 4,
   "metadata": {
    "execution": {
     "iopub.execute_input": "2020-05-27T13:50:51.892422Z",
     "iopub.status.busy": "2020-05-27T13:50:51.892422Z",
     "iopub.status.idle": "2020-05-27T13:50:51.951442Z",
     "shell.execute_reply": "2020-05-27T13:50:51.951442Z",
     "shell.execute_reply.started": "2020-05-27T13:50:51.892422Z"
    }
   },
   "outputs": [
    {
     "data": {
      "text/html": [
       "<div>\n",
       "<style scoped>\n",
       "    .dataframe tbody tr th:only-of-type {\n",
       "        vertical-align: middle;\n",
       "    }\n",
       "\n",
       "    .dataframe tbody tr th {\n",
       "        vertical-align: top;\n",
       "    }\n",
       "\n",
       "    .dataframe thead th {\n",
       "        text-align: right;\n",
       "    }\n",
       "</style>\n",
       "<table border=\"1\" class=\"dataframe\">\n",
       "  <thead>\n",
       "    <tr style=\"text-align: right;\">\n",
       "      <th></th>\n",
       "      <th>source</th>\n",
       "      <th>target</th>\n",
       "      <th>type</th>\n",
       "      <th>weight</th>\n",
       "    </tr>\n",
       "  </thead>\n",
       "  <tbody>\n",
       "    <tr>\n",
       "      <th>0</th>\n",
       "      <td>A1CF</td>\n",
       "      <td>APOBEC1</td>\n",
       "      <td>PPI</td>\n",
       "      <td>NA</td>\n",
       "    </tr>\n",
       "    <tr>\n",
       "      <th>1</th>\n",
       "      <td>A1CF</td>\n",
       "      <td>SYNCRIP</td>\n",
       "      <td>PPI</td>\n",
       "      <td>NA</td>\n",
       "    </tr>\n",
       "    <tr>\n",
       "      <th>2</th>\n",
       "      <td>A2M</td>\n",
       "      <td>AMBP</td>\n",
       "      <td>PPI</td>\n",
       "      <td>NA</td>\n",
       "    </tr>\n",
       "    <tr>\n",
       "      <th>3</th>\n",
       "      <td>A2M</td>\n",
       "      <td>APOE</td>\n",
       "      <td>PPI</td>\n",
       "      <td>NA</td>\n",
       "    </tr>\n",
       "    <tr>\n",
       "      <th>4</th>\n",
       "      <td>AAAS</td>\n",
       "      <td>UBC</td>\n",
       "      <td>PPI</td>\n",
       "      <td>NA</td>\n",
       "    </tr>\n",
       "    <tr>\n",
       "      <th>...</th>\n",
       "      <td>...</td>\n",
       "      <td>...</td>\n",
       "      <td>...</td>\n",
       "      <td>...</td>\n",
       "    </tr>\n",
       "    <tr>\n",
       "      <th>21033</th>\n",
       "      <td>ZNF434</td>\n",
       "      <td>ZNF434</td>\n",
       "      <td>PPI</td>\n",
       "      <td>NaN</td>\n",
       "    </tr>\n",
       "    <tr>\n",
       "      <th>21034</th>\n",
       "      <td>ZNF446</td>\n",
       "      <td>ZNF434</td>\n",
       "      <td>PPI</td>\n",
       "      <td>NaN</td>\n",
       "    </tr>\n",
       "    <tr>\n",
       "      <th>21035</th>\n",
       "      <td>ZNF496</td>\n",
       "      <td>ZNF446</td>\n",
       "      <td>PPI</td>\n",
       "      <td>NaN</td>\n",
       "    </tr>\n",
       "    <tr>\n",
       "      <th>21036</th>\n",
       "      <td>ZSCAN16</td>\n",
       "      <td>ZNF446</td>\n",
       "      <td>PPI</td>\n",
       "      <td>NaN</td>\n",
       "    </tr>\n",
       "    <tr>\n",
       "      <th>21037</th>\n",
       "      <td>ZNF471</td>\n",
       "      <td>ZNF471</td>\n",
       "      <td>PPI</td>\n",
       "      <td>NaN</td>\n",
       "    </tr>\n",
       "  </tbody>\n",
       "</table>\n",
       "<p>42076 rows × 4 columns</p>\n",
       "</div>"
      ],
      "text/plain": [
       "        source   target type weight\n",
       "0         A1CF  APOBEC1  PPI     NA\n",
       "1         A1CF  SYNCRIP  PPI     NA\n",
       "2          A2M     AMBP  PPI     NA\n",
       "3          A2M     APOE  PPI     NA\n",
       "4         AAAS      UBC  PPI     NA\n",
       "...        ...      ...  ...    ...\n",
       "21033   ZNF434   ZNF434  PPI    NaN\n",
       "21034   ZNF446   ZNF434  PPI    NaN\n",
       "21035   ZNF496   ZNF446  PPI    NaN\n",
       "21036  ZSCAN16   ZNF446  PPI    NaN\n",
       "21037   ZNF471   ZNF471  PPI    NaN\n",
       "\n",
       "[42076 rows x 4 columns]"
      ]
     },
     "execution_count": 4,
     "metadata": {},
     "output_type": "execute_result"
    }
   ],
   "source": [
    "ppi_reverse = ppi[['target', 'source', 'type']]\n",
    "ppi_reverse.columns = ['source', 'target', 'type']\n",
    "ppi_undirected = pd.concat([ppi, ppi_reverse])\n",
    "ppi_undirected.sort_values(['source', 'target'], ascending=True)\n",
    "# ppi_undirected.reset_index(inplace=True)\n",
    "ppi_undirected"
   ]
  },
  {
   "cell_type": "markdown",
   "metadata": {},
   "source": [
    "### Ver. 1\n",
    "1. preserve tf2gene's directed nature\n",
    "2. preserve all nodes"
   ]
  },
  {
   "cell_type": "code",
   "execution_count": 5,
   "metadata": {
    "execution": {
     "iopub.execute_input": "2020-05-27T13:50:53.683837Z",
     "iopub.status.busy": "2020-05-27T13:50:53.683837Z",
     "iopub.status.idle": "2020-05-27T13:50:54.813107Z",
     "shell.execute_reply": "2020-05-27T13:50:54.813107Z",
     "shell.execute_reply.started": "2020-05-27T13:50:53.683837Z"
    }
   },
   "outputs": [
    {
     "name": "stdout",
     "output_type": "stream",
     "text": [
      "Shape of GM_PPI (with duplicates): (548150, 5)\n",
      "Shape of GM_PPI (without duplicates): (545113, 5)\n",
      "Shape of K_PPI (with duplicates): (997044, 5)\n",
      "Shape of K_PPI (without duplicates): (991451, 5)\n"
     ]
    }
   ],
   "source": [
    "# GM12878\n",
    "ppi_undirected['cell_type'] = 'GM12878'\n",
    "gm_ppi = pd.concat([gm, ppi_undirected])\n",
    "gm_ppi = gm_ppi.reset_index()[['cell_type', 'source', 'target', 'type', 'weight']]\n",
    "# Remove duplicate rows\n",
    "print(f'Shape of GM_PPI (with duplicates): {gm_ppi.shape}')\n",
    "gm_ppi.drop_duplicates(inplace=True)\n",
    "print(f'Shape of GM_PPI (without duplicates): {gm_ppi.shape}')\n",
    "\n",
    "\n",
    "# K562\n",
    "ppi_undirected['cell_type'] = 'K562'\n",
    "k_ppi = pd.concat([k, ppi_undirected])\n",
    "k_ppi = k_ppi.reset_index()[['cell_type', 'source', 'target', 'type', 'weight']]\n",
    "# Remove duplicate rows\n",
    "print(f'Shape of K_PPI (with duplicates): {k_ppi.shape}')\n",
    "k_ppi.drop_duplicates(inplace=True)\n",
    "print(f'Shape of K_PPI (without duplicates): {k_ppi.shape}')"
   ]
  },
  {
   "cell_type": "code",
   "execution_count": 6,
   "metadata": {
    "execution": {
     "iopub.execute_input": "2020-05-27T13:50:54.814107Z",
     "iopub.status.busy": "2020-05-27T13:50:54.814107Z",
     "iopub.status.idle": "2020-05-27T13:50:54.871119Z",
     "shell.execute_reply": "2020-05-27T13:50:54.871119Z",
     "shell.execute_reply.started": "2020-05-27T13:50:54.814107Z"
    }
   },
   "outputs": [
    {
     "data": {
      "text/html": [
       "<div>\n",
       "<style scoped>\n",
       "    .dataframe tbody tr th:only-of-type {\n",
       "        vertical-align: middle;\n",
       "    }\n",
       "\n",
       "    .dataframe tbody tr th {\n",
       "        vertical-align: top;\n",
       "    }\n",
       "\n",
       "    .dataframe thead th {\n",
       "        text-align: right;\n",
       "    }\n",
       "</style>\n",
       "<table border=\"1\" class=\"dataframe\">\n",
       "  <thead>\n",
       "    <tr style=\"text-align: right;\">\n",
       "      <th></th>\n",
       "      <th>cell_type</th>\n",
       "      <th>source</th>\n",
       "      <th>target</th>\n",
       "      <th>type</th>\n",
       "      <th>weight</th>\n",
       "    </tr>\n",
       "  </thead>\n",
       "  <tbody>\n",
       "    <tr>\n",
       "      <th>5345</th>\n",
       "      <td>K562</td>\n",
       "      <td>ATF1</td>\n",
       "      <td>ATF1</td>\n",
       "      <td>TSS</td>\n",
       "      <td>546</td>\n",
       "    </tr>\n",
       "    <tr>\n",
       "      <th>8063</th>\n",
       "      <td>K562</td>\n",
       "      <td>ATF3</td>\n",
       "      <td>ATF3</td>\n",
       "      <td>TSS</td>\n",
       "      <td>1000</td>\n",
       "    </tr>\n",
       "    <tr>\n",
       "      <th>14838</th>\n",
       "      <td>K562</td>\n",
       "      <td>BACH1</td>\n",
       "      <td>BACH1</td>\n",
       "      <td>TSS</td>\n",
       "      <td>672.292</td>\n",
       "    </tr>\n",
       "    <tr>\n",
       "      <th>19344</th>\n",
       "      <td>K562</td>\n",
       "      <td>BHLHE40</td>\n",
       "      <td>BHLHE40</td>\n",
       "      <td>TSS</td>\n",
       "      <td>2903.73</td>\n",
       "    </tr>\n",
       "    <tr>\n",
       "      <th>34171</th>\n",
       "      <td>K562</td>\n",
       "      <td>CCNT2</td>\n",
       "      <td>CCNT2</td>\n",
       "      <td>TSS</td>\n",
       "      <td>163</td>\n",
       "    </tr>\n",
       "    <tr>\n",
       "      <th>...</th>\n",
       "      <td>...</td>\n",
       "      <td>...</td>\n",
       "      <td>...</td>\n",
       "      <td>...</td>\n",
       "      <td>...</td>\n",
       "    </tr>\n",
       "    <tr>\n",
       "      <th>997029</th>\n",
       "      <td>K562</td>\n",
       "      <td>ZHX1</td>\n",
       "      <td>ZHX1</td>\n",
       "      <td>PPI</td>\n",
       "      <td>NaN</td>\n",
       "    </tr>\n",
       "    <tr>\n",
       "      <th>997032</th>\n",
       "      <td>K562</td>\n",
       "      <td>ZNF174</td>\n",
       "      <td>ZNF174</td>\n",
       "      <td>PPI</td>\n",
       "      <td>NaN</td>\n",
       "    </tr>\n",
       "    <tr>\n",
       "      <th>997038</th>\n",
       "      <td>K562</td>\n",
       "      <td>ZNF408</td>\n",
       "      <td>ZNF408</td>\n",
       "      <td>PPI</td>\n",
       "      <td>NaN</td>\n",
       "    </tr>\n",
       "    <tr>\n",
       "      <th>997039</th>\n",
       "      <td>K562</td>\n",
       "      <td>ZNF434</td>\n",
       "      <td>ZNF434</td>\n",
       "      <td>PPI</td>\n",
       "      <td>NaN</td>\n",
       "    </tr>\n",
       "    <tr>\n",
       "      <th>997043</th>\n",
       "      <td>K562</td>\n",
       "      <td>ZNF471</td>\n",
       "      <td>ZNF471</td>\n",
       "      <td>PPI</td>\n",
       "      <td>NaN</td>\n",
       "    </tr>\n",
       "  </tbody>\n",
       "</table>\n",
       "<p>1350 rows × 5 columns</p>\n",
       "</div>"
      ],
      "text/plain": [
       "       cell_type   source   target type   weight\n",
       "5345        K562     ATF1     ATF1  TSS      546\n",
       "8063        K562     ATF3     ATF3  TSS     1000\n",
       "14838       K562    BACH1    BACH1  TSS  672.292\n",
       "19344       K562  BHLHE40  BHLHE40  TSS  2903.73\n",
       "34171       K562    CCNT2    CCNT2  TSS      163\n",
       "...          ...      ...      ...  ...      ...\n",
       "997029      K562     ZHX1     ZHX1  PPI      NaN\n",
       "997032      K562   ZNF174   ZNF174  PPI      NaN\n",
       "997038      K562   ZNF408   ZNF408  PPI      NaN\n",
       "997039      K562   ZNF434   ZNF434  PPI      NaN\n",
       "997043      K562   ZNF471   ZNF471  PPI      NaN\n",
       "\n",
       "[1350 rows x 5 columns]"
      ]
     },
     "execution_count": 6,
     "metadata": {},
     "output_type": "execute_result"
    }
   ],
   "source": [
    "k_ppi[k_ppi['source'] == k_ppi['target']]"
   ]
  },
  {
   "cell_type": "code",
   "execution_count": 7,
   "metadata": {
    "execution": {
     "iopub.execute_input": "2020-05-27T13:50:54.872120Z",
     "iopub.status.busy": "2020-05-27T13:50:54.872120Z",
     "iopub.status.idle": "2020-05-27T13:50:55.861340Z",
     "shell.execute_reply": "2020-05-27T13:50:55.861340Z",
     "shell.execute_reply.started": "2020-05-27T13:50:54.872120Z"
    }
   },
   "outputs": [],
   "source": [
    "# gm_ppi.to_csv(path/'GM12878_PPI_ver1.csv', index=False)"
   ]
  },
  {
   "cell_type": "code",
   "execution_count": 8,
   "metadata": {
    "execution": {
     "iopub.execute_input": "2020-05-27T13:50:55.862340Z",
     "iopub.status.busy": "2020-05-27T13:50:55.862340Z",
     "iopub.status.idle": "2020-05-27T13:50:57.668743Z",
     "shell.execute_reply": "2020-05-27T13:50:57.668743Z",
     "shell.execute_reply.started": "2020-05-27T13:50:55.862340Z"
    }
   },
   "outputs": [],
   "source": [
    "# k_ppi.to_csv(path/'K562_PPI_ver1.csv', index=False)"
   ]
  },
  {
   "cell_type": "markdown",
   "metadata": {},
   "source": [
    "#### Sample out a smaller subgraph for experiment\n",
    "1. Sample out some 1/10 tfs from the two tf2gene datasets\n",
    "2. find all tf2gene edges related to the sampled tfs, sample out 1/10 of them, record the genes\n",
    "3. find all PPI edges related to the recorded genes in Step 2"
   ]
  },
  {
   "cell_type": "code",
   "execution_count": 9,
   "metadata": {
    "execution": {
     "iopub.execute_input": "2020-05-27T13:51:06.679760Z",
     "iopub.status.busy": "2020-05-27T13:51:06.679760Z",
     "iopub.status.idle": "2020-05-27T13:51:06.926815Z",
     "shell.execute_reply": "2020-05-27T13:51:06.926815Z",
     "shell.execute_reply.started": "2020-05-27T13:51:06.679760Z"
    }
   },
   "outputs": [
    {
     "name": "stdout",
     "output_type": "stream",
     "text": [
      "[GM12878] Number of sampled tf: 9\n",
      "[K562] Number of sampled tf: 19\n",
      "[GM12878] Number of sampled tf2gene edges: 4055\n",
      "[K562] Number of sampled gene target nodes: 9312\n",
      "[GM12878] Number of sampled PPI link: 5352\n",
      "[K562] Number of sampled PPI link: 5998\n",
      "Shape of gm_ppi_samples: (9407, 5)\n",
      "Shape of k_ppi_samples: (15310, 5)\n"
     ]
    }
   ],
   "source": [
    "np.random.seed(0)\n",
    "\n",
    "# sample the tfs\n",
    "gm_ntf = gm['source'].nunique()\n",
    "gm_tf = list(set(gm['source']))\n",
    "gm_tf_nodes = set(np.random.choice(gm_tf, int(gm_ntf // 10)))\n",
    "gm_tf2gene_samples = gm_ppi[gm_ppi['source'].isin(gm_tf_nodes)]\n",
    "\n",
    "k_ntf = k['source'].nunique()\n",
    "k_tf = list(set(k['source']))\n",
    "k_tf_nodes = set(np.random.choice(k_tf, int(k_ntf // 10)))\n",
    "k_tf2gene_samples = k_ppi[k_ppi['source'].isin(k_tf_nodes)]\n",
    "\n",
    "print(f'[GM12878] Number of sampled tf: {len(gm_tf_nodes)}')\n",
    "print(f'[K562] Number of sampled tf: {len(k_tf_nodes)}')\n",
    "\n",
    "\n",
    "# select the related genes\n",
    "gm_tf2gene_targets = list(set(gm_tf2gene_samples['target']))\n",
    "gm_tf2gene_targets = set(np.random.choice(gm_tf2gene_targets, int(len(gm_tf2gene_targets) // 10)))\n",
    "\n",
    "k_tf2gene_targets = list(set(k_tf2gene_samples['target']))\n",
    "k_tf2gene_targets = set(np.random.choice(k_tf2gene_targets, int(len(k_tf2gene_targets) // 10)))\n",
    "\n",
    "gm_tf2gene_samples = gm_tf2gene_samples[gm_tf2gene_samples['target'].isin(gm_tf2gene_targets)]\n",
    "k_tf2gene_samples = k_tf2gene_samples[k_tf2gene_samples['target'].isin(k_tf2gene_targets)]\n",
    "                      \n",
    "print(f'[GM12878] Number of sampled tf2gene edges: {len(gm_tf2gene_samples)}')\n",
    "print(f'[K562] Number of sampled gene target nodes: {len(k_tf2gene_samples)}')\n",
    "\n",
    "# gm_gene_samples = gm[gm['source'].isin(gm_tf_nodes)]\n",
    "# k_gene_samples = k[k['source'].isin(k_tf_nodes)]\n",
    "\n",
    "# gm_gene_targets = list(set(gm_gene_samples['target']))\n",
    "# gm_gene_targets = set(np.random.choice(gm_gene_targets, int(len(gm_gene_targets) // 10)))\n",
    "\n",
    "# k_gene_targets = list(set(k_gene_samples['target']))\n",
    "# k_gene_targets = set(np.random.choice(k_gene_targets, int(len(k_gene_targets) // 10)))\n",
    "\n",
    "# gm_gene_samples = gm[gm['source'].isin(gm_tf_nodes) & gm['target'].isin(gm_gene_targets)]\n",
    "# k_gene_samples = k[k['source'].isin(k_tf_nodes) & k['target'].isin(k_gene_targets)]\n",
    "                      \n",
    "# print(f'[GM12878] Number of sampled gene target nodes: {len(gm_gene_targets)}')\n",
    "# print(f'[K562] Number of sampled gene target nodes: {len(k_gene_targets)}')\n",
    "\n",
    "\n",
    "# find PPI edges\n",
    "new_ppi = gm_ppi[gm_ppi['type'] == 'PPI']\n",
    "\n",
    "gm_gene2gene_samples = new_ppi[new_ppi['source'].isin(gm_tf2gene_targets) | new_ppi['target'].isin(gm_tf2gene_targets)]\n",
    "k_gene2gene_samples = new_ppi[new_ppi['source'].isin(k_tf2gene_targets) | new_ppi['target'].isin(k_tf2gene_targets)]\n",
    "\n",
    "print(f'[GM12878] Number of sampled PPI link: {len(gm_gene2gene_samples)}')\n",
    "print(f'[K562] Number of sampled PPI link: {len(k_gene2gene_samples)}')\n",
    "\n",
    "\n",
    "# concat the dataframes\n",
    "\n",
    "gm_ppi_samples = pd.concat([gm_tf2gene_samples, gm_gene2gene_samples])\n",
    "k_ppi_samples = pd.concat([k_tf2gene_samples, k_gene2gene_samples])\n",
    "\n",
    "print(f'Shape of gm_ppi_samples: {gm_ppi_samples.shape}')\n",
    "print(f'Shape of k_ppi_samples: {k_ppi_samples.shape}')\n"
   ]
  },
  {
   "cell_type": "code",
   "execution_count": 13,
   "metadata": {
    "execution": {
     "iopub.execute_input": "2020-06-10T02:55:52.723789Z",
     "iopub.status.busy": "2020-06-10T02:55:52.723789Z",
     "iopub.status.idle": "2020-06-10T02:55:52.794789Z",
     "shell.execute_reply": "2020-06-10T02:55:52.794789Z",
     "shell.execute_reply.started": "2020-06-10T02:55:52.723789Z"
    }
   },
   "outputs": [],
   "source": [
    "gm_ppi_samples[['cell_type', 'source', 'target', 'type', 'weight']].to_csv(path / 'GM12878_PPI_sample_ver1.csv', index=False)\n",
    "k_ppi_samples[['cell_type', 'source', 'target', 'type', 'weight']].to_csv(path / 'K562_PPI_sample_ver1.csv', index=False)"
   ]
  },
  {
   "cell_type": "code",
   "execution_count": null,
   "metadata": {},
   "outputs": [],
   "source": []
  }
 ],
 "metadata": {
  "kernelspec": {
   "display_name": "Python 3",
   "language": "python",
   "name": "python3"
  },
  "language_info": {
   "codemirror_mode": {
    "name": "ipython",
    "version": 3
   },
   "file_extension": ".py",
   "mimetype": "text/x-python",
   "name": "python",
   "nbconvert_exporter": "python",
   "pygments_lexer": "ipython3",
   "version": "3.7.7"
  }
 },
 "nbformat": 4,
 "nbformat_minor": 4
}