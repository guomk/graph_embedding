{
 "cells": [
  {
   "cell_type": "markdown",
   "metadata": {},
   "source": [
    "# Joing Training prep\n",
    "1. find common tf\n",
    "2. rename \n",
    "3. merge common tf with ppi\n",
    "\n",
    "**Note that PPI is undirected "
   ]
  },
  {
   "cell_type": "code",
   "execution_count": 1,
   "metadata": {
    "execution": {
     "iopub.execute_input": "2020-06-15T01:17:37.030974Z",
     "iopub.status.busy": "2020-06-15T01:17:37.029982Z",
     "iopub.status.idle": "2020-06-15T01:17:37.294845Z",
     "shell.execute_reply": "2020-06-15T01:17:37.294845Z",
     "shell.execute_reply.started": "2020-06-15T01:17:37.030974Z"
    }
   },
   "outputs": [],
   "source": [
    "import pandas as pd\n",
    "import numpy as np\n",
    "from pathlib import Path"
   ]
  },
  {
   "cell_type": "code",
   "execution_count": 2,
   "metadata": {
    "execution": {
     "iopub.execute_input": "2020-06-15T01:17:37.317848Z",
     "iopub.status.busy": "2020-06-15T01:17:37.317848Z",
     "iopub.status.idle": "2020-06-15T01:17:37.894473Z",
     "shell.execute_reply": "2020-06-15T01:17:37.894473Z",
     "shell.execute_reply.started": "2020-06-15T01:17:37.317848Z"
    }
   },
   "outputs": [
    {
     "name": "stdout",
     "output_type": "stream",
     "text": [
      "Shape of GM12878: (506074, 5)\n",
      "Shape of K562: (954968, 5)\n",
      "Shape of PPI: (21038, 4)\n"
     ]
    }
   ],
   "source": [
    "path = Path('../../data/')\n",
    "\n",
    "ppi = pd.read_csv(path / 'biogrid.hc.tsv', sep='\\t', header=None)\n",
    "gm = pd.read_csv(path / 'EC-003-NET.edgeList_TSS_GM12878.tsv', sep='\\t', header=None)\n",
    "k = pd.read_csv(path / 'EC-003-NET.edgeList_TSS_K562.tsv', sep='\\t', header=None)\n",
    "\n",
    "gm.columns = ['cell_type', 'source', 'target', 'type', 'weight']\n",
    "k.columns = ['cell_type', 'source', 'target', 'type', 'weight']\n",
    "\n",
    "ppi.columns = ['source', 'target', 'type', 'dummy']\n",
    "ppi = ppi[['source', 'target', 'type']]\n",
    "ppi['weight'] = 'NA'\n",
    "\n",
    "\n",
    "print(f'Shape of GM12878: {gm.shape}')\n",
    "print(f'Shape of K562: {k.shape}')\n",
    "print(f'Shape of PPI: {ppi.shape}')"
   ]
  },
  {
   "cell_type": "markdown",
   "metadata": {},
   "source": [
    "Check for naming compatibility"
   ]
  },
  {
   "cell_type": "code",
   "execution_count": 3,
   "metadata": {
    "execution": {
     "iopub.execute_input": "2020-06-15T01:17:38.439135Z",
     "iopub.status.busy": "2020-06-15T01:17:38.439135Z",
     "iopub.status.idle": "2020-06-15T01:17:38.574649Z",
     "shell.execute_reply": "2020-06-15T01:17:38.574649Z",
     "shell.execute_reply.started": "2020-06-15T01:17:38.439135Z"
    }
   },
   "outputs": [
    {
     "name": "stdout",
     "output_type": "stream",
     "text": [
      "Number of nodes in PPI: 8752\n",
      "Number of gene nodes in GM: 16553\n",
      "Number of gene nodes in K: 17894\n",
      "Number of common nodes in GM&PPI: 8015\n",
      "Number of common nodes in K&PPI: 8169\n"
     ]
    }
   ],
   "source": [
    "ppi_nodes = set(ppi['source']).union(set(ppi['target']))\n",
    "print(f'Number of nodes in PPI: {len(ppi_nodes)}')\n",
    "\n",
    "gm_nodes = set(gm['target'])\n",
    "k_nodes = set(k['target'])\n",
    "print(f'Number of gene nodes in GM: {len(gm_nodes)}')\n",
    "print(f'Number of gene nodes in K: {len(k_nodes)}')\n",
    "\n",
    "print(f'Number of common nodes in GM&PPI: {len(gm_nodes.intersection(ppi_nodes))}')\n",
    "print(f'Number of common nodes in K&PPI: {len(k_nodes.intersection(ppi_nodes))}')"
   ]
  },
  {
   "cell_type": "markdown",
   "metadata": {},
   "source": [
    "From number of common nodes, we could assume that they are using the same naming system\n",
    "\n",
    "**Transform PPI to undirected graph by swapping its source and target**"
   ]
  },
  {
   "cell_type": "code",
   "execution_count": 4,
   "metadata": {
    "execution": {
     "iopub.execute_input": "2020-06-15T01:17:39.700474Z",
     "iopub.status.busy": "2020-06-15T01:17:39.700474Z",
     "iopub.status.idle": "2020-06-15T01:17:39.762178Z",
     "shell.execute_reply": "2020-06-15T01:17:39.762178Z",
     "shell.execute_reply.started": "2020-06-15T01:17:39.700474Z"
    }
   },
   "outputs": [
    {
     "data": {
      "text/html": [
       "<div>\n",
       "<style scoped>\n",
       "    .dataframe tbody tr th:only-of-type {\n",
       "        vertical-align: middle;\n",
       "    }\n",
       "\n",
       "    .dataframe tbody tr th {\n",
       "        vertical-align: top;\n",
       "    }\n",
       "\n",
       "    .dataframe thead th {\n",
       "        text-align: right;\n",
       "    }\n",
       "</style>\n",
       "<table border=\"1\" class=\"dataframe\">\n",
       "  <thead>\n",
       "    <tr style=\"text-align: right;\">\n",
       "      <th></th>\n",
       "      <th>source</th>\n",
       "      <th>target</th>\n",
       "      <th>type</th>\n",
       "      <th>weight</th>\n",
       "    </tr>\n",
       "  </thead>\n",
       "  <tbody>\n",
       "    <tr>\n",
       "      <th>20013</th>\n",
       "      <td>@UBC</td>\n",
       "      <td>TRA</td>\n",
       "      <td>PPI</td>\n",
       "      <td>NaN</td>\n",
       "    </tr>\n",
       "    <tr>\n",
       "      <th>0</th>\n",
       "      <td>A1CF</td>\n",
       "      <td>APOBEC1</td>\n",
       "      <td>PPI</td>\n",
       "      <td>NA</td>\n",
       "    </tr>\n",
       "    <tr>\n",
       "      <th>1</th>\n",
       "      <td>A1CF</td>\n",
       "      <td>SYNCRIP</td>\n",
       "      <td>PPI</td>\n",
       "      <td>NA</td>\n",
       "    </tr>\n",
       "    <tr>\n",
       "      <th>2</th>\n",
       "      <td>A2M</td>\n",
       "      <td>AMBP</td>\n",
       "      <td>PPI</td>\n",
       "      <td>NA</td>\n",
       "    </tr>\n",
       "    <tr>\n",
       "      <th>3</th>\n",
       "      <td>A2M</td>\n",
       "      <td>APOE</td>\n",
       "      <td>PPI</td>\n",
       "      <td>NA</td>\n",
       "    </tr>\n",
       "    <tr>\n",
       "      <th>...</th>\n",
       "      <td>...</td>\n",
       "      <td>...</td>\n",
       "      <td>...</td>\n",
       "      <td>...</td>\n",
       "    </tr>\n",
       "    <tr>\n",
       "      <th>14070</th>\n",
       "      <td>ZYX</td>\n",
       "      <td>NEDD8</td>\n",
       "      <td>PPI</td>\n",
       "      <td>NaN</td>\n",
       "    </tr>\n",
       "    <tr>\n",
       "      <th>20846</th>\n",
       "      <td>ZYX</td>\n",
       "      <td>UBC</td>\n",
       "      <td>PPI</td>\n",
       "      <td>NaN</td>\n",
       "    </tr>\n",
       "    <tr>\n",
       "      <th>20957</th>\n",
       "      <td>ZYX</td>\n",
       "      <td>VASP</td>\n",
       "      <td>PPI</td>\n",
       "      <td>NaN</td>\n",
       "    </tr>\n",
       "    <tr>\n",
       "      <th>20847</th>\n",
       "      <td>ZZEF1</td>\n",
       "      <td>UBC</td>\n",
       "      <td>PPI</td>\n",
       "      <td>NaN</td>\n",
       "    </tr>\n",
       "    <tr>\n",
       "      <th>7085</th>\n",
       "      <td>eIF2A</td>\n",
       "      <td>UBC</td>\n",
       "      <td>PPI</td>\n",
       "      <td>NA</td>\n",
       "    </tr>\n",
       "  </tbody>\n",
       "</table>\n",
       "<p>42076 rows × 4 columns</p>\n",
       "</div>"
      ],
      "text/plain": [
       "      source   target type weight\n",
       "20013   @UBC      TRA  PPI    NaN\n",
       "0       A1CF  APOBEC1  PPI     NA\n",
       "1       A1CF  SYNCRIP  PPI     NA\n",
       "2        A2M     AMBP  PPI     NA\n",
       "3        A2M     APOE  PPI     NA\n",
       "...      ...      ...  ...    ...\n",
       "14070    ZYX    NEDD8  PPI    NaN\n",
       "20846    ZYX      UBC  PPI    NaN\n",
       "20957    ZYX     VASP  PPI    NaN\n",
       "20847  ZZEF1      UBC  PPI    NaN\n",
       "7085   eIF2A      UBC  PPI     NA\n",
       "\n",
       "[42076 rows x 4 columns]"
      ]
     },
     "execution_count": 4,
     "metadata": {},
     "output_type": "execute_result"
    }
   ],
   "source": [
    "ppi_reverse = ppi[['target', 'source', 'type']]\n",
    "ppi_reverse.columns = ['source', 'target', 'type']\n",
    "ppi_undirected = pd.concat([ppi, ppi_reverse])\n",
    "ppi_undirected.sort_values(['source', 'target'], ascending=True)\n",
    "# ppi_undirected.reset_index(inplace=True)\n"
   ]
  },
  {
   "cell_type": "markdown",
   "metadata": {},
   "source": [
    "**Find common tf**"
   ]
  },
  {
   "cell_type": "code",
   "execution_count": 5,
   "metadata": {
    "execution": {
     "iopub.execute_input": "2020-06-15T01:17:42.854378Z",
     "iopub.status.busy": "2020-06-15T01:17:42.854378Z",
     "iopub.status.idle": "2020-06-15T01:17:43.041375Z",
     "shell.execute_reply": "2020-06-15T01:17:43.041375Z",
     "shell.execute_reply.started": "2020-06-15T01:17:42.854378Z"
    }
   },
   "outputs": [],
   "source": [
    "gm12878_tf = set(gm['source'])\n",
    "k562_tf = set(k['source'])\n",
    "\n",
    "common_tf = list(k562_tf.intersection(gm12878_tf))\n",
    "\n",
    "gm_tf2tf = gm[gm['source'].isin(common_tf)]\n",
    "gm_tf2tf = gm_tf2tf[gm_tf2tf['target'].isin(common_tf)]\n",
    "k_tf2tf = k[k['source'].isin(common_tf)]\n",
    "k_tf2tf = k_tf2tf[k_tf2tf['target'].isin(common_tf)]\n",
    "\n",
    "gm_tf2tf.reset_index()\n",
    "gm_tf2tf = gm_tf2tf[['cell_type', 'source', 'target', 'type', 'weight']]\n",
    "k_tf2tf.reset_index()\n",
    "k_tf2tf = k_tf2tf[['cell_type', 'source', 'target', 'type', 'weight']]\n",
    "\n",
    "# rename\n",
    "\n",
    "\n",
    "gm_tf2tf['source'] = gm_tf2tf['source'].map(lambda x: x + '_gm' if x in gm12878_tf else x)\n",
    "gm_tf2tf['target'] = gm_tf2tf['target'].map(lambda x: x + '_gm' if x in gm12878_tf else x)\n",
    "k_tf2tf['source'] = k_tf2tf['source'].map(lambda x: x + '_k' if x in k562_tf else x)\n",
    "k_tf2tf['target'] = k_tf2tf['target'].map(lambda x: x + '_k' if x in k562_tf else x)"
   ]
  },
  {
   "cell_type": "code",
   "execution_count": 6,
   "metadata": {
    "execution": {
     "iopub.execute_input": "2020-06-15T01:17:43.521130Z",
     "iopub.status.busy": "2020-06-15T01:17:43.521130Z",
     "iopub.status.idle": "2020-06-15T01:17:43.536130Z",
     "shell.execute_reply": "2020-06-15T01:17:43.536130Z",
     "shell.execute_reply.started": "2020-06-15T01:17:43.521130Z"
    }
   },
   "outputs": [],
   "source": [
    "# gm_tf2tf.to_csv(path / 'gm_common_renamed.csv', index=False)\n",
    "# k_tf2tf.to_csv(path / 'k_common_renamed.csv', index=False)"
   ]
  },
  {
   "cell_type": "code",
   "execution_count": 7,
   "metadata": {
    "execution": {
     "iopub.execute_input": "2020-06-15T01:17:44.383560Z",
     "iopub.status.busy": "2020-06-15T01:17:44.383560Z",
     "iopub.status.idle": "2020-06-15T01:17:44.388561Z",
     "shell.execute_reply": "2020-06-15T01:17:44.388561Z",
     "shell.execute_reply.started": "2020-06-15T01:17:44.383560Z"
    }
   },
   "outputs": [],
   "source": [
    "# ppi_undirected.to_csv(path / 'ppi_undirected.csv', index=False)"
   ]
  },
  {
   "cell_type": "markdown",
   "metadata": {
    "execution": {
     "iopub.execute_input": "2020-06-12T08:33:12.867210Z",
     "iopub.status.busy": "2020-06-12T08:33:12.867210Z",
     "iopub.status.idle": "2020-06-12T08:33:12.890206Z",
     "shell.execute_reply": "2020-06-12T08:33:12.890206Z",
     "shell.execute_reply.started": "2020-06-12T08:33:12.867210Z"
    }
   },
   "source": [
    "## Merged version of GM, K, and PPI"
   ]
  },
  {
   "cell_type": "code",
   "execution_count": 10,
   "metadata": {
    "execution": {
     "iopub.execute_input": "2020-06-15T01:21:11.404850Z",
     "iopub.status.busy": "2020-06-15T01:21:11.404850Z",
     "iopub.status.idle": "2020-06-15T01:21:11.420928Z",
     "shell.execute_reply": "2020-06-15T01:21:11.420928Z",
     "shell.execute_reply.started": "2020-06-15T01:21:11.404850Z"
    }
   },
   "outputs": [
    {
     "name": "stdout",
     "output_type": "stream",
     "text": [
      "K shape: (2408, 5)\n",
      "GM shape: (2196, 5)\n",
      "PPI shape: (42076, 4)\n",
      "GM + K + PPI: 46680\n"
     ]
    }
   ],
   "source": [
    "print(f'K shape: {k_tf2tf.shape}')\n",
    "print(f'GM shape: {gm_tf2tf.shape}')\n",
    "print(f'PPI shape: {ppi_undirected.shape}')\n",
    "\n",
    "# print(f'K + PPI: {k_tf2tf.shape[0] + ppi_undirected.shape[0]}')\n",
    "print(f'GM + K + PPI: {gm_tf2tf.shape[0] + k_tf2tf.shape[0] + ppi_undirected.shape[0]}')"
   ]
  },
  {
   "cell_type": "code",
   "execution_count": 11,
   "metadata": {
    "execution": {
     "iopub.execute_input": "2020-06-15T01:21:12.480989Z",
     "iopub.status.busy": "2020-06-15T01:21:12.480989Z",
     "iopub.status.idle": "2020-06-15T01:21:12.545529Z",
     "shell.execute_reply": "2020-06-15T01:21:12.545529Z",
     "shell.execute_reply.started": "2020-06-15T01:21:12.480989Z"
    }
   },
   "outputs": [
    {
     "name": "stdout",
     "output_type": "stream",
     "text": [
      "After removing duplicates\n",
      "GM + K + PPI: (46680, 6)\n",
      "No duplicates row observed\n"
     ]
    }
   ],
   "source": [
    "ppi_k = ppi_undirected.copy(deep=True)\n",
    "ppi_k['source'] = ppi_k['source'].map(lambda x: x + '_k' if x in k562_tf else x)\n",
    "ppi_k['target'] = ppi_k['target'].map(lambda x: x + '_k' if x in k562_tf else x)\n",
    "ppi_k['cell_type'] = 'K562'\n",
    "\n",
    "ppi_gm = ppi_undirected.copy(deep=True)\n",
    "ppi_gm['source'] = ppi_gm['source'].map(lambda x: x + '_gm' if x in gm12878_tf else x)\n",
    "ppi_gm['target'] = ppi_gm['target'].map(lambda x: x + '_gm' if x in gm12878_tf else x)\n",
    "ppi_gm['cell_type'] = 'GM12878'\n",
    "\n",
    "k_merged_renamed = pd.concat([k_tf2tf, ppi_k], axis=0)\n",
    "# k_merged_renamed.reset_index(inplace=True)\n",
    "# k_merged_renamed.drop_duplicates(inplace=True)\n",
    "\n",
    "merged_renamed = pd.concat([gm_tf2tf, k_merged_renamed], axis=0)\n",
    "merged_renamed.reset_index(inplace=True)\n",
    "merged_renamed.drop_duplicates(inplace=True)\n",
    "\n",
    "print('After removing duplicates')\n",
    "# print(f'K + PPI: {k_merged_renamed.shape}')\n",
    "print(f'GM + K + PPI: {merged_renamed.shape}')\n",
    "print('No duplicates row observed')"
   ]
  },
  {
   "cell_type": "code",
   "execution_count": 12,
   "metadata": {
    "execution": {
     "iopub.execute_input": "2020-06-15T01:21:21.330767Z",
     "iopub.status.busy": "2020-06-15T01:21:21.330767Z",
     "iopub.status.idle": "2020-06-15T01:21:21.351796Z",
     "shell.execute_reply": "2020-06-15T01:21:21.351796Z",
     "shell.execute_reply.started": "2020-06-15T01:21:21.330767Z"
    }
   },
   "outputs": [
    {
     "data": {
      "text/html": [
       "<div>\n",
       "<style scoped>\n",
       "    .dataframe tbody tr th:only-of-type {\n",
       "        vertical-align: middle;\n",
       "    }\n",
       "\n",
       "    .dataframe tbody tr th {\n",
       "        vertical-align: top;\n",
       "    }\n",
       "\n",
       "    .dataframe thead th {\n",
       "        text-align: right;\n",
       "    }\n",
       "</style>\n",
       "<table border=\"1\" class=\"dataframe\">\n",
       "  <thead>\n",
       "    <tr style=\"text-align: right;\">\n",
       "      <th></th>\n",
       "      <th>index</th>\n",
       "      <th>cell_type</th>\n",
       "      <th>source</th>\n",
       "      <th>target</th>\n",
       "      <th>type</th>\n",
       "      <th>weight</th>\n",
       "    </tr>\n",
       "  </thead>\n",
       "  <tbody>\n",
       "    <tr>\n",
       "      <th>0</th>\n",
       "      <td>5646</td>\n",
       "      <td>GM12878</td>\n",
       "      <td>ATF3_gm</td>\n",
       "      <td>ZBTB40_gm</td>\n",
       "      <td>TSS</td>\n",
       "      <td>373</td>\n",
       "    </tr>\n",
       "    <tr>\n",
       "      <th>1</th>\n",
       "      <td>5676</td>\n",
       "      <td>GM12878</td>\n",
       "      <td>ATF3_gm</td>\n",
       "      <td>YBX1_gm</td>\n",
       "      <td>TSS</td>\n",
       "      <td>196.371</td>\n",
       "    </tr>\n",
       "    <tr>\n",
       "      <th>2</th>\n",
       "      <td>5841</td>\n",
       "      <td>GM12878</td>\n",
       "      <td>ATF3_gm</td>\n",
       "      <td>BHLHE40_gm</td>\n",
       "      <td>TSS</td>\n",
       "      <td>88.3926</td>\n",
       "    </tr>\n",
       "    <tr>\n",
       "      <th>3</th>\n",
       "      <td>6079</td>\n",
       "      <td>GM12878</td>\n",
       "      <td>ATF3_gm</td>\n",
       "      <td>TBP_gm</td>\n",
       "      <td>TSS</td>\n",
       "      <td>144</td>\n",
       "    </tr>\n",
       "    <tr>\n",
       "      <th>4</th>\n",
       "      <td>6293</td>\n",
       "      <td>GM12878</td>\n",
       "      <td>ATF3_gm</td>\n",
       "      <td>MXI1_gm</td>\n",
       "      <td>TSS</td>\n",
       "      <td>98.7601</td>\n",
       "    </tr>\n",
       "    <tr>\n",
       "      <th>...</th>\n",
       "      <td>...</td>\n",
       "      <td>...</td>\n",
       "      <td>...</td>\n",
       "      <td>...</td>\n",
       "      <td>...</td>\n",
       "      <td>...</td>\n",
       "    </tr>\n",
       "    <tr>\n",
       "      <th>46675</th>\n",
       "      <td>21033</td>\n",
       "      <td>K562</td>\n",
       "      <td>ZNF434</td>\n",
       "      <td>ZNF434</td>\n",
       "      <td>PPI</td>\n",
       "      <td>NaN</td>\n",
       "    </tr>\n",
       "    <tr>\n",
       "      <th>46676</th>\n",
       "      <td>21034</td>\n",
       "      <td>K562</td>\n",
       "      <td>ZNF446</td>\n",
       "      <td>ZNF434</td>\n",
       "      <td>PPI</td>\n",
       "      <td>NaN</td>\n",
       "    </tr>\n",
       "    <tr>\n",
       "      <th>46677</th>\n",
       "      <td>21035</td>\n",
       "      <td>K562</td>\n",
       "      <td>ZNF496</td>\n",
       "      <td>ZNF446</td>\n",
       "      <td>PPI</td>\n",
       "      <td>NaN</td>\n",
       "    </tr>\n",
       "    <tr>\n",
       "      <th>46678</th>\n",
       "      <td>21036</td>\n",
       "      <td>K562</td>\n",
       "      <td>ZSCAN16</td>\n",
       "      <td>ZNF446</td>\n",
       "      <td>PPI</td>\n",
       "      <td>NaN</td>\n",
       "    </tr>\n",
       "    <tr>\n",
       "      <th>46679</th>\n",
       "      <td>21037</td>\n",
       "      <td>K562</td>\n",
       "      <td>ZNF471</td>\n",
       "      <td>ZNF471</td>\n",
       "      <td>PPI</td>\n",
       "      <td>NaN</td>\n",
       "    </tr>\n",
       "  </tbody>\n",
       "</table>\n",
       "<p>46680 rows × 6 columns</p>\n",
       "</div>"
      ],
      "text/plain": [
       "       index cell_type   source      target type   weight\n",
       "0       5646   GM12878  ATF3_gm   ZBTB40_gm  TSS      373\n",
       "1       5676   GM12878  ATF3_gm     YBX1_gm  TSS  196.371\n",
       "2       5841   GM12878  ATF3_gm  BHLHE40_gm  TSS  88.3926\n",
       "3       6079   GM12878  ATF3_gm      TBP_gm  TSS      144\n",
       "4       6293   GM12878  ATF3_gm     MXI1_gm  TSS  98.7601\n",
       "...      ...       ...      ...         ...  ...      ...\n",
       "46675  21033      K562   ZNF434      ZNF434  PPI      NaN\n",
       "46676  21034      K562   ZNF446      ZNF434  PPI      NaN\n",
       "46677  21035      K562   ZNF496      ZNF446  PPI      NaN\n",
       "46678  21036      K562  ZSCAN16      ZNF446  PPI      NaN\n",
       "46679  21037      K562   ZNF471      ZNF471  PPI      NaN\n",
       "\n",
       "[46680 rows x 6 columns]"
      ]
     },
     "execution_count": 12,
     "metadata": {},
     "output_type": "execute_result"
    }
   ],
   "source": [
    "merged_renamed"
   ]
  },
  {
   "cell_type": "code",
   "execution_count": 13,
   "metadata": {
    "execution": {
     "iopub.execute_input": "2020-06-15T01:21:47.657240Z",
     "iopub.status.busy": "2020-06-15T01:21:47.657240Z",
     "iopub.status.idle": "2020-06-15T01:21:47.752844Z",
     "shell.execute_reply": "2020-06-15T01:21:47.752844Z",
     "shell.execute_reply.started": "2020-06-15T01:21:47.657240Z"
    }
   },
   "outputs": [],
   "source": [
    "# gm_merged_renamed.to_csv(path / 'gm_ppi_common_renamed.csv', index=False)\n",
    "merged_renamed.to_csv(path / 'joint_renamed.csv', index=False)"
   ]
  },
  {
   "cell_type": "code",
   "execution_count": null,
   "metadata": {},
   "outputs": [],
   "source": []
  }
 ],
 "metadata": {
  "kernelspec": {
   "display_name": "Python 3",
   "language": "python",
   "name": "python3"
  },
  "language_info": {
   "codemirror_mode": {
    "name": "ipython",
    "version": 3
   },
   "file_extension": ".py",
   "mimetype": "text/x-python",
   "name": "python",
   "nbconvert_exporter": "python",
   "pygments_lexer": "ipython3",
   "version": "3.7.7"
  }
 },
 "nbformat": 4,
 "nbformat_minor": 4
}
