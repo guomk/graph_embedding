{
 "cells": [
  {
   "cell_type": "markdown",
   "metadata": {},
   "source": [
    "# Joing Training prep\n",
    "1. find common tf\n",
    "2. rename \n",
    "3. merge common tf with ppi\n",
    "\n",
    "**Note that PPI is undirected "
   ]
  },
  {
   "cell_type": "code",
   "execution_count": 1,
   "metadata": {
    "execution": {
     "iopub.execute_input": "2020-06-18T08:06:53.624766Z",
     "iopub.status.busy": "2020-06-18T08:06:53.624766Z",
     "iopub.status.idle": "2020-06-18T08:06:53.892764Z",
     "shell.execute_reply": "2020-06-18T08:06:53.892764Z",
     "shell.execute_reply.started": "2020-06-18T08:06:53.624766Z"
    }
   },
   "outputs": [],
   "source": [
    "import pandas as pd\n",
    "import numpy as np\n",
    "from pathlib import Path"
   ]
  },
  {
   "cell_type": "code",
   "execution_count": 2,
   "metadata": {
    "execution": {
     "iopub.execute_input": "2020-06-18T08:06:53.893765Z",
     "iopub.status.busy": "2020-06-18T08:06:53.893765Z",
     "iopub.status.idle": "2020-06-18T08:06:54.464764Z",
     "shell.execute_reply": "2020-06-18T08:06:54.464764Z",
     "shell.execute_reply.started": "2020-06-18T08:06:53.893765Z"
    }
   },
   "outputs": [
    {
     "name": "stdout",
     "output_type": "stream",
     "text": [
      "Shape of GM12878: (506074, 5)\n",
      "Shape of K562: (954968, 5)\n",
      "Shape of PPI: (21038, 3)\n"
     ]
    }
   ],
   "source": [
    "path = Path('../../data/')\n",
    "\n",
    "ppi = pd.read_csv(path / 'biogrid.hc.tsv', sep='\\t', header=None)\n",
    "gm = pd.read_csv(path / 'EC-003-NET.edgeList_TSS_GM12878.tsv', sep='\\t', header=None)\n",
    "k = pd.read_csv(path / 'EC-003-NET.edgeList_TSS_K562.tsv', sep='\\t', header=None)\n",
    "\n",
    "gm.columns = ['cell_type', 'source', 'target', 'type', 'weight']\n",
    "k.columns = ['cell_type', 'source', 'target', 'type', 'weight']\n",
    "\n",
    "ppi.columns = ['source', 'target', 'type', 'dummy']\n",
    "ppi = ppi[['source', 'target', 'type']]\n",
    "\n",
    "\n",
    "print(f'Shape of GM12878: {gm.shape}')\n",
    "print(f'Shape of K562: {k.shape}')\n",
    "print(f'Shape of PPI: {ppi.shape}')"
   ]
  },
  {
   "cell_type": "markdown",
   "metadata": {},
   "source": [
    "Check for naming compatibility"
   ]
  },
  {
   "cell_type": "code",
   "execution_count": 41,
   "metadata": {
    "execution": {
     "iopub.execute_input": "2020-06-19T07:10:42.089444Z",
     "iopub.status.busy": "2020-06-19T07:10:42.089444Z",
     "iopub.status.idle": "2020-06-19T07:10:42.238942Z",
     "shell.execute_reply": "2020-06-19T07:10:42.238942Z",
     "shell.execute_reply.started": "2020-06-19T07:10:42.089444Z"
    }
   },
   "outputs": [
    {
     "name": "stdout",
     "output_type": "stream",
     "text": [
      "Number of nodes in PPI: 8752\n"
     ]
    }
   ],
   "source": [
    "ppi_nodes = set(ppi['source']).union(set(ppi['target']))\n",
    "print(f'Number of nodes in PPI: {len(ppi_nodes)}')\n",
    "\n",
    "gm_nodes = set(gm['target'])\n",
    "k_nodes = set(k['target'])\n",
    "\n",
    "gm_ppi = gm_nodes.difference(set(gm['source']))\n",
    "# gm_ppi.intersection(ppi_nodes)\n",
    "\n",
    "\n",
    "\n",
    "# print(f'Number of gene nodes in GM: {len(gm_nodes)}')\n",
    "# print(f'Number of gene nodes in K: {len(k_nodes)}')\n",
    "\n",
    "# print(f'Number of common nodes in GM&PPI: {len(gm_nodes.intersection(ppi_nodes))}')\n",
    "# print(f'Number of common nodes in K&PPI: {len(k_nodes.intersection(ppi_nodes))}')"
   ]
  },
  {
   "cell_type": "markdown",
   "metadata": {},
   "source": [
    "From number of common nodes, we could assume that they are using the same naming system\n",
    "\n",
    "**Transform PPI to undirected graph by swapping its source and target**"
   ]
  },
  {
   "cell_type": "code",
   "execution_count": 4,
   "metadata": {
    "execution": {
     "iopub.execute_input": "2020-06-18T08:06:54.607280Z",
     "iopub.status.busy": "2020-06-18T08:06:54.607280Z",
     "iopub.status.idle": "2020-06-18T08:06:54.670276Z",
     "shell.execute_reply": "2020-06-18T08:06:54.670276Z",
     "shell.execute_reply.started": "2020-06-18T08:06:54.607280Z"
    }
   },
   "outputs": [
    {
     "data": {
      "text/html": [
       "<div>\n",
       "<style scoped>\n",
       "    .dataframe tbody tr th:only-of-type {\n",
       "        vertical-align: middle;\n",
       "    }\n",
       "\n",
       "    .dataframe tbody tr th {\n",
       "        vertical-align: top;\n",
       "    }\n",
       "\n",
       "    .dataframe thead th {\n",
       "        text-align: right;\n",
       "    }\n",
       "</style>\n",
       "<table border=\"1\" class=\"dataframe\">\n",
       "  <thead>\n",
       "    <tr style=\"text-align: right;\">\n",
       "      <th></th>\n",
       "      <th>source</th>\n",
       "      <th>target</th>\n",
       "      <th>type</th>\n",
       "      <th>weight</th>\n",
       "    </tr>\n",
       "  </thead>\n",
       "  <tbody>\n",
       "    <tr>\n",
       "      <th>0</th>\n",
       "      <td>@UBC</td>\n",
       "      <td>TRA</td>\n",
       "      <td>PPI</td>\n",
       "      <td>NA</td>\n",
       "    </tr>\n",
       "    <tr>\n",
       "      <th>1</th>\n",
       "      <td>A1CF</td>\n",
       "      <td>APOBEC1</td>\n",
       "      <td>PPI</td>\n",
       "      <td>NA</td>\n",
       "    </tr>\n",
       "    <tr>\n",
       "      <th>2</th>\n",
       "      <td>A1CF</td>\n",
       "      <td>SYNCRIP</td>\n",
       "      <td>PPI</td>\n",
       "      <td>NA</td>\n",
       "    </tr>\n",
       "    <tr>\n",
       "      <th>3</th>\n",
       "      <td>A2M</td>\n",
       "      <td>AMBP</td>\n",
       "      <td>PPI</td>\n",
       "      <td>NA</td>\n",
       "    </tr>\n",
       "    <tr>\n",
       "      <th>4</th>\n",
       "      <td>A2M</td>\n",
       "      <td>APOE</td>\n",
       "      <td>PPI</td>\n",
       "      <td>NA</td>\n",
       "    </tr>\n",
       "    <tr>\n",
       "      <th>...</th>\n",
       "      <td>...</td>\n",
       "      <td>...</td>\n",
       "      <td>...</td>\n",
       "      <td>...</td>\n",
       "    </tr>\n",
       "    <tr>\n",
       "      <th>42071</th>\n",
       "      <td>ZYX</td>\n",
       "      <td>NEDD8</td>\n",
       "      <td>PPI</td>\n",
       "      <td>NA</td>\n",
       "    </tr>\n",
       "    <tr>\n",
       "      <th>42072</th>\n",
       "      <td>ZYX</td>\n",
       "      <td>UBC</td>\n",
       "      <td>PPI</td>\n",
       "      <td>NA</td>\n",
       "    </tr>\n",
       "    <tr>\n",
       "      <th>42073</th>\n",
       "      <td>ZYX</td>\n",
       "      <td>VASP</td>\n",
       "      <td>PPI</td>\n",
       "      <td>NA</td>\n",
       "    </tr>\n",
       "    <tr>\n",
       "      <th>42074</th>\n",
       "      <td>ZZEF1</td>\n",
       "      <td>UBC</td>\n",
       "      <td>PPI</td>\n",
       "      <td>NA</td>\n",
       "    </tr>\n",
       "    <tr>\n",
       "      <th>42075</th>\n",
       "      <td>eIF2A</td>\n",
       "      <td>UBC</td>\n",
       "      <td>PPI</td>\n",
       "      <td>NA</td>\n",
       "    </tr>\n",
       "  </tbody>\n",
       "</table>\n",
       "<p>42076 rows × 4 columns</p>\n",
       "</div>"
      ],
      "text/plain": [
       "      source   target type weight\n",
       "0       @UBC      TRA  PPI     NA\n",
       "1       A1CF  APOBEC1  PPI     NA\n",
       "2       A1CF  SYNCRIP  PPI     NA\n",
       "3        A2M     AMBP  PPI     NA\n",
       "4        A2M     APOE  PPI     NA\n",
       "...      ...      ...  ...    ...\n",
       "42071    ZYX    NEDD8  PPI     NA\n",
       "42072    ZYX      UBC  PPI     NA\n",
       "42073    ZYX     VASP  PPI     NA\n",
       "42074  ZZEF1      UBC  PPI     NA\n",
       "42075  eIF2A      UBC  PPI     NA\n",
       "\n",
       "[42076 rows x 4 columns]"
      ]
     },
     "execution_count": 4,
     "metadata": {},
     "output_type": "execute_result"
    }
   ],
   "source": [
    "ppi_reverse = ppi[['target', 'source', 'type']]\n",
    "ppi_reverse.columns = ['source', 'target', 'type']\n",
    "ppi_undirected = pd.concat([ppi, ppi_reverse])\n",
    "ppi_undirected.sort_values(['source', 'target'], ascending=True, inplace=True)\n",
    "ppi_undirected.reset_index(inplace=True)\n",
    "ppi_undirected = ppi_undirected[['source', 'target', 'type']]\n",
    "ppi_undirected['weight'] = 'NA'\n",
    "ppi_undirected"
   ]
  },
  {
   "cell_type": "markdown",
   "metadata": {},
   "source": [
    "**Find common tf and all tf**"
   ]
  },
  {
   "cell_type": "code",
   "execution_count": 17,
   "metadata": {
    "execution": {
     "iopub.execute_input": "2020-06-18T08:09:01.484943Z",
     "iopub.status.busy": "2020-06-18T08:09:01.484943Z",
     "iopub.status.idle": "2020-06-18T08:09:01.679966Z",
     "shell.execute_reply": "2020-06-18T08:09:01.679966Z",
     "shell.execute_reply.started": "2020-06-18T08:09:01.484943Z"
    }
   },
   "outputs": [
    {
     "name": "stdout",
     "output_type": "stream",
     "text": [
      "Common TFs: 69\n",
      "All TFs: 209\n",
      "Exclusive(XOR) TFs: 140\n"
     ]
    }
   ],
   "source": [
    "gm12878_tf = set(gm['source'])\n",
    "k562_tf = set(k['source'])\n",
    "\n",
    "common_tf = set(k562_tf.intersection(gm12878_tf))\n",
    "all_tf = set(k562_tf.union(k562_tf))\n",
    "xor_tf = all_tf.difference(common_tf)\n",
    "print(f'Common TFs: {len(common_tf)}')\n",
    "print(f'All TFs: {len(all_tf)}')\n",
    "print(f'Exclusive(XOR) TFs: {len(xor_tf)}')\n",
    "\n",
    "# Create a look up table containing all common tfs for future use (if necessary)\n",
    "path = Path('../../data/')\n",
    "\n",
    "common_tf_df = pd.DataFrame(common_tf, columns=['tf'])\n",
    "all_tf_df = pd.DataFrame(all_tf, columns=['tf'])\n",
    "xor_tf_df = pd.DataFrame(xor_tf, columns=['tf'])\n",
    "\n",
    "# common_tf_df.to_csv(path / 'common_tf.csv', index=False)\n",
    "# all_tf_df.to_csv(path / 'all_tf.csv', index=False)\n",
    "# xor_tf_df.to_csv(path / 'xor_tf.csv', index=False)\n",
    "\n",
    "\n",
    "# Filter out source nodes that belong to common_tf\n",
    "gm_tf2gene = gm[gm['source'].isin(common_tf)]\n",
    "k_tf2gene = k[k['source'].isin(common_tf)]\n",
    "\n",
    "# Clean up\n",
    "gm_tf2gene.reset_index()\n",
    "gm_tf2gene = gm_tf2gene[['cell_type', 'source', 'target', 'type', 'weight']]\n",
    "k_tf2gene.reset_index()\n",
    "k_tf2gene = k_tf2gene[['cell_type', 'source', 'target', 'type', 'weight']]"
   ]
  },
  {
   "cell_type": "markdown",
   "metadata": {},
   "source": [
    "Check that we have indeed only include common tf in source nodes"
   ]
  },
  {
   "cell_type": "code",
   "execution_count": 6,
   "metadata": {
    "execution": {
     "iopub.execute_input": "2020-06-18T08:07:01.249064Z",
     "iopub.status.busy": "2020-06-18T08:07:01.248061Z",
     "iopub.status.idle": "2020-06-18T08:07:01.301062Z",
     "shell.execute_reply": "2020-06-18T08:07:01.301062Z",
     "shell.execute_reply.started": "2020-06-18T08:07:01.249064Z"
    }
   },
   "outputs": [
    {
     "name": "stdout",
     "output_type": "stream",
     "text": [
      "The two edgelist has exactly the same types of source nodes\n"
     ]
    }
   ],
   "source": [
    "gm_source = set(gm_tf2gene['source'])\n",
    "k_source = set(k_tf2gene['source'])\n",
    "\n",
    "import collections\n",
    "compare = lambda x, y: collections.Counter(x) == collections.Counter(y)\n",
    "\n",
    "print('The two edgelist has exactly the same types of source nodes' if compare(gm_source, k_source) else 'The two edgelist does not have same types of source nodes')"
   ]
  },
  {
   "cell_type": "markdown",
   "metadata": {},
   "source": [
    "At this stage, all the `source` are common TFs, what we need to do next is\n",
    "1. rename all `source` nodes\n",
    "2. identify `target` nodes, they should be classified into three classes\n",
    "    1. gene -- no operation needed\n",
    "    2. TF but not part of common_tf -- remove?\n",
    "    3. TF and part of common_tf -- rename"
   ]
  },
  {
   "cell_type": "code",
   "execution_count": 25,
   "metadata": {
    "execution": {
     "iopub.execute_input": "2020-06-18T08:12:20.295501Z",
     "iopub.status.busy": "2020-06-18T08:12:20.295501Z",
     "iopub.status.idle": "2020-06-18T08:12:20.829552Z",
     "shell.execute_reply": "2020-06-18T08:12:20.829552Z",
     "shell.execute_reply.started": "2020-06-18T08:12:20.295501Z"
    }
   },
   "outputs": [
    {
     "name": "stdout",
     "output_type": "stream",
     "text": [
      "Renamed GM12878 target nodes:  Counter({False: 348278, True: 2196})\n",
      "Renamed K562 target nodes:  Counter({False: 382963, True: 2408})\n"
     ]
    }
   ],
   "source": [
    "# rename ALL source nodes (add '_gm' or '_k')\n",
    "# ALL source nodes are TFs\n",
    "gm_tf2gene['source_renamed'] = gm_tf2gene['source'].map(lambda x: x + '_gm')\n",
    "k_tf2gene['source_renamed'] = k_tf2gene['source'].map(lambda x: x + '_k')\n",
    "\n",
    "# Rename target nodes which are TFs AND part of common_tf\n",
    "gm_tf2gene['target_renamed'] = gm_tf2gene['target'].map(lambda x: x + '_gm' if x in common_tf else x)\n",
    "k_tf2gene['target_renamed'] = k_tf2gene['target'].map(lambda x: x + '_k' if x in common_tf else x)\n",
    "\n",
    "# Remove target nodes which are TFs BUT NOT part of common_tf\n",
    "gm_tf2gene = gm_tf2gene[~gm_tf2gene['target'].isin(xor_tf)]\n",
    "k_tf2gene = k_tf2gene[~k_tf2gene['target'].isin(xor_tf)]\n",
    "\n",
    "# Check for correctness\n",
    "gm_is_renamed = gm_tf2gene['target_renamed'].map(lambda x: x[-3:] == '_gm')\n",
    "k_is_renamed = k_tf2gene['target_renamed'].map(lambda x: x[-2:] == '_k')\n",
    "print('Renamed GM12878 target nodes: ', collections.Counter(gm_is_renamed))\n",
    "print('Renamed K562 target nodes: ', collections.Counter(k_is_renamed))"
   ]
  },
  {
   "cell_type": "code",
   "execution_count": 27,
   "metadata": {
    "execution": {
     "iopub.execute_input": "2020-06-18T08:12:34.620257Z",
     "iopub.status.busy": "2020-06-18T08:12:34.620257Z",
     "iopub.status.idle": "2020-06-18T08:12:34.695280Z",
     "shell.execute_reply": "2020-06-18T08:12:34.695280Z",
     "shell.execute_reply.started": "2020-06-18T08:12:34.620257Z"
    }
   },
   "outputs": [
    {
     "name": "stdout",
     "output_type": "stream",
     "text": [
      "0\n",
      "0\n"
     ]
    }
   ],
   "source": [
    "# Check all xor tfs are removed\n",
    "print(len(set(gm_tf2gene['target_renamed']).intersection(xor_tf)))\n",
    "print(len(set(k_tf2gene['target_renamed']).intersection(xor_tf)))"
   ]
  },
  {
   "cell_type": "code",
   "execution_count": 28,
   "metadata": {
    "execution": {
     "iopub.execute_input": "2020-06-18T08:15:54.369611Z",
     "iopub.status.busy": "2020-06-18T08:15:54.369611Z",
     "iopub.status.idle": "2020-06-18T08:15:54.393638Z",
     "shell.execute_reply": "2020-06-18T08:15:54.393638Z",
     "shell.execute_reply.started": "2020-06-18T08:15:54.369611Z"
    }
   },
   "outputs": [
    {
     "data": {
      "text/html": [
       "<div>\n",
       "<style scoped>\n",
       "    .dataframe tbody tr th:only-of-type {\n",
       "        vertical-align: middle;\n",
       "    }\n",
       "\n",
       "    .dataframe tbody tr th {\n",
       "        vertical-align: top;\n",
       "    }\n",
       "\n",
       "    .dataframe thead th {\n",
       "        text-align: right;\n",
       "    }\n",
       "</style>\n",
       "<table border=\"1\" class=\"dataframe\">\n",
       "  <thead>\n",
       "    <tr style=\"text-align: right;\">\n",
       "      <th></th>\n",
       "      <th>cell_type</th>\n",
       "      <th>source</th>\n",
       "      <th>target</th>\n",
       "      <th>type</th>\n",
       "      <th>weight</th>\n",
       "      <th>source_renamed</th>\n",
       "      <th>target_renamed</th>\n",
       "    </tr>\n",
       "  </thead>\n",
       "  <tbody>\n",
       "    <tr>\n",
       "      <th>5620</th>\n",
       "      <td>GM12878</td>\n",
       "      <td>ATF3</td>\n",
       "      <td>SDF4</td>\n",
       "      <td>TSS</td>\n",
       "      <td>179.618811</td>\n",
       "      <td>ATF3_gm</td>\n",
       "      <td>SDF4</td>\n",
       "    </tr>\n",
       "    <tr>\n",
       "      <th>5621</th>\n",
       "      <td>GM12878</td>\n",
       "      <td>ATF3</td>\n",
       "      <td>B3GALT6</td>\n",
       "      <td>TSS</td>\n",
       "      <td>178.254494</td>\n",
       "      <td>ATF3_gm</td>\n",
       "      <td>B3GALT6</td>\n",
       "    </tr>\n",
       "    <tr>\n",
       "      <th>5622</th>\n",
       "      <td>GM12878</td>\n",
       "      <td>ATF3</td>\n",
       "      <td>SSU72</td>\n",
       "      <td>TSS</td>\n",
       "      <td>413.000000</td>\n",
       "      <td>ATF3_gm</td>\n",
       "      <td>SSU72</td>\n",
       "    </tr>\n",
       "    <tr>\n",
       "      <th>5623</th>\n",
       "      <td>GM12878</td>\n",
       "      <td>ATF3</td>\n",
       "      <td>AL645728.1</td>\n",
       "      <td>TSS</td>\n",
       "      <td>413.000000</td>\n",
       "      <td>ATF3_gm</td>\n",
       "      <td>AL645728.1</td>\n",
       "    </tr>\n",
       "    <tr>\n",
       "      <th>5624</th>\n",
       "      <td>GM12878</td>\n",
       "      <td>ATF3</td>\n",
       "      <td>CDK11A</td>\n",
       "      <td>TSS</td>\n",
       "      <td>160.000000</td>\n",
       "      <td>ATF3_gm</td>\n",
       "      <td>CDK11A</td>\n",
       "    </tr>\n",
       "    <tr>\n",
       "      <th>...</th>\n",
       "      <td>...</td>\n",
       "      <td>...</td>\n",
       "      <td>...</td>\n",
       "      <td>...</td>\n",
       "      <td>...</td>\n",
       "      <td>...</td>\n",
       "      <td>...</td>\n",
       "    </tr>\n",
       "    <tr>\n",
       "      <th>506069</th>\n",
       "      <td>GM12878</td>\n",
       "      <td>JUND</td>\n",
       "      <td>G6PD</td>\n",
       "      <td>TSS</td>\n",
       "      <td>401.905464</td>\n",
       "      <td>JUND_gm</td>\n",
       "      <td>G6PD</td>\n",
       "    </tr>\n",
       "    <tr>\n",
       "      <th>506070</th>\n",
       "      <td>GM12878</td>\n",
       "      <td>JUND</td>\n",
       "      <td>VAMP7</td>\n",
       "      <td>TSS</td>\n",
       "      <td>823.020345</td>\n",
       "      <td>JUND_gm</td>\n",
       "      <td>VAMP7</td>\n",
       "    </tr>\n",
       "    <tr>\n",
       "      <th>506071</th>\n",
       "      <td>GM12878</td>\n",
       "      <td>JUND</td>\n",
       "      <td>CRLF2</td>\n",
       "      <td>TSS</td>\n",
       "      <td>1000.000000</td>\n",
       "      <td>JUND_gm</td>\n",
       "      <td>CRLF2</td>\n",
       "    </tr>\n",
       "    <tr>\n",
       "      <th>506072</th>\n",
       "      <td>GM12878</td>\n",
       "      <td>JUND</td>\n",
       "      <td>ASMTL</td>\n",
       "      <td>TSS</td>\n",
       "      <td>1363.003897</td>\n",
       "      <td>JUND_gm</td>\n",
       "      <td>ASMTL</td>\n",
       "    </tr>\n",
       "    <tr>\n",
       "      <th>506073</th>\n",
       "      <td>GM12878</td>\n",
       "      <td>JUND</td>\n",
       "      <td>VAMP7</td>\n",
       "      <td>TSS</td>\n",
       "      <td>823.020345</td>\n",
       "      <td>JUND_gm</td>\n",
       "      <td>VAMP7</td>\n",
       "    </tr>\n",
       "  </tbody>\n",
       "</table>\n",
       "<p>350474 rows × 7 columns</p>\n",
       "</div>"
      ],
      "text/plain": [
       "       cell_type source      target type       weight source_renamed  \\\n",
       "5620     GM12878   ATF3        SDF4  TSS   179.618811        ATF3_gm   \n",
       "5621     GM12878   ATF3     B3GALT6  TSS   178.254494        ATF3_gm   \n",
       "5622     GM12878   ATF3       SSU72  TSS   413.000000        ATF3_gm   \n",
       "5623     GM12878   ATF3  AL645728.1  TSS   413.000000        ATF3_gm   \n",
       "5624     GM12878   ATF3      CDK11A  TSS   160.000000        ATF3_gm   \n",
       "...          ...    ...         ...  ...          ...            ...   \n",
       "506069   GM12878   JUND        G6PD  TSS   401.905464        JUND_gm   \n",
       "506070   GM12878   JUND       VAMP7  TSS   823.020345        JUND_gm   \n",
       "506071   GM12878   JUND       CRLF2  TSS  1000.000000        JUND_gm   \n",
       "506072   GM12878   JUND       ASMTL  TSS  1363.003897        JUND_gm   \n",
       "506073   GM12878   JUND       VAMP7  TSS   823.020345        JUND_gm   \n",
       "\n",
       "       target_renamed  \n",
       "5620             SDF4  \n",
       "5621          B3GALT6  \n",
       "5622            SSU72  \n",
       "5623       AL645728.1  \n",
       "5624           CDK11A  \n",
       "...               ...  \n",
       "506069           G6PD  \n",
       "506070          VAMP7  \n",
       "506071          CRLF2  \n",
       "506072          ASMTL  \n",
       "506073          VAMP7  \n",
       "\n",
       "[350474 rows x 7 columns]"
      ]
     },
     "execution_count": 28,
     "metadata": {},
     "output_type": "execute_result"
    }
   ],
   "source": [
    "gm_tf2gene"
   ]
  },
  {
   "cell_type": "code",
   "execution_count": 29,
   "metadata": {
    "execution": {
     "iopub.execute_input": "2020-06-18T08:16:06.294234Z",
     "iopub.status.busy": "2020-06-18T08:16:06.294234Z",
     "iopub.status.idle": "2020-06-18T08:16:07.920745Z",
     "shell.execute_reply": "2020-06-18T08:16:07.920745Z",
     "shell.execute_reply.started": "2020-06-18T08:16:06.294234Z"
    }
   },
   "outputs": [
    {
     "name": "stderr",
     "output_type": "stream",
     "text": [
      "C:\\Users\\mukun\\anaconda3\\envs\\graphemb\\lib\\site-packages\\ipykernel_launcher.py:2: SettingWithCopyWarning: \n",
      "A value is trying to be set on a copy of a slice from a DataFrame.\n",
      "Try using .loc[row_indexer,col_indexer] = value instead\n",
      "\n",
      "See the caveats in the documentation: https://pandas.pydata.org/pandas-docs/stable/user_guide/indexing.html#returning-a-view-versus-a-copy\n",
      "  \n",
      "C:\\Users\\mukun\\anaconda3\\envs\\graphemb\\lib\\site-packages\\ipykernel_launcher.py:4: SettingWithCopyWarning: \n",
      "A value is trying to be set on a copy of a slice from a DataFrame.\n",
      "Try using .loc[row_indexer,col_indexer] = value instead\n",
      "\n",
      "See the caveats in the documentation: https://pandas.pydata.org/pandas-docs/stable/user_guide/indexing.html#returning-a-view-versus-a-copy\n",
      "  after removing the cwd from sys.path.\n",
      "C:\\Users\\mukun\\anaconda3\\envs\\graphemb\\lib\\site-packages\\pandas\\core\\frame.py:3997: SettingWithCopyWarning: \n",
      "A value is trying to be set on a copy of a slice from a DataFrame\n",
      "\n",
      "See the caveats in the documentation: https://pandas.pydata.org/pandas-docs/stable/user_guide/indexing.html#returning-a-view-versus-a-copy\n",
      "  errors=errors,\n"
     ]
    }
   ],
   "source": [
    "# Clean up the DataFrame and save\n",
    "gm_tf2gene['source'] = gm_tf2gene['source_renamed']\n",
    "k_tf2gene['source'] = k_tf2gene['source_renamed']\n",
    "gm_tf2gene['target'] = gm_tf2gene['target_renamed']\n",
    "k_tf2gene['target'] = k_tf2gene['target_renamed']\n",
    "gm_tf2gene.drop(['source_renamed', 'target_renamed'], axis=1, inplace=True)\n",
    "k_tf2gene.drop(['source_renamed', 'target_renamed'], axis=1, inplace=True)\n",
    "\n",
    "gm_tf2gene.to_csv(path / 'gm_common_renamed.csv', index=False)\n",
    "k_tf2gene.to_csv(path / 'k_common_renamed.csv', index=False)"
   ]
  },
  {
   "cell_type": "code",
   "execution_count": 30,
   "metadata": {
    "execution": {
     "iopub.execute_input": "2020-06-18T08:16:37.732929Z",
     "iopub.status.busy": "2020-06-18T08:16:37.732929Z",
     "iopub.status.idle": "2020-06-18T08:16:37.786928Z",
     "shell.execute_reply": "2020-06-18T08:16:37.786928Z",
     "shell.execute_reply.started": "2020-06-18T08:16:37.732929Z"
    }
   },
   "outputs": [],
   "source": [
    "ppi_undirected.to_csv(path / 'ppi_undirected.csv', index=False)"
   ]
  },
  {
   "cell_type": "markdown",
   "metadata": {
    "execution": {
     "iopub.execute_input": "2020-06-12T08:33:12.867210Z",
     "iopub.status.busy": "2020-06-12T08:33:12.867210Z",
     "iopub.status.idle": "2020-06-12T08:33:12.890206Z",
     "shell.execute_reply": "2020-06-12T08:33:12.890206Z",
     "shell.execute_reply.started": "2020-06-12T08:33:12.867210Z"
    }
   },
   "source": [
    "## Merged version of GM, K, and PPI"
   ]
  },
  {
   "cell_type": "code",
   "execution_count": 31,
   "metadata": {
    "execution": {
     "iopub.execute_input": "2020-06-18T08:16:48.363873Z",
     "iopub.status.busy": "2020-06-18T08:16:48.363873Z",
     "iopub.status.idle": "2020-06-18T08:16:48.368873Z",
     "shell.execute_reply": "2020-06-18T08:16:48.368873Z",
     "shell.execute_reply.started": "2020-06-18T08:16:48.363873Z"
    }
   },
   "outputs": [
    {
     "name": "stdout",
     "output_type": "stream",
     "text": [
      "K shape: (385371, 5)\n",
      "GM shape: (350474, 5)\n",
      "PPI shape: (42076, 4)\n",
      "GM + K + PPI: 777921\n"
     ]
    }
   ],
   "source": [
    "print(f'K shape: {k_tf2gene.shape}')\n",
    "print(f'GM shape: {gm_tf2gene.shape}')\n",
    "print(f'PPI shape: {ppi_undirected.shape}')\n",
    "\n",
    "# print(f'K + PPI: {k_tf2gene.shape[0] + ppi_undirected.shape[0]}')\n",
    "print(f'GM + K + PPI: {gm_tf2gene.shape[0] + k_tf2gene.shape[0] + ppi_undirected.shape[0]}')"
   ]
  },
  {
   "cell_type": "code",
   "execution_count": 32,
   "metadata": {
    "execution": {
     "iopub.execute_input": "2020-06-18T08:16:48.735870Z",
     "iopub.status.busy": "2020-06-18T08:16:48.735870Z",
     "iopub.status.idle": "2020-06-18T08:16:48.750896Z",
     "shell.execute_reply": "2020-06-18T08:16:48.750896Z",
     "shell.execute_reply.started": "2020-06-18T08:16:48.735870Z"
    }
   },
   "outputs": [
    {
     "data": {
      "text/html": [
       "<div>\n",
       "<style scoped>\n",
       "    .dataframe tbody tr th:only-of-type {\n",
       "        vertical-align: middle;\n",
       "    }\n",
       "\n",
       "    .dataframe tbody tr th {\n",
       "        vertical-align: top;\n",
       "    }\n",
       "\n",
       "    .dataframe thead th {\n",
       "        text-align: right;\n",
       "    }\n",
       "</style>\n",
       "<table border=\"1\" class=\"dataframe\">\n",
       "  <thead>\n",
       "    <tr style=\"text-align: right;\">\n",
       "      <th></th>\n",
       "      <th>source</th>\n",
       "      <th>target</th>\n",
       "      <th>type</th>\n",
       "      <th>weight</th>\n",
       "    </tr>\n",
       "  </thead>\n",
       "  <tbody>\n",
       "    <tr>\n",
       "      <th>0</th>\n",
       "      <td>@UBC</td>\n",
       "      <td>TRA</td>\n",
       "      <td>PPI</td>\n",
       "      <td>NA</td>\n",
       "    </tr>\n",
       "    <tr>\n",
       "      <th>1</th>\n",
       "      <td>A1CF</td>\n",
       "      <td>APOBEC1</td>\n",
       "      <td>PPI</td>\n",
       "      <td>NA</td>\n",
       "    </tr>\n",
       "    <tr>\n",
       "      <th>2</th>\n",
       "      <td>A1CF</td>\n",
       "      <td>SYNCRIP</td>\n",
       "      <td>PPI</td>\n",
       "      <td>NA</td>\n",
       "    </tr>\n",
       "    <tr>\n",
       "      <th>3</th>\n",
       "      <td>A2M</td>\n",
       "      <td>AMBP</td>\n",
       "      <td>PPI</td>\n",
       "      <td>NA</td>\n",
       "    </tr>\n",
       "    <tr>\n",
       "      <th>4</th>\n",
       "      <td>A2M</td>\n",
       "      <td>APOE</td>\n",
       "      <td>PPI</td>\n",
       "      <td>NA</td>\n",
       "    </tr>\n",
       "    <tr>\n",
       "      <th>...</th>\n",
       "      <td>...</td>\n",
       "      <td>...</td>\n",
       "      <td>...</td>\n",
       "      <td>...</td>\n",
       "    </tr>\n",
       "    <tr>\n",
       "      <th>42071</th>\n",
       "      <td>ZYX</td>\n",
       "      <td>NEDD8</td>\n",
       "      <td>PPI</td>\n",
       "      <td>NA</td>\n",
       "    </tr>\n",
       "    <tr>\n",
       "      <th>42072</th>\n",
       "      <td>ZYX</td>\n",
       "      <td>UBC</td>\n",
       "      <td>PPI</td>\n",
       "      <td>NA</td>\n",
       "    </tr>\n",
       "    <tr>\n",
       "      <th>42073</th>\n",
       "      <td>ZYX</td>\n",
       "      <td>VASP</td>\n",
       "      <td>PPI</td>\n",
       "      <td>NA</td>\n",
       "    </tr>\n",
       "    <tr>\n",
       "      <th>42074</th>\n",
       "      <td>ZZEF1</td>\n",
       "      <td>UBC</td>\n",
       "      <td>PPI</td>\n",
       "      <td>NA</td>\n",
       "    </tr>\n",
       "    <tr>\n",
       "      <th>42075</th>\n",
       "      <td>eIF2A</td>\n",
       "      <td>UBC</td>\n",
       "      <td>PPI</td>\n",
       "      <td>NA</td>\n",
       "    </tr>\n",
       "  </tbody>\n",
       "</table>\n",
       "<p>42076 rows × 4 columns</p>\n",
       "</div>"
      ],
      "text/plain": [
       "      source   target type weight\n",
       "0       @UBC      TRA  PPI     NA\n",
       "1       A1CF  APOBEC1  PPI     NA\n",
       "2       A1CF  SYNCRIP  PPI     NA\n",
       "3        A2M     AMBP  PPI     NA\n",
       "4        A2M     APOE  PPI     NA\n",
       "...      ...      ...  ...    ...\n",
       "42071    ZYX    NEDD8  PPI     NA\n",
       "42072    ZYX      UBC  PPI     NA\n",
       "42073    ZYX     VASP  PPI     NA\n",
       "42074  ZZEF1      UBC  PPI     NA\n",
       "42075  eIF2A      UBC  PPI     NA\n",
       "\n",
       "[42076 rows x 4 columns]"
      ]
     },
     "execution_count": 32,
     "metadata": {},
     "output_type": "execute_result"
    }
   ],
   "source": [
    "ppi_undirected"
   ]
  },
  {
   "cell_type": "code",
   "execution_count": 33,
   "metadata": {
    "execution": {
     "iopub.execute_input": "2020-06-18T08:16:49.669916Z",
     "iopub.status.busy": "2020-06-18T08:16:49.668914Z",
     "iopub.status.idle": "2020-06-18T08:16:50.285948Z",
     "shell.execute_reply": "2020-06-18T08:16:50.285948Z",
     "shell.execute_reply.started": "2020-06-18T08:16:49.669916Z"
    }
   },
   "outputs": [
    {
     "name": "stdout",
     "output_type": "stream",
     "text": [
      "After removing duplicates\n",
      "GM + K + PPI: (777921, 6)\n"
     ]
    }
   ],
   "source": [
    "# ppi_k = ppi_undirected.copy(deep=True)\n",
    "# ppi_k['source'] = ppi_k['source'].map(lambda x: x + '_k' if x in k562_tf else x)\n",
    "# ppi_k['target'] = ppi_k['target'].map(lambda x: x + '_k' if x in k562_tf else x)\n",
    "# ppi_k['cell_type'] = 'K562'\n",
    "\n",
    "# ppi_gm = ppi_undirected.copy(deep=True)\n",
    "# ppi_gm['source'] = ppi_gm['source'].map(lambda x: x + '_gm' if x in gm12878_tf else x)\n",
    "# ppi_gm['target'] = ppi_gm['target'].map(lambda x: x + '_gm' if x in gm12878_tf else x)\n",
    "# ppi_gm['cell_type'] = 'GM12878'\n",
    "\n",
    "# k_merged_renamed = pd.concat([k_tf2gene, ppi_k], axis=0)\n",
    "# k_merged_renamed.reset_index(inplace=True)\n",
    "# k_merged_renamed.drop_duplicates(inplace=True)\n",
    "\n",
    "# merged_renamed = pd.concat([gm_tf2gene, k_merged_renamed], axis=0)\n",
    "# merged_renamed.reset_index(inplace=True)\n",
    "# merged_renamed.drop_duplicates(inplace=True)\n",
    "\n",
    "ppi_undirected['cell_type'] = 'NA'\n",
    "needed_cols = ['cell_type', 'source', 'target', 'type', 'weight']\n",
    "\n",
    "merged_renamed = pd.concat([gm_tf2gene[needed_cols], k_tf2gene[needed_cols], ppi_undirected])\n",
    "merged_renamed['cell_type'] = merged_renamed['cell_type'].astype(object)\n",
    "merged_renamed.reset_index(inplace=True)\n",
    "merged_renamed.drop_duplicates(inplace=True)\n",
    "\n",
    "print('After removing duplicates')\n",
    "# print(f'K + PPI: {k_merged_renamed.shape}')\n",
    "print(f'GM + K + PPI: {merged_renamed.shape}')\n"
   ]
  },
  {
   "cell_type": "markdown",
   "metadata": {},
   "source": [
    "No duplicates observed"
   ]
  },
  {
   "cell_type": "code",
   "execution_count": 34,
   "metadata": {
    "execution": {
     "iopub.execute_input": "2020-06-18T08:16:51.335494Z",
     "iopub.status.busy": "2020-06-18T08:16:51.335494Z",
     "iopub.status.idle": "2020-06-18T08:16:51.358518Z",
     "shell.execute_reply": "2020-06-18T08:16:51.358518Z",
     "shell.execute_reply.started": "2020-06-18T08:16:51.335494Z"
    }
   },
   "outputs": [
    {
     "data": {
      "text/html": [
       "<div>\n",
       "<style scoped>\n",
       "    .dataframe tbody tr th:only-of-type {\n",
       "        vertical-align: middle;\n",
       "    }\n",
       "\n",
       "    .dataframe tbody tr th {\n",
       "        vertical-align: top;\n",
       "    }\n",
       "\n",
       "    .dataframe thead th {\n",
       "        text-align: right;\n",
       "    }\n",
       "</style>\n",
       "<table border=\"1\" class=\"dataframe\">\n",
       "  <thead>\n",
       "    <tr style=\"text-align: right;\">\n",
       "      <th></th>\n",
       "      <th>index</th>\n",
       "      <th>cell_type</th>\n",
       "      <th>source</th>\n",
       "      <th>target</th>\n",
       "      <th>type</th>\n",
       "      <th>weight</th>\n",
       "    </tr>\n",
       "  </thead>\n",
       "  <tbody>\n",
       "    <tr>\n",
       "      <th>0</th>\n",
       "      <td>5620</td>\n",
       "      <td>GM12878</td>\n",
       "      <td>ATF3_gm</td>\n",
       "      <td>SDF4</td>\n",
       "      <td>TSS</td>\n",
       "      <td>179.619</td>\n",
       "    </tr>\n",
       "    <tr>\n",
       "      <th>1</th>\n",
       "      <td>5621</td>\n",
       "      <td>GM12878</td>\n",
       "      <td>ATF3_gm</td>\n",
       "      <td>B3GALT6</td>\n",
       "      <td>TSS</td>\n",
       "      <td>178.254</td>\n",
       "    </tr>\n",
       "    <tr>\n",
       "      <th>2</th>\n",
       "      <td>5622</td>\n",
       "      <td>GM12878</td>\n",
       "      <td>ATF3_gm</td>\n",
       "      <td>SSU72</td>\n",
       "      <td>TSS</td>\n",
       "      <td>413</td>\n",
       "    </tr>\n",
       "    <tr>\n",
       "      <th>3</th>\n",
       "      <td>5623</td>\n",
       "      <td>GM12878</td>\n",
       "      <td>ATF3_gm</td>\n",
       "      <td>AL645728.1</td>\n",
       "      <td>TSS</td>\n",
       "      <td>413</td>\n",
       "    </tr>\n",
       "    <tr>\n",
       "      <th>4</th>\n",
       "      <td>5624</td>\n",
       "      <td>GM12878</td>\n",
       "      <td>ATF3_gm</td>\n",
       "      <td>CDK11A</td>\n",
       "      <td>TSS</td>\n",
       "      <td>160</td>\n",
       "    </tr>\n",
       "    <tr>\n",
       "      <th>...</th>\n",
       "      <td>...</td>\n",
       "      <td>...</td>\n",
       "      <td>...</td>\n",
       "      <td>...</td>\n",
       "      <td>...</td>\n",
       "      <td>...</td>\n",
       "    </tr>\n",
       "    <tr>\n",
       "      <th>777916</th>\n",
       "      <td>42071</td>\n",
       "      <td>NA</td>\n",
       "      <td>ZYX</td>\n",
       "      <td>NEDD8</td>\n",
       "      <td>PPI</td>\n",
       "      <td>NA</td>\n",
       "    </tr>\n",
       "    <tr>\n",
       "      <th>777917</th>\n",
       "      <td>42072</td>\n",
       "      <td>NA</td>\n",
       "      <td>ZYX</td>\n",
       "      <td>UBC</td>\n",
       "      <td>PPI</td>\n",
       "      <td>NA</td>\n",
       "    </tr>\n",
       "    <tr>\n",
       "      <th>777918</th>\n",
       "      <td>42073</td>\n",
       "      <td>NA</td>\n",
       "      <td>ZYX</td>\n",
       "      <td>VASP</td>\n",
       "      <td>PPI</td>\n",
       "      <td>NA</td>\n",
       "    </tr>\n",
       "    <tr>\n",
       "      <th>777919</th>\n",
       "      <td>42074</td>\n",
       "      <td>NA</td>\n",
       "      <td>ZZEF1</td>\n",
       "      <td>UBC</td>\n",
       "      <td>PPI</td>\n",
       "      <td>NA</td>\n",
       "    </tr>\n",
       "    <tr>\n",
       "      <th>777920</th>\n",
       "      <td>42075</td>\n",
       "      <td>NA</td>\n",
       "      <td>eIF2A</td>\n",
       "      <td>UBC</td>\n",
       "      <td>PPI</td>\n",
       "      <td>NA</td>\n",
       "    </tr>\n",
       "  </tbody>\n",
       "</table>\n",
       "<p>777921 rows × 6 columns</p>\n",
       "</div>"
      ],
      "text/plain": [
       "        index cell_type   source      target type   weight\n",
       "0        5620   GM12878  ATF3_gm        SDF4  TSS  179.619\n",
       "1        5621   GM12878  ATF3_gm     B3GALT6  TSS  178.254\n",
       "2        5622   GM12878  ATF3_gm       SSU72  TSS      413\n",
       "3        5623   GM12878  ATF3_gm  AL645728.1  TSS      413\n",
       "4        5624   GM12878  ATF3_gm      CDK11A  TSS      160\n",
       "...       ...       ...      ...         ...  ...      ...\n",
       "777916  42071        NA      ZYX       NEDD8  PPI       NA\n",
       "777917  42072        NA      ZYX         UBC  PPI       NA\n",
       "777918  42073        NA      ZYX        VASP  PPI       NA\n",
       "777919  42074        NA    ZZEF1         UBC  PPI       NA\n",
       "777920  42075        NA    eIF2A         UBC  PPI       NA\n",
       "\n",
       "[777921 rows x 6 columns]"
      ]
     },
     "execution_count": 34,
     "metadata": {},
     "output_type": "execute_result"
    }
   ],
   "source": [
    "merged_renamed"
   ]
  },
  {
   "cell_type": "code",
   "execution_count": 35,
   "metadata": {
    "execution": {
     "iopub.execute_input": "2020-06-18T08:16:52.461434Z",
     "iopub.status.busy": "2020-06-18T08:16:52.460434Z",
     "iopub.status.idle": "2020-06-18T08:16:52.472296Z",
     "shell.execute_reply": "2020-06-18T08:16:52.472296Z",
     "shell.execute_reply.started": "2020-06-18T08:16:52.461434Z"
    }
   },
   "outputs": [
    {
     "data": {
      "text/plain": [
       "index         int64\n",
       "cell_type    object\n",
       "source       object\n",
       "target       object\n",
       "type         object\n",
       "weight       object\n",
       "dtype: object"
      ]
     },
     "execution_count": 35,
     "metadata": {},
     "output_type": "execute_result"
    }
   ],
   "source": [
    "# merged_renamed.loc[:,'cell_type'] = merged_renamed.loc[:, 'cell_type'].astype('string')\n",
    "# merged_renamed.loc[:,'type'] = merged_renamed.loc[:, 'type'].astype('string')\n",
    "\n",
    "merged_renamed.dtypes"
   ]
  },
  {
   "cell_type": "code",
   "execution_count": 36,
   "metadata": {
    "execution": {
     "iopub.execute_input": "2020-06-18T08:16:53.560843Z",
     "iopub.status.busy": "2020-06-18T08:16:53.560843Z",
     "iopub.status.idle": "2020-06-18T08:16:54.995863Z",
     "shell.execute_reply": "2020-06-18T08:16:54.995863Z",
     "shell.execute_reply.started": "2020-06-18T08:16:53.560843Z"
    }
   },
   "outputs": [],
   "source": [
    "# gm_merged_renamed.to_csv(path / 'gm_ppi_common_renamed.csv', index=False)\n",
    "merged_renamed[['cell_type', 'source', 'target', 'type', 'weight']].to_csv(path / 'joint_renamed_v2.csv', index=False)"
   ]
  },
  {
   "cell_type": "code",
   "execution_count": null,
   "metadata": {},
   "outputs": [],
   "source": []
  }
 ],
 "metadata": {
  "kernelspec": {
   "display_name": "Python 3",
   "language": "python",
   "name": "python3"
  },
  "language_info": {
   "codemirror_mode": {
    "name": "ipython",
    "version": 3
   },
   "file_extension": ".py",
   "mimetype": "text/x-python",
   "name": "python",
   "nbconvert_exporter": "python",
   "pygments_lexer": "ipython3",
   "version": "3.7.7"
  }
 },
 "nbformat": 4,
 "nbformat_minor": 4
}
