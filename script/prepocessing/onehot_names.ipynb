{
 "cells": [
  {
   "cell_type": "code",
   "execution_count": 1,
   "metadata": {
    "execution": {
     "iopub.execute_input": "2020-06-16T09:50:15.803943Z",
     "iopub.status.busy": "2020-06-16T09:50:15.803943Z",
     "iopub.status.idle": "2020-06-16T09:50:16.056942Z",
     "shell.execute_reply": "2020-06-16T09:50:16.056942Z",
     "shell.execute_reply.started": "2020-06-16T09:50:15.803943Z"
    }
   },
   "outputs": [],
   "source": [
    "from pathlib import Path\n",
    "import pandas as pd\n",
    "import numpy as np\n",
    "from pprint import pprint"
   ]
  },
  {
   "cell_type": "code",
   "execution_count": 2,
   "metadata": {
    "execution": {
     "iopub.execute_input": "2020-06-16T09:50:16.566192Z",
     "iopub.status.busy": "2020-06-16T09:50:16.566192Z",
     "iopub.status.idle": "2020-06-16T09:50:16.577212Z",
     "shell.execute_reply": "2020-06-16T09:50:16.577212Z",
     "shell.execute_reply.started": "2020-06-16T09:50:16.566192Z"
    }
   },
   "outputs": [],
   "source": [
    "TARGET_FOLDER = Path('../../data/features/')"
   ]
  },
  {
   "cell_type": "markdown",
   "metadata": {},
   "source": [
    "**One-hot vector as node feature**\n",
    "1. read edgelist file\n",
    "2. extract all nodes\n",
    "3. one-hot encode all nodes\n",
    "4. return df with two column [node, onehot]"
   ]
  },
  {
   "cell_type": "code",
   "execution_count": 6,
   "metadata": {
    "execution": {
     "iopub.execute_input": "2020-06-16T09:54:22.060781Z",
     "iopub.status.busy": "2020-06-16T09:54:22.060781Z",
     "iopub.status.idle": "2020-06-16T09:54:22.404289Z",
     "shell.execute_reply": "2020-06-16T09:54:22.404289Z",
     "shell.execute_reply.started": "2020-06-16T09:54:22.060781Z"
    }
   },
   "outputs": [
    {
     "data": {
      "text/html": [
       "<div>\n",
       "<style scoped>\n",
       "    .dataframe tbody tr th:only-of-type {\n",
       "        vertical-align: middle;\n",
       "    }\n",
       "\n",
       "    .dataframe tbody tr th {\n",
       "        vertical-align: top;\n",
       "    }\n",
       "\n",
       "    .dataframe thead th {\n",
       "        text-align: right;\n",
       "    }\n",
       "</style>\n",
       "<table border=\"1\" class=\"dataframe\">\n",
       "  <thead>\n",
       "    <tr style=\"text-align: right;\">\n",
       "      <th></th>\n",
       "      <th>cell_type</th>\n",
       "      <th>source</th>\n",
       "      <th>target</th>\n",
       "      <th>type</th>\n",
       "      <th>weight</th>\n",
       "    </tr>\n",
       "  </thead>\n",
       "  <tbody>\n",
       "    <tr>\n",
       "      <th>0</th>\n",
       "      <td>GM12878</td>\n",
       "      <td>ATF3_gm</td>\n",
       "      <td>SDF4</td>\n",
       "      <td>TSS</td>\n",
       "      <td>179.618811</td>\n",
       "    </tr>\n",
       "    <tr>\n",
       "      <th>1</th>\n",
       "      <td>GM12878</td>\n",
       "      <td>ATF3_gm</td>\n",
       "      <td>B3GALT6</td>\n",
       "      <td>TSS</td>\n",
       "      <td>178.254494</td>\n",
       "    </tr>\n",
       "    <tr>\n",
       "      <th>2</th>\n",
       "      <td>GM12878</td>\n",
       "      <td>ATF3_gm</td>\n",
       "      <td>SSU72</td>\n",
       "      <td>TSS</td>\n",
       "      <td>413.000000</td>\n",
       "    </tr>\n",
       "    <tr>\n",
       "      <th>3</th>\n",
       "      <td>GM12878</td>\n",
       "      <td>ATF3_gm</td>\n",
       "      <td>AL645728.1</td>\n",
       "      <td>TSS</td>\n",
       "      <td>413.000000</td>\n",
       "    </tr>\n",
       "    <tr>\n",
       "      <th>4</th>\n",
       "      <td>GM12878</td>\n",
       "      <td>ATF3_gm</td>\n",
       "      <td>CDK11A</td>\n",
       "      <td>TSS</td>\n",
       "      <td>160.000000</td>\n",
       "    </tr>\n",
       "    <tr>\n",
       "      <th>...</th>\n",
       "      <td>...</td>\n",
       "      <td>...</td>\n",
       "      <td>...</td>\n",
       "      <td>...</td>\n",
       "      <td>...</td>\n",
       "    </tr>\n",
       "    <tr>\n",
       "      <th>786673</th>\n",
       "      <td>NaN</td>\n",
       "      <td>ZNF434</td>\n",
       "      <td>ZNF434</td>\n",
       "      <td>PPI</td>\n",
       "      <td>NaN</td>\n",
       "    </tr>\n",
       "    <tr>\n",
       "      <th>786674</th>\n",
       "      <td>NaN</td>\n",
       "      <td>ZNF446</td>\n",
       "      <td>ZNF434</td>\n",
       "      <td>PPI</td>\n",
       "      <td>NaN</td>\n",
       "    </tr>\n",
       "    <tr>\n",
       "      <th>786675</th>\n",
       "      <td>NaN</td>\n",
       "      <td>ZNF496</td>\n",
       "      <td>ZNF446</td>\n",
       "      <td>PPI</td>\n",
       "      <td>NaN</td>\n",
       "    </tr>\n",
       "    <tr>\n",
       "      <th>786676</th>\n",
       "      <td>NaN</td>\n",
       "      <td>ZSCAN16</td>\n",
       "      <td>ZNF446</td>\n",
       "      <td>PPI</td>\n",
       "      <td>NaN</td>\n",
       "    </tr>\n",
       "    <tr>\n",
       "      <th>786677</th>\n",
       "      <td>NaN</td>\n",
       "      <td>ZNF471</td>\n",
       "      <td>ZNF471</td>\n",
       "      <td>PPI</td>\n",
       "      <td>NaN</td>\n",
       "    </tr>\n",
       "  </tbody>\n",
       "</table>\n",
       "<p>786678 rows × 5 columns</p>\n",
       "</div>"
      ],
      "text/plain": [
       "       cell_type   source      target type      weight\n",
       "0        GM12878  ATF3_gm        SDF4  TSS  179.618811\n",
       "1        GM12878  ATF3_gm     B3GALT6  TSS  178.254494\n",
       "2        GM12878  ATF3_gm       SSU72  TSS  413.000000\n",
       "3        GM12878  ATF3_gm  AL645728.1  TSS  413.000000\n",
       "4        GM12878  ATF3_gm      CDK11A  TSS  160.000000\n",
       "...          ...      ...         ...  ...         ...\n",
       "786673       NaN   ZNF434      ZNF434  PPI         NaN\n",
       "786674       NaN   ZNF446      ZNF434  PPI         NaN\n",
       "786675       NaN   ZNF496      ZNF446  PPI         NaN\n",
       "786676       NaN  ZSCAN16      ZNF446  PPI         NaN\n",
       "786677       NaN   ZNF471      ZNF471  PPI         NaN\n",
       "\n",
       "[786678 rows x 5 columns]"
      ]
     },
     "execution_count": 6,
     "metadata": {},
     "output_type": "execute_result"
    }
   ],
   "source": [
    "FILE_NAME = 'joint_renamed_v2.csv'\n",
    "DATA_FOLDER = Path('../../data/')\n",
    "\n",
    "# 1. Read edgelist\n",
    "df = pd.read_csv(DATA_FOLDER / FILE_NAME, dtype={\n",
    "    'cell_type': object,\n",
    "    'source': object,\n",
    "    'target': object,\n",
    "    'type': object,\n",
    "    'weight': 'float64'\n",
    "})\n",
    "df"
   ]
  },
  {
   "cell_type": "code",
   "execution_count": 7,
   "metadata": {
    "execution": {
     "iopub.execute_input": "2020-06-16T09:54:32.705539Z",
     "iopub.status.busy": "2020-06-16T09:54:32.705539Z",
     "iopub.status.idle": "2020-06-16T09:54:32.828557Z",
     "shell.execute_reply": "2020-06-16T09:54:32.828557Z",
     "shell.execute_reply.started": "2020-06-16T09:54:32.705539Z"
    }
   },
   "outputs": [],
   "source": [
    "# 2. Extract all nodes\n",
    "nodes = set(df['source']).union(set(df['target']))\n",
    "nodes = list(nodes)\n",
    "nodes.sort()\n",
    "node_df = pd.DataFrame(nodes)"
   ]
  },
  {
   "cell_type": "code",
   "execution_count": 8,
   "metadata": {
    "execution": {
     "iopub.execute_input": "2020-06-16T09:54:33.654314Z",
     "iopub.status.busy": "2020-06-16T09:54:33.653314Z",
     "iopub.status.idle": "2020-06-16T09:54:35.956386Z",
     "shell.execute_reply": "2020-06-16T09:54:35.956386Z",
     "shell.execute_reply.started": "2020-06-16T09:54:33.654314Z"
    }
   },
   "outputs": [],
   "source": [
    "# Create one-hot encoding df\n",
    "onehot_df = pd.get_dummies(node_df, prefix='node')\n",
    "\n",
    "# Convert to np array and check whether it's diagnal matrix\n",
    "# onehot = onehot_df.to_numpy()\n",
    "# if np.count_nonzero(onehot - np.diag(np.diagonal(onehot))) == 0:\n",
    "#     print(\"It's a diagnal matrix\")\n",
    "\n",
    "onehot_df.index = nodes\n"
   ]
  },
  {
   "cell_type": "code",
   "execution_count": 27,
   "metadata": {
    "execution": {
     "iopub.execute_input": "2020-06-16T07:23:43.983488Z",
     "iopub.status.busy": "2020-06-16T07:23:43.983488Z",
     "iopub.status.idle": "2020-06-16T07:23:47.639487Z",
     "shell.execute_reply": "2020-06-16T07:23:47.639487Z",
     "shell.execute_reply.started": "2020-06-16T07:23:43.983488Z"
    }
   },
   "outputs": [],
   "source": [
    "# onehot_df['feature'] = onehot_df.index.map(lambda x: onehot_df.loc[x].to_numpy())"
   ]
  },
  {
   "cell_type": "code",
   "execution_count": 28,
   "metadata": {
    "execution": {
     "iopub.execute_input": "2020-06-16T07:23:47.640490Z",
     "iopub.status.busy": "2020-06-16T07:23:47.640490Z",
     "iopub.status.idle": "2020-06-16T07:23:47.654557Z",
     "shell.execute_reply": "2020-06-16T07:23:47.654557Z",
     "shell.execute_reply.started": "2020-06-16T07:23:47.640490Z"
    }
   },
   "outputs": [],
   "source": [
    "# onehot_df = onehot_df[['feature']]"
   ]
  },
  {
   "cell_type": "code",
   "execution_count": 42,
   "metadata": {
    "execution": {
     "iopub.execute_input": "2020-06-16T09:17:42.182792Z",
     "iopub.status.busy": "2020-06-16T09:17:42.182269Z",
     "iopub.status.idle": "2020-06-16T09:17:42.200300Z",
     "shell.execute_reply": "2020-06-16T09:17:42.200300Z",
     "shell.execute_reply.started": "2020-06-16T09:17:42.182792Z"
    }
   },
   "outputs": [
    {
     "data": {
      "text/plain": [
       "array([0, 0, 0, ..., 0, 0, 0], dtype=uint8)"
      ]
     },
     "execution_count": 42,
     "metadata": {},
     "output_type": "execute_result"
    }
   ],
   "source": [
    "#  onehot_df.loc['A2M']['feature']"
   ]
  },
  {
   "cell_type": "code",
   "execution_count": 9,
   "metadata": {
    "execution": {
     "iopub.execute_input": "2020-06-16T09:55:25.379581Z",
     "iopub.status.busy": "2020-06-16T09:55:25.379581Z",
     "iopub.status.idle": "2020-06-16T09:56:45.333746Z",
     "shell.execute_reply": "2020-06-16T09:56:45.333746Z",
     "shell.execute_reply.started": "2020-06-16T09:55:25.379581Z"
    }
   },
   "outputs": [],
   "source": [
    "onehot_df.to_csv(TARGET_FOLDER / f'{FILE_NAME[:-4]}_onehot_names.csv', index=True)"
   ]
  },
  {
   "cell_type": "markdown",
   "metadata": {},
   "source": [
    "****"
   ]
  },
  {
   "cell_type": "code",
   "execution_count": null,
   "metadata": {},
   "outputs": [],
   "source": []
  }
 ],
 "metadata": {
  "kernelspec": {
   "display_name": "Python 3",
   "language": "python",
   "name": "python3"
  },
  "language_info": {
   "codemirror_mode": {
    "name": "ipython",
    "version": 3
   },
   "file_extension": ".py",
   "mimetype": "text/x-python",
   "name": "python",
   "nbconvert_exporter": "python",
   "pygments_lexer": "ipython3",
   "version": "3.7.7"
  }
 },
 "nbformat": 4,
 "nbformat_minor": 4
}
