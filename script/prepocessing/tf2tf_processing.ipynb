{
 "cells": [
  {
   "cell_type": "code",
   "execution_count": 1,
   "metadata": {},
   "outputs": [],
   "source": [
    "import pandas as pd"
   ]
  },
  {
   "cell_type": "code",
   "execution_count": 2,
   "metadata": {},
   "outputs": [],
   "source": [
    "GM12878 = 'EC-003-NET.edgeList_TSS_GM12878.tsv'\n",
    "K562 = 'EC-003-NET.edgeList_TSS_K562.tsv'\n",
    "SEP = '\\t'\n",
    "\n",
    "gm12878_df = pd.read_csv('../data/'+GM12878, sep=SEP, header=None)\n",
    "k562_df = pd.read_csv('../data/'+K562, sep=SEP, header=None)\n",
    "k562_df.columns = gm12878_df.columns = ['cell_type', 'source', 'target', 'type', 'weight']\n"
   ]
  },
  {
   "cell_type": "code",
   "execution_count": 3,
   "metadata": {},
   "outputs": [
    {
     "data": {
      "text/plain": [
       "(954968, 5)"
      ]
     },
     "execution_count": 3,
     "metadata": {},
     "output_type": "execute_result"
    }
   ],
   "source": [
    "k562_df.shape"
   ]
  },
  {
   "cell_type": "code",
   "execution_count": 4,
   "metadata": {},
   "outputs": [
    {
     "data": {
      "text/plain": [
       "(506074, 5)"
      ]
     },
     "execution_count": 4,
     "metadata": {},
     "output_type": "execute_result"
    }
   ],
   "source": [
    "gm12878_df.shape"
   ]
  },
  {
   "cell_type": "code",
   "execution_count": 5,
   "metadata": {},
   "outputs": [
    {
     "data": {
      "text/plain": [
       "cell_type         1\n",
       "source          101\n",
       "target        16553\n",
       "type              1\n",
       "weight       220493\n",
       "dtype: int64"
      ]
     },
     "execution_count": 5,
     "metadata": {},
     "output_type": "execute_result"
    }
   ],
   "source": [
    "gm12878_df.nunique()"
   ]
  },
  {
   "cell_type": "code",
   "execution_count": 6,
   "metadata": {},
   "outputs": [
    {
     "name": "stdout",
     "output_type": "stream",
     "text": [
      "Number of TF in GM12878: 101\n",
      "Number of TF in K562: 209\n"
     ]
    }
   ],
   "source": [
    "gm12878_tf = set(gm12878_df['source'])\n",
    "k562_tf = set(k562_df['source'])\n",
    "print(f'Number of TF in GM12878: {len(gm12878_tf)}')\n",
    "print(f'Number of TF in K562: {len(k562_tf)}')"
   ]
  },
  {
   "cell_type": "code",
   "execution_count": 7,
   "metadata": {},
   "outputs": [
    {
     "name": "stdout",
     "output_type": "stream",
     "text": [
      "Number of common TF: 69\n"
     ]
    }
   ],
   "source": [
    "# Find intersection\n",
    "common_tf = list(k562_tf.intersection(gm12878_tf))\n",
    "print(f'Number of common TF: {len(common_tf)}')"
   ]
  },
  {
   "cell_type": "code",
   "execution_count": 18,
   "metadata": {},
   "outputs": [
    {
     "data": {
      "text/plain": [
       "{'ATF3': 0,\n",
       " 'BCLAF1': 1,\n",
       " 'BHLHE40': 2,\n",
       " 'CBX5': 3,\n",
       " 'CEBPB': 4,\n",
       " 'CEBPZ': 5,\n",
       " 'CHD1': 6,\n",
       " 'CHD2': 7,\n",
       " 'CTCF': 8,\n",
       " 'E2F4': 9,\n",
       " 'EGR1': 10,\n",
       " 'ELF1': 11,\n",
       " 'ELK1': 12,\n",
       " 'EP300': 13,\n",
       " 'ETS1': 14,\n",
       " 'ETV6': 15,\n",
       " 'EZH2': 16,\n",
       " 'FOS': 17,\n",
       " 'GABPA': 18,\n",
       " 'HDGF': 19,\n",
       " 'IKZF1': 20,\n",
       " 'JUNB': 21,\n",
       " 'JUND': 22,\n",
       " 'MAFK': 23,\n",
       " 'MAX': 24,\n",
       " 'MAZ': 25,\n",
       " 'MEF2A': 26,\n",
       " 'MLLT1': 27,\n",
       " 'MTA2': 28,\n",
       " 'MXI1': 29,\n",
       " 'MYC': 30,\n",
       " 'NBN': 31,\n",
       " 'NFE2': 32,\n",
       " 'NFYA': 33,\n",
       " 'NFYB': 34,\n",
       " 'NR2C2': 35,\n",
       " 'NRF1': 36,\n",
       " 'PML': 37,\n",
       " 'POLR2A': 38,\n",
       " 'POLR2AphosphoS2': 39,\n",
       " 'POLR2AphosphoS5': 40,\n",
       " 'POLR3G': 41,\n",
       " 'RAD21': 42,\n",
       " 'RCOR1': 43,\n",
       " 'REST': 44,\n",
       " 'RFX5': 45,\n",
       " 'SIN3A': 46,\n",
       " 'SIX5': 47,\n",
       " 'SMAD5': 48,\n",
       " 'SMC3': 49,\n",
       " 'SP1': 50,\n",
       " 'SPI1': 51,\n",
       " 'SRF': 52,\n",
       " 'STAT5A': 53,\n",
       " 'SUZ12': 54,\n",
       " 'TAF1': 55,\n",
       " 'TARDBP': 56,\n",
       " 'TBL1XR1': 57,\n",
       " 'TBP': 58,\n",
       " 'UBTF': 59,\n",
       " 'USF1': 60,\n",
       " 'USF2': 61,\n",
       " 'YBX1': 62,\n",
       " 'YY1': 63,\n",
       " 'ZBED1': 64,\n",
       " 'ZBTB33': 65,\n",
       " 'ZBTB40': 66,\n",
       " 'ZNF143': 67,\n",
       " 'ZNF274': 68}"
      ]
     },
     "execution_count": 18,
     "metadata": {},
     "output_type": "execute_result"
    }
   ],
   "source": [
    "common_tf = list(common_tf)\n",
    "common_tf.sort()\n",
    "name2id = {}\n",
    "for i, name in enumerate(common_tf):\n",
    "    name2id[name] = i\n",
    "name2id"
   ]
  },
  {
   "cell_type": "code",
   "execution_count": 8,
   "metadata": {},
   "outputs": [],
   "source": [
    "gm12878_tf2tf = gm12878_df[gm12878_df['source'].isin(common_tf)]\n",
    "gm12878_tf2tf = gm12878_tf2tf[gm12878_tf2tf['target'].isin(common_tf)]\n",
    "k562_tf2tf = k562_df[k562_df['source'].isin(common_tf)]\n",
    "k562_tf2tf = k562_tf2tf[k562_tf2tf['target'].isin(common_tf)]"
   ]
  },
  {
   "cell_type": "code",
   "execution_count": 19,
   "metadata": {},
   "outputs": [
    {
     "data": {
      "text/html": [
       "<div>\n",
       "<style scoped>\n",
       "    .dataframe tbody tr th:only-of-type {\n",
       "        vertical-align: middle;\n",
       "    }\n",
       "\n",
       "    .dataframe tbody tr th {\n",
       "        vertical-align: top;\n",
       "    }\n",
       "\n",
       "    .dataframe thead th {\n",
       "        text-align: right;\n",
       "    }\n",
       "</style>\n",
       "<table border=\"1\" class=\"dataframe\">\n",
       "  <thead>\n",
       "    <tr style=\"text-align: right;\">\n",
       "      <th></th>\n",
       "      <th>cell_type</th>\n",
       "      <th>source_id</th>\n",
       "      <th>source</th>\n",
       "      <th>target_id</th>\n",
       "      <th>target</th>\n",
       "      <th>weight</th>\n",
       "      <th>type</th>\n",
       "    </tr>\n",
       "  </thead>\n",
       "  <tbody>\n",
       "    <tr>\n",
       "      <th>5841</th>\n",
       "      <td>GM12878</td>\n",
       "      <td>0</td>\n",
       "      <td>ATF3</td>\n",
       "      <td>2</td>\n",
       "      <td>BHLHE40</td>\n",
       "      <td>88.392564</td>\n",
       "      <td>TSS</td>\n",
       "    </tr>\n",
       "    <tr>\n",
       "      <th>6536</th>\n",
       "      <td>GM12878</td>\n",
       "      <td>0</td>\n",
       "      <td>ATF3</td>\n",
       "      <td>24</td>\n",
       "      <td>MAX</td>\n",
       "      <td>315.000000</td>\n",
       "      <td>TSS</td>\n",
       "    </tr>\n",
       "    <tr>\n",
       "      <th>6293</th>\n",
       "      <td>GM12878</td>\n",
       "      <td>0</td>\n",
       "      <td>ATF3</td>\n",
       "      <td>29</td>\n",
       "      <td>MXI1</td>\n",
       "      <td>98.760086</td>\n",
       "      <td>TSS</td>\n",
       "    </tr>\n",
       "    <tr>\n",
       "      <th>6401</th>\n",
       "      <td>GM12878</td>\n",
       "      <td>0</td>\n",
       "      <td>ATF3</td>\n",
       "      <td>32</td>\n",
       "      <td>NFE2</td>\n",
       "      <td>161.798194</td>\n",
       "      <td>TSS</td>\n",
       "    </tr>\n",
       "    <tr>\n",
       "      <th>6079</th>\n",
       "      <td>GM12878</td>\n",
       "      <td>0</td>\n",
       "      <td>ATF3</td>\n",
       "      <td>58</td>\n",
       "      <td>TBP</td>\n",
       "      <td>144.000000</td>\n",
       "      <td>TSS</td>\n",
       "    </tr>\n",
       "    <tr>\n",
       "      <th>...</th>\n",
       "      <td>...</td>\n",
       "      <td>...</td>\n",
       "      <td>...</td>\n",
       "      <td>...</td>\n",
       "      <td>...</td>\n",
       "      <td>...</td>\n",
       "      <td>...</td>\n",
       "    </tr>\n",
       "    <tr>\n",
       "      <th>496372</th>\n",
       "      <td>GM12878</td>\n",
       "      <td>67</td>\n",
       "      <td>ZNF143</td>\n",
       "      <td>64</td>\n",
       "      <td>ZBED1</td>\n",
       "      <td>1545.632722</td>\n",
       "      <td>TSS</td>\n",
       "    </tr>\n",
       "    <tr>\n",
       "      <th>496323</th>\n",
       "      <td>GM12878</td>\n",
       "      <td>67</td>\n",
       "      <td>ZNF143</td>\n",
       "      <td>65</td>\n",
       "      <td>ZBTB33</td>\n",
       "      <td>1000.000000</td>\n",
       "      <td>TSS</td>\n",
       "    </tr>\n",
       "    <tr>\n",
       "      <th>486330</th>\n",
       "      <td>GM12878</td>\n",
       "      <td>67</td>\n",
       "      <td>ZNF143</td>\n",
       "      <td>66</td>\n",
       "      <td>ZBTB40</td>\n",
       "      <td>1000.000000</td>\n",
       "      <td>TSS</td>\n",
       "    </tr>\n",
       "    <tr>\n",
       "      <th>491321</th>\n",
       "      <td>GM12878</td>\n",
       "      <td>67</td>\n",
       "      <td>ZNF143</td>\n",
       "      <td>67</td>\n",
       "      <td>ZNF143</td>\n",
       "      <td>1000.000000</td>\n",
       "      <td>TSS</td>\n",
       "    </tr>\n",
       "    <tr>\n",
       "      <th>495545</th>\n",
       "      <td>GM12878</td>\n",
       "      <td>67</td>\n",
       "      <td>ZNF143</td>\n",
       "      <td>68</td>\n",
       "      <td>ZNF274</td>\n",
       "      <td>1000.000000</td>\n",
       "      <td>TSS</td>\n",
       "    </tr>\n",
       "  </tbody>\n",
       "</table>\n",
       "<p>2196 rows × 7 columns</p>\n",
       "</div>"
      ],
      "text/plain": [
       "       cell_type  source_id  source  target_id   target       weight type\n",
       "5841     GM12878          0    ATF3          2  BHLHE40    88.392564  TSS\n",
       "6536     GM12878          0    ATF3         24      MAX   315.000000  TSS\n",
       "6293     GM12878          0    ATF3         29     MXI1    98.760086  TSS\n",
       "6401     GM12878          0    ATF3         32     NFE2   161.798194  TSS\n",
       "6079     GM12878          0    ATF3         58      TBP   144.000000  TSS\n",
       "...          ...        ...     ...        ...      ...          ...  ...\n",
       "496372   GM12878         67  ZNF143         64    ZBED1  1545.632722  TSS\n",
       "496323   GM12878         67  ZNF143         65   ZBTB33  1000.000000  TSS\n",
       "486330   GM12878         67  ZNF143         66   ZBTB40  1000.000000  TSS\n",
       "491321   GM12878         67  ZNF143         67   ZNF143  1000.000000  TSS\n",
       "495545   GM12878         67  ZNF143         68   ZNF274  1000.000000  TSS\n",
       "\n",
       "[2196 rows x 7 columns]"
      ]
     },
     "execution_count": 19,
     "metadata": {},
     "output_type": "execute_result"
    }
   ],
   "source": [
    "gm12878_tf2tf.sort_values(by=['source', 'target'], ascending=True, inplace=True)\n",
    "gm12878_tf2tf['source_id'] = gm12878_tf2tf['source'].map(lambda name: name2id[name])\n",
    "gm12878_tf2tf['target_id'] = gm12878_tf2tf['target'].map(lambda name: name2id[name])\n",
    "gm12878_tf2tf = gm12878_tf2tf[['cell_type', 'source_id', 'source', 'target_id', 'target', 'weight', 'type']]\n",
    "gm12878_tf2tf"
   ]
  },
  {
   "cell_type": "code",
   "execution_count": 20,
   "metadata": {},
   "outputs": [
    {
     "data": {
      "text/html": [
       "<div>\n",
       "<style scoped>\n",
       "    .dataframe tbody tr th:only-of-type {\n",
       "        vertical-align: middle;\n",
       "    }\n",
       "\n",
       "    .dataframe tbody tr th {\n",
       "        vertical-align: top;\n",
       "    }\n",
       "\n",
       "    .dataframe thead th {\n",
       "        text-align: right;\n",
       "    }\n",
       "</style>\n",
       "<table border=\"1\" class=\"dataframe\">\n",
       "  <thead>\n",
       "    <tr style=\"text-align: right;\">\n",
       "      <th></th>\n",
       "      <th>cell_type</th>\n",
       "      <th>source_id</th>\n",
       "      <th>source</th>\n",
       "      <th>target_id</th>\n",
       "      <th>target</th>\n",
       "      <th>weight</th>\n",
       "      <th>type</th>\n",
       "    </tr>\n",
       "  </thead>\n",
       "  <tbody>\n",
       "    <tr>\n",
       "      <th>8063</th>\n",
       "      <td>K562</td>\n",
       "      <td>0</td>\n",
       "      <td>ATF3</td>\n",
       "      <td>0</td>\n",
       "      <td>ATF3</td>\n",
       "      <td>1000.000000</td>\n",
       "      <td>TSS</td>\n",
       "    </tr>\n",
       "    <tr>\n",
       "      <th>8543</th>\n",
       "      <td>K562</td>\n",
       "      <td>0</td>\n",
       "      <td>ATF3</td>\n",
       "      <td>2</td>\n",
       "      <td>BHLHE40</td>\n",
       "      <td>713.545787</td>\n",
       "      <td>TSS</td>\n",
       "    </tr>\n",
       "    <tr>\n",
       "      <th>11234</th>\n",
       "      <td>K562</td>\n",
       "      <td>0</td>\n",
       "      <td>ATF3</td>\n",
       "      <td>3</td>\n",
       "      <td>CBX5</td>\n",
       "      <td>337.835895</td>\n",
       "      <td>TSS</td>\n",
       "    </tr>\n",
       "    <tr>\n",
       "      <th>13473</th>\n",
       "      <td>K562</td>\n",
       "      <td>0</td>\n",
       "      <td>ATF3</td>\n",
       "      <td>4</td>\n",
       "      <td>CEBPB</td>\n",
       "      <td>280.966863</td>\n",
       "      <td>TSS</td>\n",
       "    </tr>\n",
       "    <tr>\n",
       "      <th>12126</th>\n",
       "      <td>K562</td>\n",
       "      <td>0</td>\n",
       "      <td>ATF3</td>\n",
       "      <td>8</td>\n",
       "      <td>CTCF</td>\n",
       "      <td>1269.849304</td>\n",
       "      <td>TSS</td>\n",
       "    </tr>\n",
       "    <tr>\n",
       "      <th>...</th>\n",
       "      <td>...</td>\n",
       "      <td>...</td>\n",
       "      <td>...</td>\n",
       "      <td>...</td>\n",
       "      <td>...</td>\n",
       "      <td>...</td>\n",
       "      <td>...</td>\n",
       "    </tr>\n",
       "    <tr>\n",
       "      <th>410286</th>\n",
       "      <td>K562</td>\n",
       "      <td>67</td>\n",
       "      <td>ZNF143</td>\n",
       "      <td>65</td>\n",
       "      <td>ZBTB33</td>\n",
       "      <td>238.000000</td>\n",
       "      <td>TSS</td>\n",
       "    </tr>\n",
       "    <tr>\n",
       "      <th>402157</th>\n",
       "      <td>K562</td>\n",
       "      <td>67</td>\n",
       "      <td>ZNF143</td>\n",
       "      <td>66</td>\n",
       "      <td>ZBTB40</td>\n",
       "      <td>246.000000</td>\n",
       "      <td>TSS</td>\n",
       "    </tr>\n",
       "    <tr>\n",
       "      <th>406210</th>\n",
       "      <td>K562</td>\n",
       "      <td>67</td>\n",
       "      <td>ZNF143</td>\n",
       "      <td>67</td>\n",
       "      <td>ZNF143</td>\n",
       "      <td>1077.087601</td>\n",
       "      <td>TSS</td>\n",
       "    </tr>\n",
       "    <tr>\n",
       "      <th>409665</th>\n",
       "      <td>K562</td>\n",
       "      <td>67</td>\n",
       "      <td>ZNF143</td>\n",
       "      <td>68</td>\n",
       "      <td>ZNF274</td>\n",
       "      <td>1113.904796</td>\n",
       "      <td>TSS</td>\n",
       "    </tr>\n",
       "    <tr>\n",
       "      <th>411949</th>\n",
       "      <td>K562</td>\n",
       "      <td>68</td>\n",
       "      <td>ZNF274</td>\n",
       "      <td>32</td>\n",
       "      <td>NFE2</td>\n",
       "      <td>593.000000</td>\n",
       "      <td>TSS</td>\n",
       "    </tr>\n",
       "  </tbody>\n",
       "</table>\n",
       "<p>2408 rows × 7 columns</p>\n",
       "</div>"
      ],
      "text/plain": [
       "       cell_type  source_id  source  target_id   target       weight type\n",
       "8063        K562          0    ATF3          0     ATF3  1000.000000  TSS\n",
       "8543        K562          0    ATF3          2  BHLHE40   713.545787  TSS\n",
       "11234       K562          0    ATF3          3     CBX5   337.835895  TSS\n",
       "13473       K562          0    ATF3          4    CEBPB   280.966863  TSS\n",
       "12126       K562          0    ATF3          8     CTCF  1269.849304  TSS\n",
       "...          ...        ...     ...        ...      ...          ...  ...\n",
       "410286      K562         67  ZNF143         65   ZBTB33   238.000000  TSS\n",
       "402157      K562         67  ZNF143         66   ZBTB40   246.000000  TSS\n",
       "406210      K562         67  ZNF143         67   ZNF143  1077.087601  TSS\n",
       "409665      K562         67  ZNF143         68   ZNF274  1113.904796  TSS\n",
       "411949      K562         68  ZNF274         32     NFE2   593.000000  TSS\n",
       "\n",
       "[2408 rows x 7 columns]"
      ]
     },
     "execution_count": 20,
     "metadata": {},
     "output_type": "execute_result"
    }
   ],
   "source": [
    "k562_tf2tf.sort_values(by=['source', 'target'], ascending=True, inplace=True)\n",
    "k562_tf2tf['source_id'] = k562_tf2tf['source'].map(lambda name: name2id[name])\n",
    "k562_tf2tf['target_id'] = k562_tf2tf['target'].map(lambda name: name2id[name])\n",
    "k562_tf2tf = k562_tf2tf[['cell_type', 'source_id', 'source', 'target_id', 'target', 'weight', 'type']]\n",
    "\n",
    "k562_tf2tf"
   ]
  },
  {
   "cell_type": "code",
   "execution_count": 21,
   "metadata": {},
   "outputs": [],
   "source": [
    "gm12878_tf2tf.to_csv('../data/GM12878_tf2tf.csv', index=False)\n",
    "k562_tf2tf.to_csv('../data/K562_tf2tf.csv', index=False)"
   ]
  },
  {
   "cell_type": "code",
   "execution_count": null,
   "metadata": {},
   "outputs": [],
   "source": []
  }
 ],
 "metadata": {
  "kernelspec": {
   "display_name": "Python 3",
   "language": "python",
   "name": "python3"
  },
  "language_info": {
   "codemirror_mode": {
    "name": "ipython",
    "version": 3
   },
   "file_extension": ".py",
   "mimetype": "text/x-python",
   "name": "python",
   "nbconvert_exporter": "python",
   "pygments_lexer": "ipython3",
   "version": "3.7.7"
  }
 },
 "nbformat": 4,
 "nbformat_minor": 4
}
