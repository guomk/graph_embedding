{
 "cells": [
  {
   "cell_type": "markdown",
   "metadata": {
    "colab_type": "text",
    "id": "aVJiTjHswF8J"
   },
   "source": [
    "# Graph representation learning through Unsupervised GraphSAGE  \n",
    "### and using it for paper classification on Cora citation dataset"
   ]
  },
  {
   "cell_type": "markdown",
   "metadata": {
    "colab_type": "text",
    "id": "_K68y5FawF8K",
    "tags": [
     "CloudRunner"
    ]
   },
   "source": [
    "<table><tr><td>Run the master version of this notebook:</td><td><a href=\"https://mybinder.org/v2/gh/stellargraph/stellargraph/master?urlpath=lab/tree/demos/embeddings/embeddings-unsupervised-graphsage-cora.ipynb\" alt=\"Open In Binder\" target=\"_parent\"><img src=\"https://mybinder.org/badge_logo.svg\"/></a></td><td><a href=\"https://colab.research.google.com/github/stellargraph/stellargraph/blob/master/demos/embeddings/embeddings-unsupervised-graphsage-cora.ipynb\" alt=\"Open In Colab\" target=\"_parent\"><img src=\"https://colab.research.google.com/assets/colab-badge.svg\"/></a></td></tr></table>"
   ]
  },
  {
   "cell_type": "markdown",
   "metadata": {
    "colab_type": "text",
    "id": "IGd0awOzwF8K"
   },
   "source": [
    "Stellargraph Unsupervised GraphSAGE is the implementation of GraphSAGE method outlined in the paper: ***[Inductive Representation Learning on Large Graphs.](http://snap.stanford.edu/graphsage/)*** W.L. Hamilton, R. Ying, and J. Leskovec arXiv:1706.02216\n",
    "[cs.SI], 2017. \n",
    "\n",
    "This notebook is a short demo of how Stellargraph Unsupervised GraphSAGE can be used to learn embeddings of the nodes representing papers in the [CORA citation network](https://linqs-data.soe.ucsc.edu/public/lbc/cora.tgz). Furthermore, this notebook demonstrates the use of the learnt embeddings in a downstream node classification task (classifying papers by subject). Note that the node embeddings can also be used in other graph machine learning tasks, such as link prediction, community detection, etc.\n",
    "\n",
    "### Unsupervised GraphSAGE:\n",
    "\n",
    "A high-level explanation of the unsupervised GraphSAGE method of graph representation learning is as follows.\n",
    "\n",
    "Objective: *Given a graph, learn embeddings of the nodes using only the graph structure and the node features, without using any known node class labels* (hence \"unsupervised\"; for semi-supervised learning of node embeddings, see this [demo](https://github.com/stellargraph/stellargraph/tree/master/demos/node-classification/graphsage/graphsage-cora-node-classification-example.ipynb))\n",
    "\n",
    "**Unsupervised GraphSAGE model:** In the Unsupervised GraphSAGE model, node embeddings are learnt by solving a simple classification task: given a large set of \"positive\" `(target, context)` node pairs generated from random walks performed on the graph (i.e., node pairs that co-occur within a certain context window in random walks), and an equally large set of \"negative\" node pairs that are randomly selected from the graph according to a certain distribution, learn a binary classifier that predicts whether arbitrary node pairs are likely to co-occur in a random walk performed on the graph. Through learning this simple binary node-pair-classification task, the model automatically learns an inductive mapping from attributes of nodes and their neighbors to node embeddings in a high-dimensional vector space, which preserves structural and feature similarities of the nodes. Unlike embeddings obtained by algorithms such as [`node2vec`](https://snap.stanford.edu/node2vec), this mapping is inductive: given a new node (with attributes) and its links to other nodes in the graph (which was unseen during model training), we can evaluate its embeddings without having to re-train the model. \n",
    "\n",
    "In our implementation of Unsupervised GraphSAGE, the training set of node pairs is composed of an equal number of positive and negative `(target, context)` pairs from the graph. The positive `(target, context)` pairs are the node pairs co-occuring on random walks over the graph whereas the negative node pairs are sampled randomly from a global node degree distribution of the graph.\n",
    "\n",
    "The architecture of the node pair classifier is the following. Input node pairs (with node features) are fed, together with the graph structure, into a pair of identical GraphSAGE encoders, producing a pair of node embeddings. These embeddings are then fed into a node pair classification layer, which applies a binary operator to those node embeddings (e.g., concatenating them), and passes the resulting node pair embeddings through a linear transform followed by a binary activation (e.g., sigmoid), thus predicting a binary label for the node pair. \n",
    "\n",
    "The entire model is trained end-to-end by minimizing the loss function of choice (e.g., binary cross-entropy between predicted node pair labels and true link labels) using stochastic gradient descent (SGD) updates of the model parameters, with minibatches of 'training' links generated on demand and fed into the model.\n",
    "\n",
    "Node embeddings obtained from the encoder part of the trained classifier can be used in various downstream tasks. In this demo, we show how these can be used for predicting node labels."
   ]
  },
  {
   "cell_type": "code",
   "execution_count": 1,
   "metadata": {
    "colab": {
     "base_uri": "https://localhost:8080/",
     "height": 85
    },
    "colab_type": "code",
    "execution": {
     "iopub.execute_input": "2020-05-27T14:45:08.529258Z",
     "iopub.status.busy": "2020-05-27T14:45:08.529258Z",
     "iopub.status.idle": "2020-05-27T14:45:08.532410Z",
     "shell.execute_reply": "2020-05-27T14:45:08.532259Z",
     "shell.execute_reply.started": "2020-05-27T14:45:08.529258Z"
    },
    "executionInfo": {
     "elapsed": 8749,
     "status": "ok",
     "timestamp": 1589152214327,
     "user": {
      "displayName": "Mukun Guo",
      "photoUrl": "",
      "userId": "15294793601238845759"
     },
     "user_tz": -480
    },
    "id": "tkm014GswF8L",
    "outputId": "25d8d419-1854-4ff3-f30c-2fe30e8d0a24",
    "tags": [
     "CloudRunner"
    ]
   },
   "outputs": [],
   "source": [
    "# install StellarGraph if running on Google Colab\n",
    "import sys\n",
    "if 'google.colab' in sys.modules:\n",
    "  %pip install -q stellargraph[demos]==1.0.0rc1"
   ]
  },
  {
   "cell_type": "code",
   "execution_count": 2,
   "metadata": {
    "colab": {},
    "colab_type": "code",
    "execution": {
     "iopub.execute_input": "2020-05-27T14:45:08.533260Z",
     "iopub.status.busy": "2020-05-27T14:45:08.533260Z",
     "iopub.status.idle": "2020-05-27T14:45:12.144065Z",
     "shell.execute_reply": "2020-05-27T14:45:12.144065Z",
     "shell.execute_reply.started": "2020-05-27T14:45:08.533260Z"
    },
    "id": "0Oj8INvwwF8O",
    "tags": [
     "VersionCheck"
    ]
   },
   "outputs": [
    {
     "data": {
      "text/markdown": [
       "<div class=\"alert alert-block alert-danger\">This notebook is designed for an older StellarGraph version 1.0.0rc1 and may not function correctly with the newer installed version 1.0.0. Please see: <a href=\"https://github.com/stellargraph/stellargraph/issues/1172\">https://github.com/stellargraph/stellargraph/issues/1172</a>.</div>"
      ],
      "text/plain": [
       "<IPython.core.display.Markdown object>"
      ]
     },
     "metadata": {},
     "output_type": "display_data"
    },
    {
     "name": "stderr",
     "output_type": "stream",
     "text": [
      "C:\\Users\\mukun\\anaconda3\\envs\\graphemb\\lib\\site-packages\\ipykernel_launcher.py:5: DeprecationWarning: This notebook is designed for an older StellarGraph version 1.0.0rc1 and may not function correctly with the newer installed version 1.0.0. Please see: <https://github.com/stellargraph/stellargraph/issues/1172>.\n",
      "  \"\"\"\n"
     ]
    }
   ],
   "source": [
    "# verify that we're using the correct version of StellarGraph for this notebook\n",
    "import stellargraph as sg\n",
    "\n",
    "try:\n",
    "    sg.utils.validate_notebook_version(\"1.0.0rc1\")\n",
    "except AttributeError:\n",
    "    raise ValueError(\n",
    "        f\"This notebook requires StellarGraph version 1.0.0rc1, but a different version {sg.__version__} is installed.  Please see <https://github.com/stellargraph/stellargraph/issues/1172>.\"\n",
    "    ) from None"
   ]
  },
  {
   "cell_type": "code",
   "execution_count": 3,
   "metadata": {
    "colab": {},
    "colab_type": "code",
    "execution": {
     "iopub.execute_input": "2020-05-27T14:45:12.145065Z",
     "iopub.status.busy": "2020-05-27T14:45:12.145065Z",
     "iopub.status.idle": "2020-05-27T14:45:12.156067Z",
     "shell.execute_reply": "2020-05-27T14:45:12.156067Z",
     "shell.execute_reply.started": "2020-05-27T14:45:12.145065Z"
    },
    "id": "1ShLbh6dwF8R"
   },
   "outputs": [],
   "source": [
    "import networkx as nx\n",
    "import pandas as pd\n",
    "import numpy as np\n",
    "import os\n",
    "import random\n",
    "\n",
    "import stellargraph as sg\n",
    "from stellargraph.data import EdgeSplitter\n",
    "from stellargraph.mapper import GraphSAGELinkGenerator\n",
    "from stellargraph.layer import GraphSAGE, link_classification\n",
    "from stellargraph.data import UniformRandomWalk\n",
    "from stellargraph.data import UnsupervisedSampler\n",
    "from sklearn.model_selection import train_test_split\n",
    "\n",
    "from tensorflow import keras\n",
    "import tensorflow as tf\n",
    "from sklearn import preprocessing, feature_extraction, model_selection\n",
    "from sklearn.linear_model import LogisticRegressionCV, LogisticRegression\n",
    "from sklearn.metrics import accuracy_score\n",
    "\n",
    "from stellargraph import globalvar\n",
    "\n",
    "from stellargraph import datasets\n",
    "from IPython.display import display, HTML"
   ]
  },
  {
   "cell_type": "code",
   "execution_count": 4,
   "metadata": {
    "colab": {},
    "colab_type": "code",
    "execution": {
     "iopub.execute_input": "2020-05-27T14:45:12.157067Z",
     "iopub.status.busy": "2020-05-27T14:45:12.157067Z",
     "iopub.status.idle": "2020-05-27T14:45:13.454357Z",
     "shell.execute_reply": "2020-05-27T14:45:13.454357Z",
     "shell.execute_reply.started": "2020-05-27T14:45:12.157067Z"
    },
    "id": "HqWaqalP5n2x"
   },
   "outputs": [
    {
     "name": "stdout",
     "output_type": "stream",
     "text": [
      "Default GPU Device:/device:GPU:0\n"
     ]
    }
   ],
   "source": [
    "if tf.test.gpu_device_name():\n",
    "  print('Default GPU Device:{}'.format(tf.test.gpu_device_name()))"
   ]
  },
  {
   "cell_type": "markdown",
   "metadata": {
    "colab_type": "text",
    "id": "DzpLl4_ewF8U"
   },
   "source": [
    "### Loading the CORA network data"
   ]
  },
  {
   "cell_type": "code",
   "execution_count": 5,
   "metadata": {
    "colab": {
     "base_uri": "https://localhost:8080/",
     "height": 51
    },
    "colab_type": "code",
    "execution": {
     "iopub.execute_input": "2020-05-27T14:45:13.455358Z",
     "iopub.status.busy": "2020-05-27T14:45:13.455358Z",
     "iopub.status.idle": "2020-05-27T14:45:13.731419Z",
     "shell.execute_reply": "2020-05-27T14:45:13.731419Z",
     "shell.execute_reply.started": "2020-05-27T14:45:13.455358Z"
    },
    "executionInfo": {
     "elapsed": 10255,
     "status": "ok",
     "timestamp": 1589152218076,
     "user": {
      "displayName": "Mukun Guo",
      "photoUrl": "",
      "userId": "15294793601238845759"
     },
     "user_tz": -480
    },
    "id": "alaLTOBFwF8U",
    "outputId": "225c110d-d1ac-4d26-ffb6-af6a2faffb46"
   },
   "outputs": [
    {
     "data": {
      "text/html": [
       "The Cora dataset consists of 2708 scientific publications classified into one of seven classes. The citation network consists of 5429 links. Each publication in the dataset is described by a 0/1-valued word vector indicating the absence/presence of the corresponding word from the dictionary. The dictionary consists of 1433 unique words."
      ],
      "text/plain": [
       "<IPython.core.display.HTML object>"
      ]
     },
     "metadata": {},
     "output_type": "display_data"
    }
   ],
   "source": [
    "dataset = datasets.Cora()\n",
    "display(HTML(dataset.description))\n",
    "G, node_subjects = dataset.load()"
   ]
  },
  {
   "cell_type": "code",
   "execution_count": 6,
   "metadata": {
    "execution": {
     "iopub.execute_input": "2020-05-27T14:45:13.732419Z",
     "iopub.status.busy": "2020-05-27T14:45:13.732419Z",
     "iopub.status.idle": "2020-05-27T14:45:13.735419Z",
     "shell.execute_reply": "2020-05-27T14:45:13.735419Z",
     "shell.execute_reply.started": "2020-05-27T14:45:13.732419Z"
    }
   },
   "outputs": [
    {
     "data": {
      "text/plain": [
       "pandas.core.series.Series"
      ]
     },
     "execution_count": 6,
     "metadata": {},
     "output_type": "execute_result"
    }
   ],
   "source": [
    "type(node_subjects)"
   ]
  },
  {
   "cell_type": "code",
   "execution_count": 7,
   "metadata": {
    "colab": {
     "base_uri": "https://localhost:8080/",
     "height": 204
    },
    "colab_type": "code",
    "execution": {
     "iopub.execute_input": "2020-05-27T14:45:13.736419Z",
     "iopub.status.busy": "2020-05-27T14:45:13.736419Z",
     "iopub.status.idle": "2020-05-27T14:45:13.754424Z",
     "shell.execute_reply": "2020-05-27T14:45:13.754424Z",
     "shell.execute_reply.started": "2020-05-27T14:45:13.736419Z"
    },
    "executionInfo": {
     "elapsed": 9874,
     "status": "ok",
     "timestamp": 1589152218076,
     "user": {
      "displayName": "Mukun Guo",
      "photoUrl": "",
      "userId": "15294793601238845759"
     },
     "user_tz": -480
    },
    "id": "_cvrtU-wwF8Y",
    "outputId": "71558710-036d-452a-8148-0ef741b1186d"
   },
   "outputs": [
    {
     "name": "stdout",
     "output_type": "stream",
     "text": [
      "StellarGraph: Undirected multigraph\n",
      " Nodes: 2708, Edges: 5429\n",
      "\n",
      " Node types:\n",
      "  paper: [2708]\n",
      "    Features: float32 vector, length 1433\n",
      "    Edge types: paper-cites->paper\n",
      "\n",
      " Edge types:\n",
      "    paper-cites->paper: [5429]\n",
      "        Weights: all 1 (default)\n"
     ]
    }
   ],
   "source": [
    "print(G.info())"
   ]
  },
  {
   "cell_type": "markdown",
   "metadata": {
    "colab_type": "text",
    "id": "Kh3ioCZ_wF8a"
   },
   "source": [
    "### Unsupervised GraphSAGE  with on demand sampling\n",
    "The Unsupervised GraphSAGE requires a training sample that can be either provided as a list of `(target, context)` node pairs or it can be provided with an `UnsupervisedSampler` instance that takes care of generating positive and negative samples of node pairs on demand. In this demo we discuss the latter technique. \n",
    "\n",
    "#### UnsupervisedSampler:\n",
    "The `UnsupervisedSampler` class takes in a `Stellargraph` graph instance. The `generator` method in the `UnsupervisedSampler`  is responsible for generating equal number of positive and negative node pair samples from the graph  for training. The samples are generated by performing uniform random walks over the graph, using `UniformRandomWalk` object. Positive `(target, context)` node pairs are extracted from the walks, and for each \n",
    "positive pair a corresponding negative pair `(target, node)` is generated by **randomly sampling `node` from the degree distribution of the graph**. Once the `batch_size` number of samples is accumulated, the generator yields a list of positive and negative node pairs along with their respective 1/0 labels.  \n",
    "\n",
    "In the current implementation, we use uniform random walks to explore the graph structure. The length and number of walks, as well as the root nodes for starting the walks can be user-specified. The default list for root nodes is all nodes of the graph, default `number_of_walks` is 1 (at least one walk per root node), and the default `length` of walks is 2 (need at least one node beyond the root node on the walk as a potential positive context)."
   ]
  },
  {
   "cell_type": "markdown",
   "metadata": {
    "colab_type": "text",
    "id": "C7SLV9uRwF8b"
   },
   "source": [
    "**1. Specify the other optional parameter values: root nodes, the number of walks to take per node, the length of each walk, and random seed.**"
   ]
  },
  {
   "cell_type": "code",
   "execution_count": 8,
   "metadata": {
    "colab": {},
    "colab_type": "code",
    "execution": {
     "iopub.execute_input": "2020-05-27T14:45:13.755424Z",
     "iopub.status.busy": "2020-05-27T14:45:13.755424Z",
     "iopub.status.idle": "2020-05-27T14:45:13.758424Z",
     "shell.execute_reply": "2020-05-27T14:45:13.758424Z",
     "shell.execute_reply.started": "2020-05-27T14:45:13.755424Z"
    },
    "id": "D2yahXxIwF8b"
   },
   "outputs": [],
   "source": [
    "nodes = list(G.nodes())\n",
    "number_of_walks = 5\n",
    "length = 5"
   ]
  },
  {
   "cell_type": "code",
   "execution_count": 9,
   "metadata": {
    "colab": {
     "base_uri": "https://localhost:8080/",
     "height": 34
    },
    "colab_type": "code",
    "execution": {
     "iopub.execute_input": "2020-05-27T14:45:13.759425Z",
     "iopub.status.busy": "2020-05-27T14:45:13.759425Z",
     "iopub.status.idle": "2020-05-27T14:45:13.762425Z",
     "shell.execute_reply": "2020-05-27T14:45:13.762425Z",
     "shell.execute_reply.started": "2020-05-27T14:45:13.759425Z"
    },
    "executionInfo": {
     "elapsed": 7327,
     "status": "ok",
     "timestamp": 1589152218077,
     "user": {
      "displayName": "Mukun Guo",
      "photoUrl": "",
      "userId": "15294793601238845759"
     },
     "user_tz": -480
    },
    "id": "mrdyiTrowcMj",
    "outputId": "13c9a57d-8dcf-43a7-84ad-66714b736f21"
   },
   "outputs": [
    {
     "name": "stdout",
     "output_type": "stream",
     "text": [
      "total number of nodes: 2708\n"
     ]
    }
   ],
   "source": [
    "print(f'total number of nodes: {len(nodes)}')"
   ]
  },
  {
   "cell_type": "markdown",
   "metadata": {
    "colab_type": "text",
    "id": "eBTMu7SawF8e"
   },
   "source": [
    "**2. Create the UnsupervisedSampler instance with the relevant parameters passed to it.**"
   ]
  },
  {
   "cell_type": "code",
   "execution_count": 10,
   "metadata": {
    "colab": {},
    "colab_type": "code",
    "execution": {
     "iopub.execute_input": "2020-05-27T14:45:13.763426Z",
     "iopub.status.busy": "2020-05-27T14:45:13.763426Z",
     "iopub.status.idle": "2020-05-27T14:45:13.766426Z",
     "shell.execute_reply": "2020-05-27T14:45:13.766426Z",
     "shell.execute_reply.started": "2020-05-27T14:45:13.763426Z"
    },
    "id": "F5DfAA0awF8f"
   },
   "outputs": [],
   "source": [
    "unsupervised_samples = UnsupervisedSampler(\n",
    "    G, nodes=nodes, length=length, number_of_walks=number_of_walks\n",
    ")"
   ]
  },
  {
   "cell_type": "code",
   "execution_count": 11,
   "metadata": {
    "colab": {
     "base_uri": "https://localhost:8080/",
     "height": 136
    },
    "colab_type": "code",
    "execution": {
     "iopub.execute_input": "2020-05-27T14:45:13.767426Z",
     "iopub.status.busy": "2020-05-27T14:45:13.767426Z",
     "iopub.status.idle": "2020-05-27T14:45:14.512599Z",
     "shell.execute_reply": "2020-05-27T14:45:14.512599Z",
     "shell.execute_reply.started": "2020-05-27T14:45:13.767426Z"
    },
    "executionInfo": {
     "elapsed": 5790,
     "status": "ok",
     "timestamp": 1589152218078,
     "user": {
      "displayName": "Mukun Guo",
      "photoUrl": "",
      "userId": "15294793601238845759"
     },
     "user_tz": -480
    },
    "id": "VNN3QVyhDlgb",
    "outputId": "4db8f3f9-f4cd-4b56-d323-37f60a2a1e62"
   },
   "outputs": [
    {
     "name": "stdout",
     "output_type": "stream",
     "text": [
      "there are 54160 samples in total\n",
      "(array([[1182,  937],\n",
      "       [2282, 2217]]), array([0, 1]))\n",
      "(array([[1038, 2147],\n",
      "       [2342,  478]]), array([0, 1]))\n",
      "(array([[1747, 1528],\n",
      "       [2641, 1229]]), array([0, 0]))\n"
     ]
    }
   ],
   "source": [
    "_samples = unsupervised_samples.run(2) # what does this mean? node features = label/weight NO\n",
    "print(f'there are {len(_samples)} samples in total')\n",
    "for s in _samples[:3]:\n",
    "  print(s)"
   ]
  },
  {
   "cell_type": "markdown",
   "metadata": {
    "colab_type": "text",
    "id": "Vai7ETKnwF8i"
   },
   "source": [
    "The graph G together with the unsupervised sampler will be used to generate samples."
   ]
  },
  {
   "cell_type": "markdown",
   "metadata": {
    "colab_type": "text",
    "id": "LZnh8tFuwF8i"
   },
   "source": [
    "**3. Create a node pair generator:**\n",
    "\n",
    "Next, create the node pair generator for sampling and streaming the training data to the model. The node pair generator essentially \"maps\" pairs of nodes `(target, context)` to the input of GraphSAGE: it either takes minibatches of node pairs, or an `UnsupervisedSampler` instance which generates the minibatches of node pairs on demand. The generator samples 2-hop subgraphs with `(target, context)` head nodes extracted from those pairs, and feeds them, together with the corresponding binary labels indicating which pair represent positive or negative sample, to the input layer of the node pair classifier with GraphSAGE node encoder, for SGD updates of the model parameters.\n",
    "\n",
    "Specify:\n",
    "1. The minibatch size (number of node pairs per minibatch).\n",
    "2. The number of epochs for training the model.\n",
    "3. The sizes of 1- and 2-hop neighbor samples for GraphSAGE:\n",
    "\n",
    "Note that the length of `num_samples` list defines the number of layers/iterations in the GraphSAGE encoder. In this example, we are defining a 2-layer GraphSAGE encoder."
   ]
  },
  {
   "cell_type": "code",
   "execution_count": 12,
   "metadata": {
    "colab": {},
    "colab_type": "code",
    "execution": {
     "iopub.execute_input": "2020-05-27T14:45:14.513599Z",
     "iopub.status.busy": "2020-05-27T14:45:14.513599Z",
     "iopub.status.idle": "2020-05-27T14:45:14.515600Z",
     "shell.execute_reply": "2020-05-27T14:45:14.515600Z",
     "shell.execute_reply.started": "2020-05-27T14:45:14.513599Z"
    },
    "id": "BA9f1HuLwF8j"
   },
   "outputs": [],
   "source": [
    "batch_size = 8\n",
    "epochs = 50\n",
    "num_samples = [20, 10, 5] # ? two-layer"
   ]
  },
  {
   "cell_type": "markdown",
   "metadata": {
    "colab_type": "text",
    "id": "XfIsWoh3wF8l"
   },
   "source": [
    "In the following we show the working of node pair generator with the UnsupervisedSampler, which will generate samples on demand."
   ]
  },
  {
   "cell_type": "code",
   "execution_count": 13,
   "metadata": {
    "colab": {},
    "colab_type": "code",
    "execution": {
     "iopub.execute_input": "2020-05-27T14:45:14.516600Z",
     "iopub.status.busy": "2020-05-27T14:45:14.516600Z",
     "iopub.status.idle": "2020-05-27T14:45:15.151749Z",
     "shell.execute_reply": "2020-05-27T14:45:15.151749Z",
     "shell.execute_reply.started": "2020-05-27T14:45:14.516600Z"
    },
    "id": "w8FlVEQ2wF8m"
   },
   "outputs": [],
   "source": [
    "generator = GraphSAGELinkGenerator(G, batch_size, num_samples)\n",
    "train_gen = generator.flow(unsupervised_samples)"
   ]
  },
  {
   "cell_type": "markdown",
   "metadata": {
    "colab_type": "text",
    "id": "egrijlvKwF8o"
   },
   "source": [
    "Build the model: a 2-layer GraphSAGE encoder acting as node representation learner, with a link classification layer on concatenated (`citing-paper`, `cited-paper`) node embeddings.\n",
    "\n",
    "GraphSAGE part of the model, with hidden layer sizes of 50 for both GraphSAGE layers, a bias term, and no dropout. (Dropout can be switched on by specifying a positive dropout rate, 0 < dropout < 1).\n",
    "**Note that the length of `layer_sizes` list must be equal to the length of `num_samples`, as `len(num_samples)` defines the number of hops (layers) in the GraphSAGE encoder**."
   ]
  },
  {
   "cell_type": "code",
   "execution_count": 14,
   "metadata": {
    "colab": {},
    "colab_type": "code",
    "execution": {
     "iopub.execute_input": "2020-05-27T14:45:15.152750Z",
     "iopub.status.busy": "2020-05-27T14:45:15.152750Z",
     "iopub.status.idle": "2020-05-27T14:45:15.161752Z",
     "shell.execute_reply": "2020-05-27T14:45:15.161752Z",
     "shell.execute_reply.started": "2020-05-27T14:45:15.152750Z"
    },
    "id": "X1p3CDrtwF8p"
   },
   "outputs": [],
   "source": [
    "layer_sizes = [32, 32, 32]\n",
    "graphsage = GraphSAGE(\n",
    "    layer_sizes=layer_sizes, generator=generator, bias=True, dropout=0.0, normalize=\"l2\"\n",
    ")"
   ]
  },
  {
   "cell_type": "code",
   "execution_count": 15,
   "metadata": {
    "colab": {},
    "colab_type": "code",
    "execution": {
     "iopub.execute_input": "2020-05-27T14:45:15.162752Z",
     "iopub.status.busy": "2020-05-27T14:45:15.162752Z",
     "iopub.status.idle": "2020-05-27T14:45:16.047949Z",
     "shell.execute_reply": "2020-05-27T14:45:16.047949Z",
     "shell.execute_reply.started": "2020-05-27T14:45:15.162752Z"
    },
    "id": "ft48oixywF8r"
   },
   "outputs": [],
   "source": [
    "# Build the model and expose input and output sockets of graphsage, for node pair inputs:\n",
    "x_inp, x_out = graphsage.in_out_tensors()"
   ]
  },
  {
   "cell_type": "code",
   "execution_count": 16,
   "metadata": {
    "colab": {
     "base_uri": "https://localhost:8080/",
     "height": 119
    },
    "colab_type": "code",
    "execution": {
     "iopub.execute_input": "2020-05-27T14:45:16.048950Z",
     "iopub.status.busy": "2020-05-27T14:45:16.048950Z",
     "iopub.status.idle": "2020-05-27T14:45:16.050950Z",
     "shell.execute_reply": "2020-05-27T14:45:16.050950Z",
     "shell.execute_reply.started": "2020-05-27T14:45:16.048950Z"
    },
    "executionInfo": {
     "elapsed": 1293,
     "status": "ok",
     "timestamp": 1589152219331,
     "user": {
      "displayName": "Mukun Guo",
      "photoUrl": "",
      "userId": "15294793601238845759"
     },
     "user_tz": -480
    },
    "id": "sQqmjDUIInxL",
    "outputId": "a0cd4466-c0e2-41a2-e102-db23b0e2d000"
   },
   "outputs": [
    {
     "name": "stdout",
     "output_type": "stream",
     "text": [
      "[<tf.Tensor 'input_1:0' shape=(None, 1, 1433) dtype=float32>,\n",
      " <tf.Tensor 'input_5:0' shape=(None, 1, 1433) dtype=float32>,\n",
      " <tf.Tensor 'input_2:0' shape=(None, 20, 1433) dtype=float32>,\n",
      " <tf.Tensor 'input_6:0' shape=(None, 20, 1433) dtype=float32>,\n",
      " <tf.Tensor 'input_3:0' shape=(None, 200, 1433) dtype=float32>,\n",
      " <tf.Tensor 'input_7:0' shape=(None, 200, 1433) dtype=float32>,\n",
      " <tf.Tensor 'input_4:0' shape=(None, 1000, 1433) dtype=float32>,\n",
      " <tf.Tensor 'input_8:0' shape=(None, 1000, 1433) dtype=float32>]\n"
     ]
    }
   ],
   "source": [
    "from pprint import pprint\n",
    "pprint(x_inp)"
   ]
  },
  {
   "cell_type": "code",
   "execution_count": 17,
   "metadata": {
    "colab": {
     "base_uri": "https://localhost:8080/",
     "height": 51
    },
    "colab_type": "code",
    "execution": {
     "iopub.execute_input": "2020-05-27T14:45:16.051950Z",
     "iopub.status.busy": "2020-05-27T14:45:16.051950Z",
     "iopub.status.idle": "2020-05-27T14:45:16.056951Z",
     "shell.execute_reply": "2020-05-27T14:45:16.056951Z",
     "shell.execute_reply.started": "2020-05-27T14:45:16.051950Z"
    },
    "executionInfo": {
     "elapsed": 791,
     "status": "ok",
     "timestamp": 1589152219752,
     "user": {
      "displayName": "Mukun Guo",
      "photoUrl": "",
      "userId": "15294793601238845759"
     },
     "user_tz": -480
    },
    "id": "nGkY9Pb5I6UJ",
    "outputId": "c884dd6e-7471-4f76-e66c-c767f598da1b"
   },
   "outputs": [
    {
     "name": "stdout",
     "output_type": "stream",
     "text": [
      "[<tf.Tensor 'lambda/Identity:0' shape=(None, 32) dtype=float32>,\n",
      " <tf.Tensor 'lambda_1/Identity:0' shape=(None, 32) dtype=float32>]\n"
     ]
    }
   ],
   "source": [
    "pprint(x_out)"
   ]
  },
  {
   "cell_type": "markdown",
   "metadata": {
    "colab_type": "text",
    "id": "aIS2_5QZwF8v"
   },
   "source": [
    "Final node pair classification layer that takes a pair of nodes' embeddings produced by `graphsage` encoder, applies a binary operator to them to produce the corresponding node pair embedding ('ip' for inner product; other options for the binary operator can be seen by running a cell with `?link_classification` in it), and passes it through a dense layer:"
   ]
  },
  {
   "cell_type": "code",
   "execution_count": 18,
   "metadata": {
    "colab": {
     "base_uri": "https://localhost:8080/",
     "height": 34
    },
    "colab_type": "code",
    "execution": {
     "iopub.execute_input": "2020-05-27T14:45:16.057952Z",
     "iopub.status.busy": "2020-05-27T14:45:16.057952Z",
     "iopub.status.idle": "2020-05-27T14:45:16.456040Z",
     "shell.execute_reply": "2020-05-27T14:45:16.456040Z",
     "shell.execute_reply.started": "2020-05-27T14:45:16.057952Z"
    },
    "executionInfo": {
     "elapsed": 1310,
     "status": "ok",
     "timestamp": 1589152221544,
     "user": {
      "displayName": "Mukun Guo",
      "photoUrl": "",
      "userId": "15294793601238845759"
     },
     "user_tz": -480
    },
    "id": "2t5s5uA2wF8v",
    "outputId": "ae32dd5f-a6e2-48b4-8855-5c56c5849662"
   },
   "outputs": [
    {
     "name": "stdout",
     "output_type": "stream",
     "text": [
      "link_classification: using 'ip' method to combine node embeddings into edge embeddings\n"
     ]
    }
   ],
   "source": [
    "prediction = link_classification(\n",
    "    output_dim=1, output_act=\"sigmoid\", edge_embedding_method=\"ip\"\n",
    ")(x_out)"
   ]
  },
  {
   "cell_type": "markdown",
   "metadata": {
    "colab_type": "text",
    "id": "KhlM8kGdwF8y"
   },
   "source": [
    "Stack the GraphSAGE encoder and prediction layer into a Keras model, and specify the loss"
   ]
  },
  {
   "cell_type": "code",
   "execution_count": 19,
   "metadata": {
    "colab": {},
    "colab_type": "code",
    "execution": {
     "iopub.execute_input": "2020-05-27T14:45:16.457040Z",
     "iopub.status.busy": "2020-05-27T14:45:16.457040Z",
     "iopub.status.idle": "2020-05-27T14:45:16.497184Z",
     "shell.execute_reply": "2020-05-27T14:45:16.497184Z",
     "shell.execute_reply.started": "2020-05-27T14:45:16.457040Z"
    },
    "id": "dVzyLv-ZwF8y"
   },
   "outputs": [],
   "source": [
    "model = keras.Model(inputs=x_inp, outputs=prediction)\n",
    "\n",
    "model.compile(\n",
    "    optimizer=keras.optimizers.Adam(lr=1e-3),\n",
    "    loss=keras.losses.binary_crossentropy,\n",
    "    metrics=[keras.metrics.binary_accuracy],\n",
    ")"
   ]
  },
  {
   "cell_type": "markdown",
   "metadata": {
    "colab_type": "text",
    "id": "xG0S8uPNwF80"
   },
   "source": [
    "**4. Train the model.**"
   ]
  },
  {
   "cell_type": "code",
   "execution_count": null,
   "metadata": {
    "colab": {
     "base_uri": "https://localhost:8080/",
     "height": 153
    },
    "colab_type": "code",
    "execution": {
     "iopub.execute_input": "2020-05-27T14:45:25.140404Z",
     "iopub.status.busy": "2020-05-27T14:45:25.140404Z"
    },
    "executionInfo": {
     "elapsed": 254498,
     "status": "ok",
     "timestamp": 1589152526008,
     "user": {
      "displayName": "Mukun Guo",
      "photoUrl": "",
      "userId": "15294793601238845759"
     },
     "user_tz": -480
    },
    "id": "O49yIU4wwF81",
    "outputId": "b6307d3e-2e0c-4c97-b8b1-bb136b108350"
   },
   "outputs": [
    {
     "name": "stdout",
     "output_type": "stream",
     "text": [
      "WARNING:tensorflow:sample_weight modes were coerced from\n",
      "  ...\n",
      "    to  \n",
      "  ['...']\n",
      "Train for 13540 steps\n",
      "Epoch 1/50\n",
      "  405/13540 [..............................] - ETA: 18:08 - loss: 0.5805 - binary_accuracy: 0.7253"
     ]
    }
   ],
   "source": [
    "history = model.fit(\n",
    "    train_gen,\n",
    "    epochs=epochs,\n",
    "    verbose=1,\n",
    "    use_multiprocessing=False,\n",
    "    workers=4,\n",
    "    shuffle=True,\n",
    ")"
   ]
  },
  {
   "cell_type": "markdown",
   "metadata": {
    "colab_type": "text",
    "id": "BUDOkyCNwF83"
   },
   "source": [
    "Note that multiprocessing is switched off, since with a large training set of node pairs, multiprocessing can considerably slow down the training process with the data being transferred between various processes. \n",
    "\n",
    "Also, multiple workers can be used with `Keras version 2.2.4` and above, and it speeds up the training process considerably due to multi-threading."
   ]
  },
  {
   "cell_type": "markdown",
   "metadata": {
    "colab_type": "text",
    "id": "g_n2_WfewF84"
   },
   "source": [
    "### Extracting node embeddings\n",
    "Now that the node pair classifier is trained, we can use its node encoder part as node embeddings evaluator. Below we evaluate node embeddings as activations of the output of graphsage layer stack, and visualise them, coloring nodes by their subject label."
   ]
  },
  {
   "cell_type": "code",
   "execution_count": null,
   "metadata": {
    "colab": {},
    "colab_type": "code",
    "id": "zBhlNnOPwF84"
   },
   "outputs": [],
   "source": [
    "from sklearn.decomposition import PCA\n",
    "from sklearn.manifold import TSNE\n",
    "from stellargraph.mapper import GraphSAGENodeGenerator\n",
    "import pandas as pd\n",
    "import numpy as np\n",
    "import matplotlib.pyplot as plt\n",
    "\n",
    "%matplotlib inline"
   ]
  },
  {
   "cell_type": "markdown",
   "metadata": {
    "colab_type": "text",
    "id": "WHQ8BfEnwF87"
   },
   "source": [
    "**Building a new node-based model**\n",
    "\n",
    "The `(src, dst)` node pair classifier `model` has two identical node encoders: one for source nodes in the node pairs, the other for destination nodes in the node pairs passed to the model. We can use either of the two identical encoders to evaluate node embeddings. Below we create an embedding model by defining a new Keras model with `x_inp_src` (a list of odd elements in `x_inp`) and `x_out_src` (the 1st element in `x_out`) as input and output, respectively. Note that this model's weights are the same as those of the corresponding node encoder in the previously trained node pair classifier."
   ]
  },
  {
   "cell_type": "code",
   "execution_count": null,
   "metadata": {
    "colab": {},
    "colab_type": "code",
    "id": "ADA8uY39wF87"
   },
   "outputs": [],
   "source": [
    "x_inp_src = x_inp[0::2]\n",
    "x_out_src = x_out[0]\n",
    "embedding_model = keras.Model(inputs=x_inp_src, outputs=x_out_src)"
   ]
  },
  {
   "cell_type": "code",
   "execution_count": null,
   "metadata": {
    "colab": {
     "base_uri": "https://localhost:8080/",
     "height": 34
    },
    "colab_type": "code",
    "executionInfo": {
     "elapsed": 809,
     "status": "ok",
     "timestamp": 1589152554624,
     "user": {
      "displayName": "Mukun Guo",
      "photoUrl": "",
      "userId": "15294793601238845759"
     },
     "user_tz": -480
    },
    "id": "0q2HxeOF33LL",
    "outputId": "cb41e958-3401-45ca-e664-638cb4662596"
   },
   "outputs": [],
   "source": [
    "print(x_inp_src)"
   ]
  },
  {
   "cell_type": "markdown",
   "metadata": {
    "colab_type": "text",
    "id": "HobAnHzdwF8-"
   },
   "source": [
    "We also need a node generator to feed graph nodes to `embedding_model`. We want to evaluate node embeddings for all nodes in the graph:"
   ]
  },
  {
   "cell_type": "code",
   "execution_count": null,
   "metadata": {
    "colab": {},
    "colab_type": "code",
    "id": "OBoqyW9wwF8-"
   },
   "outputs": [],
   "source": [
    "node_ids = node_subjects.index\n",
    "node_gen = GraphSAGENodeGenerator(G, batch_size, num_samples).flow(node_ids)"
   ]
  },
  {
   "cell_type": "markdown",
   "metadata": {
    "colab_type": "text",
    "id": "bwNojiHewF9A"
   },
   "source": [
    "We now use `node_gen` to feed all nodes into the embedding model and extract their embeddings:"
   ]
  },
  {
   "cell_type": "code",
   "execution_count": null,
   "metadata": {
    "colab": {
     "base_uri": "https://localhost:8080/",
     "height": 34
    },
    "colab_type": "code",
    "executionInfo": {
     "elapsed": 3054,
     "status": "ok",
     "timestamp": 1589152598746,
     "user": {
      "displayName": "Mukun Guo",
      "photoUrl": "",
      "userId": "15294793601238845759"
     },
     "user_tz": -480
    },
    "id": "LVlJOSEIwF9B",
    "outputId": "f24422d4-4a8b-4db2-cdc8-09fba4afb4e4"
   },
   "outputs": [],
   "source": [
    "node_embeddings = embedding_model.predict(node_gen, workers=4, verbose=1)"
   ]
  },
  {
   "cell_type": "markdown",
   "metadata": {
    "colab_type": "text",
    "id": "ux6c3s_pwF9D"
   },
   "source": [
    "#### Visualize the node embeddings \n",
    "Next we visualize the node embeddings in 2D using t-SNE. Colors of the nodes depict their true classes (subject in the case of Cora dataset) of the nodes. "
   ]
  },
  {
   "cell_type": "code",
   "execution_count": null,
   "metadata": {
    "colab": {},
    "colab_type": "code",
    "id": "q0oxAQ35wF9E"
   },
   "outputs": [],
   "source": [
    "node_subject = node_subjects.astype(\"category\").cat.codes\n",
    "\n",
    "X = node_embeddings\n",
    "if X.shape[1] > 2:\n",
    "    transform = TSNE  # PCA\n",
    "\n",
    "    trans = transform(n_components=2)\n",
    "    emb_transformed = pd.DataFrame(trans.fit_transform(X), index=node_ids)\n",
    "    emb_transformed[\"label\"] = node_subject\n",
    "else:\n",
    "    emb_transformed = pd.DataFrame(X, index=node_ids)\n",
    "    emb_transformed = emb_transformed.rename(columns={\"0\": 0, \"1\": 1})\n",
    "    emb_transformed[\"label\"] = node_subject"
   ]
  },
  {
   "cell_type": "code",
   "execution_count": null,
   "metadata": {
    "colab": {
     "base_uri": "https://localhost:8080/",
     "height": 441
    },
    "colab_type": "code",
    "executionInfo": {
     "elapsed": 20256,
     "status": "ok",
     "timestamp": 1589152717200,
     "user": {
      "displayName": "Mukun Guo",
      "photoUrl": "",
      "userId": "15294793601238845759"
     },
     "user_tz": -480
    },
    "id": "7CCDvkqmwF9G",
    "outputId": "415bf5fa-cb5d-427a-c4a7-9b0bd4b52264"
   },
   "outputs": [],
   "source": [
    "alpha = 0.7\n",
    "\n",
    "fig, ax = plt.subplots(figsize=(7, 7))\n",
    "ax.scatter(\n",
    "    emb_transformed[0],\n",
    "    emb_transformed[1],\n",
    "    c=emb_transformed[\"label\"].astype(\"category\"),\n",
    "    cmap=\"jet\",\n",
    "    alpha=alpha,\n",
    ")\n",
    "ax.set(aspect=\"equal\", xlabel=\"$X_1$\", ylabel=\"$X_2$\")\n",
    "plt.title(\n",
    "    \"{} visualization of GraphSAGE embeddings for cora dataset\".format(transform.__name__)\n",
    ")\n",
    "plt.show()"
   ]
  },
  {
   "cell_type": "code",
   "execution_count": null,
   "metadata": {
    "colab": {
     "base_uri": "https://localhost:8080/",
     "height": 204
    },
    "colab_type": "code",
    "executionInfo": {
     "elapsed": 816,
     "status": "ok",
     "timestamp": 1589152741142,
     "user": {
      "displayName": "Mukun Guo",
      "photoUrl": "",
      "userId": "15294793601238845759"
     },
     "user_tz": -480
    },
    "id": "MuPkHzRk4eTU",
    "outputId": "c0d6c7ad-0e2a-4ce0-ffaf-f7f75ad30d2f"
   },
   "outputs": [],
   "source": [
    "emb_transformed.head()"
   ]
  },
  {
   "cell_type": "markdown",
   "metadata": {
    "colab_type": "text",
    "id": "zQ-l22-VwF9I"
   },
   "source": [
    "The observation that same-colored nodes in the embedding space are concentrated together is indicative  of similarity of embeddings of papers on the same topics. We would emphasize here again that the node embeddings are learnt in unsupervised way, without using true class labels. "
   ]
  },
  {
   "cell_type": "markdown",
   "metadata": {
    "colab_type": "text",
    "id": "UqXQwKw7wF9J"
   },
   "source": [
    "### Downstream task\n",
    "\n",
    "The node embeddings calculated using the unsupervised GraphSAGE can be used as node feature vectors in a downstream task such as node classification. \n",
    "\n",
    "In this example, we will use the  node embeddings to train a simple Logistic Regression classifier to predict paper subjects in Cora dataset."
   ]
  },
  {
   "cell_type": "code",
   "execution_count": null,
   "metadata": {
    "colab": {
     "base_uri": "https://localhost:8080/",
     "height": 34
    },
    "colab_type": "code",
    "executionInfo": {
     "elapsed": 871,
     "status": "ok",
     "timestamp": 1589152768606,
     "user": {
      "displayName": "Mukun Guo",
      "photoUrl": "",
      "userId": "15294793601238845759"
     },
     "user_tz": -480
    },
    "id": "ylWotmFuwF9J",
    "outputId": "6e5869b8-e16b-43cf-87fb-8a4ddc601469"
   },
   "outputs": [],
   "source": [
    "# # X will hold the 50 input features (node embeddings)\n",
    "# X = node_embeddings\n",
    "# # y holds the corresponding target values\n",
    "# y = np.array(node_subject)\n",
    "# y"
   ]
  },
  {
   "cell_type": "markdown",
   "metadata": {
    "colab_type": "text",
    "id": "PV7u1DXtwF9M"
   },
   "source": [
    "### Data Splitting\n",
    "\n",
    "We split the data into train and test sets. \n",
    "\n",
    "We use 5% of the data for training and the remaining 95% for testing as a hold out test set."
   ]
  },
  {
   "cell_type": "code",
   "execution_count": null,
   "metadata": {
    "colab": {},
    "colab_type": "code",
    "id": "NLExDx4jwF9N"
   },
   "outputs": [],
   "source": [
    "# X_train, X_test, y_train, y_test = train_test_split(\n",
    "#     X, y, train_size=0.05, test_size=None, stratify=y\n",
    "# )"
   ]
  },
  {
   "cell_type": "markdown",
   "metadata": {
    "colab_type": "text",
    "id": "iJUeDL-CwF9P"
   },
   "source": [
    "### Classifier Training\n",
    "\n",
    "We train a Logistic Regression classifier on the training data. "
   ]
  },
  {
   "cell_type": "code",
   "execution_count": null,
   "metadata": {
    "colab": {
     "base_uri": "https://localhost:8080/",
     "height": 102
    },
    "colab_type": "code",
    "executionInfo": {
     "elapsed": 918,
     "status": "ok",
     "timestamp": 1589152777869,
     "user": {
      "displayName": "Mukun Guo",
      "photoUrl": "",
      "userId": "15294793601238845759"
     },
     "user_tz": -480
    },
    "id": "2VooHsYjwF9P",
    "outputId": "20364c78-10fd-4dd8-e625-13b89534d561"
   },
   "outputs": [],
   "source": [
    "# clf = LogisticRegression(verbose=0, solver=\"lbfgs\", multi_class=\"auto\")\n",
    "# clf.fit(X_train, y_train)"
   ]
  },
  {
   "cell_type": "markdown",
   "metadata": {
    "colab_type": "text",
    "id": "e-1yEY0jwF9R"
   },
   "source": [
    "Predict the hold out test set."
   ]
  },
  {
   "cell_type": "code",
   "execution_count": null,
   "metadata": {
    "colab": {},
    "colab_type": "code",
    "id": "Q3oFiZ8MwF9S"
   },
   "outputs": [],
   "source": [
    "# y_pred = clf.predict(X_test)"
   ]
  },
  {
   "cell_type": "markdown",
   "metadata": {
    "colab_type": "text",
    "id": "8rJgLhJLwF9U"
   },
   "source": [
    "Calculate the accuracy of the classifier on the test set."
   ]
  },
  {
   "cell_type": "code",
   "execution_count": null,
   "metadata": {
    "colab": {
     "base_uri": "https://localhost:8080/",
     "height": 34
    },
    "colab_type": "code",
    "executionInfo": {
     "elapsed": 571,
     "status": "ok",
     "timestamp": 1589152784924,
     "user": {
      "displayName": "Mukun Guo",
      "photoUrl": "",
      "userId": "15294793601238845759"
     },
     "user_tz": -480
    },
    "id": "0MkBh4yLwF9U",
    "outputId": "dbfe1848-f1a1-4b15-e4f3-4f93caa1d0ec"
   },
   "outputs": [],
   "source": [
    "# accuracy_score(y_test, y_pred)"
   ]
  },
  {
   "cell_type": "markdown",
   "metadata": {
    "colab_type": "text",
    "id": "wbzEyEzvwF9W"
   },
   "source": [
    "The obtained accuracy is pretty decent, better than that obtained by using node embeddings obtained by `node2vec` that ignores node attributes, only taking into account the graph structure (see this [demo](https://github.com/stellargraph/stellargraph/tree/master/demos/embeddings/stellargraph-node2vec.ipynb)). "
   ]
  },
  {
   "cell_type": "markdown",
   "metadata": {
    "colab_type": "text",
    "id": "Qu9tGFnSwF9X"
   },
   "source": [
    "**Predicted classes**"
   ]
  },
  {
   "cell_type": "code",
   "execution_count": null,
   "metadata": {
    "colab": {
     "base_uri": "https://localhost:8080/",
     "height": 153
    },
    "colab_type": "code",
    "executionInfo": {
     "elapsed": 827,
     "status": "ok",
     "timestamp": 1589152795029,
     "user": {
      "displayName": "Mukun Guo",
      "photoUrl": "",
      "userId": "15294793601238845759"
     },
     "user_tz": -480
    },
    "id": "ZVT0po1NwF9X",
    "outputId": "de8f71b1-68ec-4e48-e03d-02f7a646e090"
   },
   "outputs": [],
   "source": [
    "# pd.Series(y_pred).value_counts()"
   ]
  },
  {
   "cell_type": "markdown",
   "metadata": {
    "colab_type": "text",
    "id": "UjmCK6q4wF9Z"
   },
   "source": [
    "**True classes**"
   ]
  },
  {
   "cell_type": "code",
   "execution_count": null,
   "metadata": {
    "colab": {
     "base_uri": "https://localhost:8080/",
     "height": 153
    },
    "colab_type": "code",
    "executionInfo": {
     "elapsed": 686,
     "status": "ok",
     "timestamp": 1589152795429,
     "user": {
      "displayName": "Mukun Guo",
      "photoUrl": "",
      "userId": "15294793601238845759"
     },
     "user_tz": -480
    },
    "id": "Yjp2hDjgwF9a",
    "outputId": "b91f32e4-049d-4996-bf26-f70c31177591"
   },
   "outputs": [],
   "source": [
    "# pd.Series(y).value_counts()"
   ]
  },
  {
   "cell_type": "markdown",
   "metadata": {
    "colab_type": "text",
    "id": "K_s4VfgNwF9c"
   },
   "source": [
    "### Uses for unsupervised graph representation learning\n",
    "1. Unsupervised GraphSAGE learns embeddings of unlabeled graph nodes. This is highly useful as most of the real-world data is typically either unlabeled, or have noisy, unreliable, or sparse labels. In such scenarios unsupervised techniques that learn low-dimensional meaningful representation of nodes in a graph by leveraging the graph structure and features of the nodes is useful.\n",
    "2. Moreover, GraphSAGE is an inductive technique that allows us to obtain embeddings of unseen nodes, without the need to re-train the embedding model. That is, instead of training individual embeddings for each node (as in algorithms such as `node2vec` that learn a look-up table of node embeddings), GraphSAGE learns a function that generates embeddings by sampling and aggregating attributes from each node's local neighborhood, and combining those with the node's own attributes."
   ]
  },
  {
   "cell_type": "markdown",
   "metadata": {
    "colab_type": "text",
    "id": "b4xM2DDMwF9c",
    "tags": [
     "CloudRunner"
    ]
   },
   "source": [
    "<table><tr><td>Run the master version of this notebook:</td><td><a href=\"https://mybinder.org/v2/gh/stellargraph/stellargraph/master?urlpath=lab/tree/demos/embeddings/embeddings-unsupervised-graphsage-cora.ipynb\" alt=\"Open In Binder\" target=\"_parent\"><img src=\"https://mybinder.org/badge_logo.svg\"/></a></td><td><a href=\"https://colab.research.google.com/github/stellargraph/stellargraph/blob/master/demos/embeddings/embeddings-unsupervised-graphsage-cora.ipynb\" alt=\"Open In Colab\" target=\"_parent\"><img src=\"https://colab.research.google.com/assets/colab-badge.svg\"/></a></td></tr></table>"
   ]
  },
  {
   "cell_type": "code",
   "execution_count": null,
   "metadata": {
    "colab": {},
    "colab_type": "code",
    "id": "48FRsUT6_IF8"
   },
   "outputs": [],
   "source": []
  }
 ],
 "metadata": {
  "colab": {
   "name": "Copy of embeddings-unsupervised-graphsage-cora.ipynb",
   "provenance": [
    {
     "file_id": "https://github.com/stellargraph/stellargraph/blob/master/demos/embeddings/embeddings-unsupervised-graphsage-cora.ipynb",
     "timestamp": 1588753303773
    }
   ]
  },
  "environment": {
   "name": "tf2-gpu.2-1.m47",
   "type": "gcloud",
   "uri": "gcr.io/deeplearning-platform-release/tf2-gpu.2-1:m47"
  },
  "file_extension": ".py",
  "kernelspec": {
   "display_name": "Python 3",
   "language": "python",
   "name": "python3"
  },
  "language_info": {
   "codemirror_mode": {
    "name": "ipython",
    "version": 3
   },
   "file_extension": ".py",
   "mimetype": "text/x-python",
   "name": "python",
   "nbconvert_exporter": "python",
   "pygments_lexer": "ipython3",
   "version": "3.7.7"
  },
  "mimetype": "text/x-python",
  "name": "python",
  "npconvert_exporter": "python",
  "pygments_lexer": "ipython3",
  "version": 3
 },
 "nbformat": 4,
 "nbformat_minor": 4
}
