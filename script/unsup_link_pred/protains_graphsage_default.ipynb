{
 "cells": [
  {
   "cell_type": "code",
   "execution_count": 2,
   "metadata": {
    "execution": {
     "iopub.execute_input": "2020-05-27T13:29:50.807052Z",
     "iopub.status.busy": "2020-05-27T13:29:50.806052Z",
     "iopub.status.idle": "2020-05-27T13:29:50.810053Z",
     "shell.execute_reply": "2020-05-27T13:29:50.810053Z",
     "shell.execute_reply.started": "2020-05-27T13:29:50.807052Z"
    }
   },
   "outputs": [],
   "source": [
    "# install StellarGraph if running on Google Colab\n",
    "import sys\n",
    "if 'google.colab' in sys.modules:\n",
    "  %pip install -q stellargraph[demos]==1.0.0rc1"
   ]
  },
  {
   "cell_type": "code",
   "execution_count": 3,
   "metadata": {
    "execution": {
     "iopub.execute_input": "2020-05-27T13:29:50.811052Z",
     "iopub.status.busy": "2020-05-27T13:29:50.811052Z",
     "iopub.status.idle": "2020-05-27T13:29:53.283123Z",
     "shell.execute_reply": "2020-05-27T13:29:53.283123Z",
     "shell.execute_reply.started": "2020-05-27T13:29:50.811052Z"
    }
   },
   "outputs": [
    {
     "data": {
      "text/markdown": [
       "<div class=\"alert alert-block alert-danger\">This notebook is designed for an older StellarGraph version 1.0.0rc1 and may not function correctly with the newer installed version 1.0.0. Please see: <a href=\"https://github.com/stellargraph/stellargraph/issues/1172\">https://github.com/stellargraph/stellargraph/issues/1172</a>.</div>"
      ],
      "text/plain": [
       "<IPython.core.display.Markdown object>"
      ]
     },
     "metadata": {},
     "output_type": "display_data"
    },
    {
     "name": "stderr",
     "output_type": "stream",
     "text": [
      "C:\\Users\\mukun\\anaconda3\\envs\\graphemb\\lib\\site-packages\\ipykernel_launcher.py:5: DeprecationWarning: This notebook is designed for an older StellarGraph version 1.0.0rc1 and may not function correctly with the newer installed version 1.0.0. Please see: <https://github.com/stellargraph/stellargraph/issues/1172>.\n",
      "  \"\"\"\n"
     ]
    }
   ],
   "source": [
    "# verify that we're using the correct version of StellarGraph for this notebook\n",
    "import stellargraph as sg\n",
    "\n",
    "try:\n",
    "    sg.utils.validate_notebook_version(\"1.0.0rc1\")\n",
    "except AttributeError:\n",
    "    raise ValueError(\n",
    "        f\"This notebook requires StellarGraph version 1.0.0rc1, but a different version {sg.__version__} is installed.  Please see <https://github.com/stellargraph/stellargraph/issues/1172>.\"\n",
    "    ) from None"
   ]
  },
  {
   "cell_type": "code",
   "execution_count": 34,
   "metadata": {
    "execution": {
     "iopub.execute_input": "2020-05-27T13:38:46.441535Z",
     "iopub.status.busy": "2020-05-27T13:38:46.441535Z",
     "iopub.status.idle": "2020-05-27T13:38:46.497052Z",
     "shell.execute_reply": "2020-05-27T13:38:46.497052Z",
     "shell.execute_reply.started": "2020-05-27T13:38:46.441535Z"
    }
   },
   "outputs": [
    {
     "name": "stdout",
     "output_type": "stream",
     "text": [
      "Default GPU Device:/device:GPU:0\n"
     ]
    }
   ],
   "source": [
    "import networkx as nx\n",
    "import pandas as pd\n",
    "import numpy as np\n",
    "import os\n",
    "import random\n",
    "from pathlib import Path\n",
    "\n",
    "import stellargraph as sg\n",
    "from stellargraph.data import EdgeSplitter\n",
    "from stellargraph.mapper import GraphSAGELinkGenerator\n",
    "from stellargraph.layer import GraphSAGE, link_classification\n",
    "from stellargraph.data import UniformRandomWalk\n",
    "from stellargraph.data import UnsupervisedSampler\n",
    "from sklearn.model_selection import train_test_split\n",
    "\n",
    "from tensorflow import keras\n",
    "import tensorflow as tf\n",
    "from sklearn import preprocessing, feature_extraction, model_selection\n",
    "from sklearn.linear_model import LogisticRegressionCV, LogisticRegression\n",
    "from sklearn.metrics import accuracy_score\n",
    "\n",
    "from stellargraph import globalvar\n",
    "\n",
    "from stellargraph import datasets\n",
    "from IPython.display import display, HTML\n",
    "\n",
    "if tf.test.gpu_device_name():\n",
    "  print('Default GPU Device:{}'.format(tf.test.gpu_device_name()))"
   ]
  },
  {
   "cell_type": "markdown",
   "metadata": {
    "colab_type": "text",
    "id": "DzpLl4_ewF8U"
   },
   "source": [
    "### Loading the protein data"
   ]
  },
  {
   "cell_type": "code",
   "execution_count": 5,
   "metadata": {
    "execution": {
     "iopub.execute_input": "2020-05-27T13:29:53.836751Z",
     "iopub.status.busy": "2020-05-27T13:29:53.835751Z",
     "iopub.status.idle": "2020-05-27T13:30:00.565808Z",
     "shell.execute_reply": "2020-05-27T13:30:00.565808Z",
     "shell.execute_reply.started": "2020-05-27T13:29:53.836751Z"
    }
   },
   "outputs": [
    {
     "data": {
      "text/html": [
       "Each graph represents a protein and graph labels represent whether they are are enzymes or non-enzymes. The dataset includes 1113 graphs with 39 nodes and 73 edges on average for each graph. Graph nodes have 4 attributes (including a one-hot encoding of their label), and each graph is labelled as belonging to 1 of 2 classes."
      ],
      "text/plain": [
       "<IPython.core.display.HTML object>"
      ]
     },
     "metadata": {},
     "output_type": "display_data"
    }
   ],
   "source": [
    "dataset = datasets.PROTEINS()\n",
    "display(HTML(dataset.description))\n",
    "G_list, node_subjects_all = dataset.load()"
   ]
  },
  {
   "cell_type": "code",
   "execution_count": 48,
   "metadata": {
    "execution": {
     "iopub.execute_input": "2020-05-27T13:42:55.023643Z",
     "iopub.status.busy": "2020-05-27T13:42:55.023643Z",
     "iopub.status.idle": "2020-05-27T13:42:55.032645Z",
     "shell.execute_reply": "2020-05-27T13:42:55.032645Z",
     "shell.execute_reply.started": "2020-05-27T13:42:55.023643Z"
    }
   },
   "outputs": [
    {
     "name": "stdout",
     "output_type": "stream",
     "text": [
      "StellarGraph: Undirected multigraph\n",
      " Nodes: 52, Edges: 206\n",
      "\n",
      " Node types:\n",
      "  default: [52]\n",
      "    Features: float32 vector, length 4\n",
      "    Edge types: default-default->default\n",
      "\n",
      " Edge types:\n",
      "    default-default->default: [206]\n",
      "        Weights: all 1 (default)\n"
     ]
    }
   ],
   "source": [
    "G = G_list[11]\n",
    "node_subjects = node_subjects_all[G.nodes()]\n",
    "print(G.info())"
   ]
  },
  {
   "cell_type": "markdown",
   "metadata": {
    "colab_type": "text",
    "id": "C7SLV9uRwF8b"
   },
   "source": [
    "**1. Specify the other optional parameter values: root nodes, the number of walks to take per node, the length of each walk, and random seed.**"
   ]
  },
  {
   "cell_type": "code",
   "execution_count": 60,
   "metadata": {
    "execution": {
     "iopub.execute_input": "2020-05-27T13:43:44.667534Z",
     "iopub.status.busy": "2020-05-27T13:43:44.667534Z",
     "iopub.status.idle": "2020-05-27T13:43:44.669582Z",
     "shell.execute_reply": "2020-05-27T13:43:44.669582Z",
     "shell.execute_reply.started": "2020-05-27T13:43:44.667534Z"
    }
   },
   "outputs": [],
   "source": [
    "nodes = list(G.nodes())\n",
    "number_of_walks = 8 #\n",
    "length = 2 # Too much\n",
    "\n",
    "SEED = 0"
   ]
  },
  {
   "cell_type": "markdown",
   "metadata": {
    "colab_type": "text",
    "id": "eBTMu7SawF8e"
   },
   "source": [
    "**2. Create the UnsupervisedSampler instance with the relevant parameters passed to it.**"
   ]
  },
  {
   "cell_type": "code",
   "execution_count": 61,
   "metadata": {
    "colab": {},
    "colab_type": "code",
    "execution": {
     "iopub.execute_input": "2020-05-27T13:43:45.138651Z",
     "iopub.status.busy": "2020-05-27T13:43:45.138651Z",
     "iopub.status.idle": "2020-05-27T13:43:45.142652Z",
     "shell.execute_reply": "2020-05-27T13:43:45.142652Z",
     "shell.execute_reply.started": "2020-05-27T13:43:45.138651Z"
    },
    "id": "F5DfAA0awF8f"
   },
   "outputs": [],
   "source": [
    "biased_walker = sg.data.BiasedRandomWalk(G, n=number_of_walks, length=length, p=2, q=.5, seed=SEED)\n",
    "\n",
    "unsupervised_samples = UnsupervisedSampler(\n",
    "    G, nodes=nodes, walker=biased_walker\n",
    ")"
   ]
  },
  {
   "cell_type": "code",
   "execution_count": 62,
   "metadata": {
    "execution": {
     "iopub.execute_input": "2020-05-27T13:43:45.298380Z",
     "iopub.status.busy": "2020-05-27T13:43:45.297380Z",
     "iopub.status.idle": "2020-05-27T13:43:45.300381Z",
     "shell.execute_reply": "2020-05-27T13:43:45.300381Z",
     "shell.execute_reply.started": "2020-05-27T13:43:45.298380Z"
    }
   },
   "outputs": [],
   "source": [
    "# unsupervised_samples.run(2)"
   ]
  },
  {
   "cell_type": "markdown",
   "metadata": {
    "colab_type": "text",
    "id": "LZnh8tFuwF8i"
   },
   "source": [
    "**3. Create a node pair generator:**\n",
    "\n",
    "Next, create the node pair generator for sampling and streaming the training data to the model. The node pair generator essentially \"maps\" pairs of nodes `(target, context)` to the input of GraphSAGE: it either takes minibatches of node pairs, or an `UnsupervisedSampler` instance which generates the minibatches of node pairs on demand. The generator samples 2-hop subgraphs with `(target, context)` head nodes extracted from those pairs, and feeds them, together with the corresponding binary labels indicating which pair represent positive or negative sample, to the input layer of the node pair classifier with GraphSAGE node encoder, for SGD updates of the model parameters.\n",
    "\n",
    "Specify:\n",
    "1. The minibatch size (number of node pairs per minibatch).\n",
    "2. The number of epochs for training the model.\n",
    "3. The sizes of 1- and 2-hop neighbor samples for GraphSAGE:\n",
    "\n",
    "Note that the length of `num_samples` list defines the number of layers/iterations in the GraphSAGE encoder. In this example, we are defining a 2-layer GraphSAGE encoder."
   ]
  },
  {
   "cell_type": "code",
   "execution_count": 63,
   "metadata": {
    "colab": {},
    "colab_type": "code",
    "execution": {
     "iopub.execute_input": "2020-05-27T13:43:45.574442Z",
     "iopub.status.busy": "2020-05-27T13:43:45.573442Z",
     "iopub.status.idle": "2020-05-27T13:43:45.576442Z",
     "shell.execute_reply": "2020-05-27T13:43:45.576442Z",
     "shell.execute_reply.started": "2020-05-27T13:43:45.573442Z"
    },
    "id": "BA9f1HuLwF8j"
   },
   "outputs": [],
   "source": [
    "batch_size = 50\n",
    "epochs = 20\n",
    "n_samples = [10, 5]"
   ]
  },
  {
   "cell_type": "markdown",
   "metadata": {
    "colab_type": "text",
    "id": "XfIsWoh3wF8l"
   },
   "source": [
    "In the following we show the working of node pair generator with the UnsupervisedSampler, which will generate samples on demand."
   ]
  },
  {
   "cell_type": "code",
   "execution_count": 64,
   "metadata": {
    "colab": {},
    "colab_type": "code",
    "execution": {
     "iopub.execute_input": "2020-05-27T13:43:45.872508Z",
     "iopub.status.busy": "2020-05-27T13:43:45.872508Z",
     "iopub.status.idle": "2020-05-27T13:43:45.885511Z",
     "shell.execute_reply": "2020-05-27T13:43:45.885511Z",
     "shell.execute_reply.started": "2020-05-27T13:43:45.872508Z"
    },
    "id": "w8FlVEQ2wF8m"
   },
   "outputs": [],
   "source": [
    "generator = GraphSAGELinkGenerator(G, batch_size, num_samples=n_samples, seed=SEED)\n",
    "train_gen = generator.flow(unsupervised_samples)\n"
   ]
  },
  {
   "cell_type": "markdown",
   "metadata": {
    "colab_type": "text",
    "id": "egrijlvKwF8o"
   },
   "source": [
    "Build the model: a 2-layer GraphSAGE encoder acting as node representation learner, with a link classification layer on concatenated (`citing-paper`, `cited-paper`) node embeddings.\n",
    "\n",
    "GraphSAGE part of the model, with hidden layer sizes of 50 for both GraphSAGE layers, a bias term, and no dropout. (Dropout can be switched on by specifying a positive dropout rate, 0 < dropout < 1).\n",
    "**Note that the length of `layer_sizes` list must be equal to the length of `num_samples`, as `len(num_samples)` defines the number of hops (layers) in the GraphSAGE encoder**."
   ]
  },
  {
   "cell_type": "code",
   "execution_count": 65,
   "metadata": {
    "colab": {},
    "colab_type": "code",
    "execution": {
     "iopub.execute_input": "2020-05-27T13:43:46.169574Z",
     "iopub.status.busy": "2020-05-27T13:43:46.169574Z",
     "iopub.status.idle": "2020-05-27T13:43:46.173576Z",
     "shell.execute_reply": "2020-05-27T13:43:46.173576Z",
     "shell.execute_reply.started": "2020-05-27T13:43:46.169574Z"
    },
    "id": "X1p3CDrtwF8p"
   },
   "outputs": [],
   "source": [
    "layer_sizes = [16, 16]\n",
    "graphsage = GraphSAGE(\n",
    "    layer_sizes=layer_sizes, generator=generator, bias=True, dropout=0.3, normalize=\"l2\", aggregator=sg.layer.MeanAggregator\n",
    ")"
   ]
  },
  {
   "cell_type": "code",
   "execution_count": 66,
   "metadata": {
    "colab": {},
    "colab_type": "code",
    "execution": {
     "iopub.execute_input": "2020-05-27T13:43:46.329610Z",
     "iopub.status.busy": "2020-05-27T13:43:46.329610Z",
     "iopub.status.idle": "2020-05-27T13:43:46.614673Z",
     "shell.execute_reply": "2020-05-27T13:43:46.614673Z",
     "shell.execute_reply.started": "2020-05-27T13:43:46.329610Z"
    },
    "id": "ft48oixywF8r"
   },
   "outputs": [],
   "source": [
    "# Build the model and expose input and output sockets of graphsage, for node pair inputs:\n",
    "x_inp, x_out = graphsage.in_out_tensors()"
   ]
  },
  {
   "cell_type": "code",
   "execution_count": 67,
   "metadata": {
    "colab": {
     "base_uri": "https://localhost:8080/",
     "height": 34
    },
    "colab_type": "code",
    "execution": {
     "iopub.execute_input": "2020-05-27T13:43:46.615674Z",
     "iopub.status.busy": "2020-05-27T13:43:46.615674Z",
     "iopub.status.idle": "2020-05-27T13:43:46.631678Z",
     "shell.execute_reply": "2020-05-27T13:43:46.631678Z",
     "shell.execute_reply.started": "2020-05-27T13:43:46.615674Z"
    },
    "executionInfo": {
     "elapsed": 1310,
     "status": "ok",
     "timestamp": 1589152221544,
     "user": {
      "displayName": "Mukun Guo",
      "photoUrl": "",
      "userId": "15294793601238845759"
     },
     "user_tz": -480
    },
    "id": "2t5s5uA2wF8v",
    "outputId": "ae32dd5f-a6e2-48b4-8855-5c56c5849662"
   },
   "outputs": [
    {
     "name": "stdout",
     "output_type": "stream",
     "text": [
      "link_classification: using 'concat' method to combine node embeddings into edge embeddings\n"
     ]
    }
   ],
   "source": [
    "prediction = link_classification(\n",
    "    output_dim=1, output_act=\"sigmoid\", edge_embedding_method=\"concat\"\n",
    ")(x_out)"
   ]
  },
  {
   "cell_type": "code",
   "execution_count": 68,
   "metadata": {
    "colab": {},
    "colab_type": "code",
    "execution": {
     "iopub.execute_input": "2020-05-27T13:43:46.674687Z",
     "iopub.status.busy": "2020-05-27T13:43:46.673687Z",
     "iopub.status.idle": "2020-05-27T13:43:46.706695Z",
     "shell.execute_reply": "2020-05-27T13:43:46.706695Z",
     "shell.execute_reply.started": "2020-05-27T13:43:46.674687Z"
    },
    "id": "dVzyLv-ZwF8y"
   },
   "outputs": [],
   "source": [
    "model = keras.Model(inputs=x_inp, outputs=prediction)\n",
    "\n",
    "model.compile(\n",
    "    optimizer=keras.optimizers.Adam(lr=1e-4),\n",
    "    loss=keras.losses.binary_crossentropy,\n",
    "    metrics=['binary_accuracy'],\n",
    ")"
   ]
  },
  {
   "cell_type": "code",
   "execution_count": 69,
   "metadata": {
    "execution": {
     "iopub.execute_input": "2020-05-27T13:43:46.831722Z",
     "iopub.status.busy": "2020-05-27T13:43:46.831722Z",
     "iopub.status.idle": "2020-05-27T13:43:46.833723Z",
     "shell.execute_reply": "2020-05-27T13:43:46.833723Z",
     "shell.execute_reply.started": "2020-05-27T13:43:46.831722Z"
    }
   },
   "outputs": [],
   "source": [
    "# checkpoint\n",
    "filepath=\"./checkpoints/test/weights-improvement-{epoch:02d}-{binary_accuracy:.2f}.hdf5\"\n",
    "checkpoint = tf.keras.callbacks.ModelCheckpoint(str(filepath), \n",
    "                             monitor='binary_accuracy', \n",
    "                             verbose=1, \n",
    "                             save_best_only=True, \n",
    "                             save_weights_only=True,\n",
    "                             mode='auto')\n",
    "callbacks_list = [] # Do not save for this task"
   ]
  },
  {
   "cell_type": "markdown",
   "metadata": {
    "colab_type": "text",
    "id": "xG0S8uPNwF80"
   },
   "source": [
    "**4. Train the model.**"
   ]
  },
  {
   "cell_type": "code",
   "execution_count": 70,
   "metadata": {
    "colab": {
     "base_uri": "https://localhost:8080/",
     "height": 153
    },
    "colab_type": "code",
    "execution": {
     "iopub.execute_input": "2020-05-27T13:43:47.173798Z",
     "iopub.status.busy": "2020-05-27T13:43:47.173798Z",
     "iopub.status.idle": "2020-05-27T13:44:00.319609Z",
     "shell.execute_reply": "2020-05-27T13:44:00.312607Z",
     "shell.execute_reply.started": "2020-05-27T13:43:47.173798Z"
    },
    "executionInfo": {
     "elapsed": 254498,
     "status": "ok",
     "timestamp": 1589152526008,
     "user": {
      "displayName": "Mukun Guo",
      "photoUrl": "",
      "userId": "15294793601238845759"
     },
     "user_tz": -480
    },
    "id": "O49yIU4wwF81",
    "outputId": "b6307d3e-2e0c-4c97-b8b1-bb136b108350"
   },
   "outputs": [
    {
     "name": "stdout",
     "output_type": "stream",
     "text": [
      "WARNING:tensorflow:sample_weight modes were coerced from\n",
      "  ...\n",
      "    to  \n",
      "  ['...']\n",
      "Train for 17 steps\n",
      "Epoch 1/20\n",
      "17/17 [==============================] - 2s 96ms/step - loss: 0.6997 - binary_accuracy: 0.5072\n",
      "Epoch 2/20\n",
      "17/17 [==============================] - 1s 35ms/step - loss: 0.6990 - binary_accuracy: 0.5000\n",
      "Epoch 3/20\n",
      "17/17 [==============================] - 1s 36ms/step - loss: 0.6953 - binary_accuracy: 0.5132\n",
      "Epoch 4/20\n",
      "17/17 [==============================] - 1s 33ms/step - loss: 0.7013 - binary_accuracy: 0.4940\n",
      "Epoch 5/20\n",
      "17/17 [==============================] - 1s 38ms/step - loss: 0.7035 - binary_accuracy: 0.4772\n",
      "Epoch 6/20\n",
      "17/17 [==============================] - 1s 32ms/step - loss: 0.6952 - binary_accuracy: 0.5300\n",
      "Epoch 7/20\n",
      "17/17 [==============================] - 1s 32ms/step - loss: 0.7010 - binary_accuracy: 0.5012\n",
      "Epoch 8/20\n",
      "17/17 [==============================] - 1s 36ms/step - loss: 0.6946 - binary_accuracy: 0.5288\n",
      "Epoch 9/20\n",
      "17/17 [==============================] - 1s 36ms/step - loss: 0.6999 - binary_accuracy: 0.4964\n",
      "Epoch 10/20\n",
      "17/17 [==============================] - 1s 35ms/step - loss: 0.7019 - binary_accuracy: 0.4988\n",
      "Epoch 11/20\n",
      "17/17 [==============================] - 1s 34ms/step - loss: 0.6952 - binary_accuracy: 0.5144\n",
      "Epoch 12/20\n",
      "17/17 [==============================] - 1s 33ms/step - loss: 0.7030 - binary_accuracy: 0.4675\n",
      "Epoch 13/20\n",
      "17/17 [==============================] - 1s 37ms/step - loss: 0.6987 - binary_accuracy: 0.5072\n",
      "Epoch 14/20\n",
      "17/17 [==============================] - 1s 33ms/step - loss: 0.7015 - binary_accuracy: 0.4832\n",
      "Epoch 15/20\n",
      "17/17 [==============================] - 1s 34ms/step - loss: 0.6961 - binary_accuracy: 0.5180\n",
      "Epoch 16/20\n",
      "17/17 [==============================] - 1s 35ms/step - loss: 0.7004 - binary_accuracy: 0.4700\n",
      "Epoch 17/20\n",
      "17/17 [==============================] - 1s 36ms/step - loss: 0.6992 - binary_accuracy: 0.4964\n",
      "Epoch 18/20\n",
      "17/17 [==============================] - 1s 38ms/step - loss: 0.6995 - binary_accuracy: 0.4988\n",
      "Epoch 19/20\n",
      "17/17 [==============================] - 1s 35ms/step - loss: 0.6963 - binary_accuracy: 0.4964\n",
      "Epoch 20/20\n",
      "17/17 [==============================] - 1s 33ms/step - loss: 0.6967 - binary_accuracy: 0.4892\n"
     ]
    }
   ],
   "source": [
    "history = model.fit(\n",
    "    train_gen,\n",
    "    epochs=epochs,\n",
    "    verbose=1,\n",
    "    use_multiprocessing=False,\n",
    "    workers=4,\n",
    "    shuffle=True,\n",
    "    callbacks=callbacks_list\n",
    ")"
   ]
  },
  {
   "cell_type": "markdown",
   "metadata": {
    "colab_type": "text",
    "id": "g_n2_WfewF84"
   },
   "source": [
    "### Extracting node embeddings\n",
    "Now that the node pair classifier is trained, we can use its node encoder part as node embeddings evaluator. Below we evaluate node embeddings as activations of the output of graphsage layer stack, and visualise them, coloring nodes by their subject label."
   ]
  },
  {
   "cell_type": "code",
   "execution_count": null,
   "metadata": {
    "colab": {},
    "colab_type": "code",
    "id": "zBhlNnOPwF84"
   },
   "outputs": [],
   "source": [
    "from sklearn.decomposition import PCA\n",
    "from sklearn.manifold import TSNE\n",
    "from stellargraph.mapper import GraphSAGENodeGenerator\n",
    "import pandas as pd\n",
    "import numpy as np\n",
    "import matplotlib.pyplot as plt\n",
    "\n",
    "%matplotlib inline"
   ]
  },
  {
   "cell_type": "markdown",
   "metadata": {
    "colab_type": "text",
    "id": "WHQ8BfEnwF87"
   },
   "source": [
    "**Building a new node-based model**\n",
    "\n",
    "The `(src, dst)` node pair classifier `model` has two identical node encoders: one for source nodes in the node pairs, the other for destination nodes in the node pairs passed to the model. We can use either of the two identical encoders to evaluate node embeddings. Below we create an embedding model by defining a new Keras model with `x_inp_src` (a list of odd elements in `x_inp`) and `x_out_src` (the 1st element in `x_out`) as input and output, respectively. Note that this model's weights are the same as those of the corresponding node encoder in the previously trained node pair classifier."
   ]
  },
  {
   "cell_type": "code",
   "execution_count": null,
   "metadata": {
    "colab": {},
    "colab_type": "code",
    "id": "ADA8uY39wF87"
   },
   "outputs": [],
   "source": [
    "x_inp_src = x_inp[0::2]\n",
    "x_out_src = x_out[0]\n",
    "embedding_model = keras.Model(inputs=x_inp_src, outputs=x_out_src)"
   ]
  },
  {
   "cell_type": "code",
   "execution_count": null,
   "metadata": {
    "colab": {
     "base_uri": "https://localhost:8080/",
     "height": 34
    },
    "colab_type": "code",
    "executionInfo": {
     "elapsed": 809,
     "status": "ok",
     "timestamp": 1589152554624,
     "user": {
      "displayName": "Mukun Guo",
      "photoUrl": "",
      "userId": "15294793601238845759"
     },
     "user_tz": -480
    },
    "id": "0q2HxeOF33LL",
    "outputId": "cb41e958-3401-45ca-e664-638cb4662596"
   },
   "outputs": [],
   "source": [
    "print(x_inp_src)"
   ]
  },
  {
   "cell_type": "markdown",
   "metadata": {
    "colab_type": "text",
    "id": "HobAnHzdwF8-"
   },
   "source": [
    "We also need a node generator to feed graph nodes to `embedding_model`. We want to evaluate node embeddings for all nodes in the graph:"
   ]
  },
  {
   "cell_type": "code",
   "execution_count": null,
   "metadata": {},
   "outputs": [],
   "source": [
    "df"
   ]
  },
  {
   "cell_type": "code",
   "execution_count": null,
   "metadata": {
    "colab": {},
    "colab_type": "code",
    "id": "OBoqyW9wwF8-"
   },
   "outputs": [],
   "source": [
    "node_ids = feature_df.index\n",
    "node_gen = GraphSAGENodeGenerator(G, batch_size, num_samples).flow(node_ids)"
   ]
  },
  {
   "cell_type": "code",
   "execution_count": null,
   "metadata": {
    "colab": {
     "base_uri": "https://localhost:8080/",
     "height": 34
    },
    "colab_type": "code",
    "executionInfo": {
     "elapsed": 3054,
     "status": "ok",
     "timestamp": 1589152598746,
     "user": {
      "displayName": "Mukun Guo",
      "photoUrl": "",
      "userId": "15294793601238845759"
     },
     "user_tz": -480
    },
    "id": "LVlJOSEIwF9B",
    "outputId": "f24422d4-4a8b-4db2-cdc8-09fba4afb4e4"
   },
   "outputs": [],
   "source": [
    "node_embeddings = embedding_model.predict(node_gen, workers=4, verbose=1)"
   ]
  },
  {
   "cell_type": "markdown",
   "metadata": {
    "colab_type": "text",
    "id": "ux6c3s_pwF9D"
   },
   "source": [
    "#### Visualize the node embeddings \n",
    "Next we visualize the node embeddings in 2D using t-SNE. Colors of the nodes depict their true classes (subject in the case of Cora dataset) of the nodes. "
   ]
  },
  {
   "cell_type": "code",
   "execution_count": null,
   "metadata": {
    "colab": {},
    "colab_type": "code",
    "id": "q0oxAQ35wF9E"
   },
   "outputs": [],
   "source": [
    "# node_subject = node_subjects.astype(\"category\").cat.codes\n",
    "\n",
    "X = node_embeddings\n",
    "if X.shape[1] > 2:\n",
    "    transform = TSNE  # PCA\n",
    "\n",
    "    trans = transform(n_components=2)\n",
    "    emb_transformed = pd.DataFrame(trans.fit_transform(X), index=node_ids)\n",
    "#     emb_transformed[\"label\"] = node_subject\n",
    "else:\n",
    "    emb_transformed = pd.DataFrame(X, index=node_ids)\n",
    "    emb_transformed = emb_transformed.rename(columns={\"0\": 0, \"1\": 1})\n",
    "#     emb_transformed[\"label\"] = node_subject"
   ]
  },
  {
   "cell_type": "code",
   "execution_count": null,
   "metadata": {
    "colab": {
     "base_uri": "https://localhost:8080/",
     "height": 441
    },
    "colab_type": "code",
    "executionInfo": {
     "elapsed": 20256,
     "status": "ok",
     "timestamp": 1589152717200,
     "user": {
      "displayName": "Mukun Guo",
      "photoUrl": "",
      "userId": "15294793601238845759"
     },
     "user_tz": -480
    },
    "id": "7CCDvkqmwF9G",
    "outputId": "415bf5fa-cb5d-427a-c4a7-9b0bd4b52264"
   },
   "outputs": [],
   "source": [
    "alpha = 0.7\n",
    "\n",
    "fig, ax = plt.subplots(figsize=(7, 7))\n",
    "ax.scatter(\n",
    "    emb_transformed[0],\n",
    "    emb_transformed[1],\n",
    "#     c=emb_transformed[\"label\"].astype(\"category\"),\n",
    "    cmap=\"jet\",\n",
    "    alpha=alpha,\n",
    ")\n",
    "ax.set(aspect=\"equal\", xlabel=\"$X_1$\", ylabel=\"$X_2$\")\n",
    "plt.title(\n",
    "    \"{} visualization of GraphSAGE embeddings for cora dataset\".format(transform.__name__)\n",
    ")\n",
    "plt.show()"
   ]
  },
  {
   "cell_type": "code",
   "execution_count": null,
   "metadata": {
    "colab": {
     "base_uri": "https://localhost:8080/",
     "height": 204
    },
    "colab_type": "code",
    "executionInfo": {
     "elapsed": 816,
     "status": "ok",
     "timestamp": 1589152741142,
     "user": {
      "displayName": "Mukun Guo",
      "photoUrl": "",
      "userId": "15294793601238845759"
     },
     "user_tz": -480
    },
    "id": "MuPkHzRk4eTU",
    "outputId": "c0d6c7ad-0e2a-4ce0-ffaf-f7f75ad30d2f"
   },
   "outputs": [],
   "source": [
    "emb_transformed.head()"
   ]
  }
 ],
 "metadata": {
  "kernelspec": {
   "display_name": "Python 3",
   "language": "python",
   "name": "python3"
  },
  "language_info": {
   "codemirror_mode": {
    "name": "ipython",
    "version": 3
   },
   "file_extension": ".py",
   "mimetype": "text/x-python",
   "name": "python",
   "nbconvert_exporter": "python",
   "pygments_lexer": "ipython3",
   "version": "3.7.7"
  }
 },
 "nbformat": 4,
 "nbformat_minor": 4
}
