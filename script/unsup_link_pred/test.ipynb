{
 "cells": [
  {
   "cell_type": "code",
   "execution_count": 2,
   "metadata": {
    "execution": {
     "iopub.execute_input": "2020-06-10T07:03:00.044357Z",
     "iopub.status.busy": "2020-06-10T07:03:00.044357Z",
     "iopub.status.idle": "2020-06-10T07:03:00.061381Z",
     "shell.execute_reply": "2020-06-10T07:03:00.061381Z",
     "shell.execute_reply.started": "2020-06-10T07:03:00.044357Z"
    }
   },
   "outputs": [],
   "source": [
    "# install StellarGraph if running on Google Colab\n",
    "import sys\n",
    "if 'google.colab' in sys.modules:\n",
    "  %pip install -q stellargraph[demos]==1.0.0rc1"
   ]
  },
  {
   "cell_type": "code",
   "execution_count": 3,
   "metadata": {
    "execution": {
     "iopub.execute_input": "2020-06-10T07:03:00.062380Z",
     "iopub.status.busy": "2020-06-10T07:03:00.062380Z",
     "iopub.status.idle": "2020-06-10T07:03:02.970893Z",
     "shell.execute_reply": "2020-06-10T07:03:02.970893Z",
     "shell.execute_reply.started": "2020-06-10T07:03:00.062380Z"
    }
   },
   "outputs": [
    {
     "name": "stdout",
     "output_type": "stream",
     "text": [
      "Default GPU Device:/device:GPU:0\n"
     ]
    }
   ],
   "source": [
    "import networkx as nx\n",
    "import pandas as pd\n",
    "import numpy as np\n",
    "import os\n",
    "import random\n",
    "from pathlib import Path\n",
    "\n",
    "import stellargraph as sg\n",
    "from stellargraph.data import EdgeSplitter\n",
    "from stellargraph.mapper import DirectedGraphSAGELinkGenerator, DirectedGraphSAGENodeGenerator\n",
    "from stellargraph.layer import DirectedGraphSAGE, link_classification\n",
    "from stellargraph.data import UniformRandomWalk\n",
    "from stellargraph.data import UnsupervisedSampler\n",
    "from sklearn.model_selection import train_test_split\n",
    "\n",
    "from tensorflow import keras\n",
    "import tensorflow as tf\n",
    "from sklearn import preprocessing, feature_extraction, model_selection\n",
    "from sklearn.linear_model import LogisticRegressionCV, LogisticRegression\n",
    "from sklearn.metrics import accuracy_score\n",
    "\n",
    "from stellargraph import globalvar\n",
    "\n",
    "from stellargraph import datasets\n",
    "from IPython.display import display, HTML\n",
    "\n",
    "if tf.test.gpu_device_name():\n",
    "  print('Default GPU Device:{}'.format(tf.test.gpu_device_name()))"
   ]
  },
  {
   "cell_type": "markdown",
   "metadata": {
    "colab_type": "text",
    "id": "DzpLl4_ewF8U"
   },
   "source": [
    "### Loading the TF network data"
   ]
  },
  {
   "cell_type": "code",
   "execution_count": 5,
   "metadata": {
    "execution": {
     "iopub.execute_input": "2020-06-10T07:03:09.520264Z",
     "iopub.status.busy": "2020-06-10T07:03:09.520264Z",
     "iopub.status.idle": "2020-06-10T07:03:09.561262Z",
     "shell.execute_reply": "2020-06-10T07:03:09.561262Z",
     "shell.execute_reply.started": "2020-06-10T07:03:09.520264Z"
    }
   },
   "outputs": [
    {
     "data": {
      "text/html": [
       "<div>\n",
       "<style scoped>\n",
       "    .dataframe tbody tr th:only-of-type {\n",
       "        vertical-align: middle;\n",
       "    }\n",
       "\n",
       "    .dataframe tbody tr th {\n",
       "        vertical-align: top;\n",
       "    }\n",
       "\n",
       "    .dataframe thead th {\n",
       "        text-align: right;\n",
       "    }\n",
       "</style>\n",
       "<table border=\"1\" class=\"dataframe\">\n",
       "  <thead>\n",
       "    <tr style=\"text-align: right;\">\n",
       "      <th></th>\n",
       "      <th>cell_type</th>\n",
       "      <th>source</th>\n",
       "      <th>target</th>\n",
       "      <th>weight</th>\n",
       "      <th>type</th>\n",
       "    </tr>\n",
       "  </thead>\n",
       "  <tbody>\n",
       "    <tr>\n",
       "      <th>0</th>\n",
       "      <td>GM12878</td>\n",
       "      <td>MEF2C</td>\n",
       "      <td>ISG15</td>\n",
       "      <td>137.000000</td>\n",
       "      <td>TSS</td>\n",
       "    </tr>\n",
       "    <tr>\n",
       "      <th>1</th>\n",
       "      <td>GM12878</td>\n",
       "      <td>MEF2C</td>\n",
       "      <td>NADK</td>\n",
       "      <td>230.679062</td>\n",
       "      <td>TSS</td>\n",
       "    </tr>\n",
       "    <tr>\n",
       "      <th>2</th>\n",
       "      <td>GM12878</td>\n",
       "      <td>MEF2C</td>\n",
       "      <td>TMEM201</td>\n",
       "      <td>114.340787</td>\n",
       "      <td>TSS</td>\n",
       "    </tr>\n",
       "    <tr>\n",
       "      <th>3</th>\n",
       "      <td>GM12878</td>\n",
       "      <td>MEF2C</td>\n",
       "      <td>VPS13D</td>\n",
       "      <td>169.000000</td>\n",
       "      <td>TSS</td>\n",
       "    </tr>\n",
       "    <tr>\n",
       "      <th>4</th>\n",
       "      <td>GM12878</td>\n",
       "      <td>MEF2C</td>\n",
       "      <td>UBR4</td>\n",
       "      <td>98.051176</td>\n",
       "      <td>TSS</td>\n",
       "    </tr>\n",
       "    <tr>\n",
       "      <th>...</th>\n",
       "      <td>...</td>\n",
       "      <td>...</td>\n",
       "      <td>...</td>\n",
       "      <td>...</td>\n",
       "      <td>...</td>\n",
       "    </tr>\n",
       "    <tr>\n",
       "      <th>22634</th>\n",
       "      <td>GM12878</td>\n",
       "      <td>YAE1D1</td>\n",
       "      <td>VIM</td>\n",
       "      <td>NaN</td>\n",
       "      <td>PPI</td>\n",
       "    </tr>\n",
       "    <tr>\n",
       "      <th>22635</th>\n",
       "      <td>GM12878</td>\n",
       "      <td>WIPF1</td>\n",
       "      <td>WASL</td>\n",
       "      <td>NaN</td>\n",
       "      <td>PPI</td>\n",
       "    </tr>\n",
       "    <tr>\n",
       "      <th>22636</th>\n",
       "      <td>GM12878</td>\n",
       "      <td>WIPF2</td>\n",
       "      <td>WAS</td>\n",
       "      <td>NaN</td>\n",
       "      <td>PPI</td>\n",
       "    </tr>\n",
       "    <tr>\n",
       "      <th>22637</th>\n",
       "      <td>GM12878</td>\n",
       "      <td>WWOX</td>\n",
       "      <td>WIPF2</td>\n",
       "      <td>NaN</td>\n",
       "      <td>PPI</td>\n",
       "    </tr>\n",
       "    <tr>\n",
       "      <th>22638</th>\n",
       "      <td>GM12878</td>\n",
       "      <td>XIAP</td>\n",
       "      <td>XAF1</td>\n",
       "      <td>NaN</td>\n",
       "      <td>PPI</td>\n",
       "    </tr>\n",
       "  </tbody>\n",
       "</table>\n",
       "<p>22639 rows × 5 columns</p>\n",
       "</div>"
      ],
      "text/plain": [
       "      cell_type  source   target      weight type\n",
       "0       GM12878   MEF2C    ISG15  137.000000  TSS\n",
       "1       GM12878   MEF2C     NADK  230.679062  TSS\n",
       "2       GM12878   MEF2C  TMEM201  114.340787  TSS\n",
       "3       GM12878   MEF2C   VPS13D  169.000000  TSS\n",
       "4       GM12878   MEF2C     UBR4   98.051176  TSS\n",
       "...         ...     ...      ...         ...  ...\n",
       "22634   GM12878  YAE1D1      VIM         NaN  PPI\n",
       "22635   GM12878   WIPF1     WASL         NaN  PPI\n",
       "22636   GM12878   WIPF2      WAS         NaN  PPI\n",
       "22637   GM12878    WWOX    WIPF2         NaN  PPI\n",
       "22638   GM12878    XIAP     XAF1         NaN  PPI\n",
       "\n",
       "[22639 rows x 5 columns]"
      ]
     },
     "execution_count": 5,
     "metadata": {},
     "output_type": "execute_result"
    }
   ],
   "source": [
    "DATA_FOLDER = Path(\"../../data/\")\n",
    "FILE_NAME = 'GM12878_PPI_sample_ver1.csv'\n",
    "SEP = ','\n",
    "\n",
    "df = pd.read_csv(DATA_FOLDER / FILE_NAME, sep=SEP)[['cell_type', 'source', 'target', 'weight', 'type']]\n",
    "df"
   ]
  },
  {
   "cell_type": "code",
   "execution_count": 6,
   "metadata": {
    "execution": {
     "iopub.execute_input": "2020-06-10T07:03:10.530967Z",
     "iopub.status.busy": "2020-06-10T07:03:10.530967Z",
     "iopub.status.idle": "2020-06-10T07:03:10.558991Z",
     "shell.execute_reply": "2020-06-10T07:03:10.558991Z",
     "shell.execute_reply.started": "2020-06-10T07:03:10.530967Z"
    }
   },
   "outputs": [
    {
     "name": "stdout",
     "output_type": "stream",
     "text": [
      "Name: \n",
      "Type: DiGraph\n",
      "Number of nodes: 1186\n",
      "Number of edges: 4283\n",
      "Average in degree:   3.6113\n",
      "Average out degree:   3.6113\n"
     ]
    }
   ],
   "source": [
    "# Explore the tf2gene section of the network\n",
    "tf2gene = df[df['type'] == 'TSS']\n",
    "nx_graph = nx.from_pandas_edgelist(tf2gene[['source', 'target', 'weight']], 'source', 'target', edge_attr='weight', create_using=nx.DiGraph)\n",
    "print(nx.info(nx_graph))"
   ]
  },
  {
   "cell_type": "markdown",
   "metadata": {},
   "source": [
    "**use 1 as features**"
   ]
  },
  {
   "cell_type": "code",
   "execution_count": 7,
   "metadata": {
    "execution": {
     "iopub.execute_input": "2020-06-10T07:03:12.486393Z",
     "iopub.status.busy": "2020-06-10T07:03:12.486393Z",
     "iopub.status.idle": "2020-06-10T07:03:12.508413Z",
     "shell.execute_reply": "2020-06-10T07:03:12.508413Z",
     "shell.execute_reply.started": "2020-06-10T07:03:12.486393Z"
    }
   },
   "outputs": [
    {
     "name": "stdout",
     "output_type": "stream",
     "text": [
      "Number of nodes: 7927\n"
     ]
    }
   ],
   "source": [
    "source_nodes = set(df['source'])\n",
    "target_nodes = set(df['target'])\n",
    "nodes = source_nodes.union(target_nodes)\n",
    "feature = dict(zip(list(nodes), [1 for _ in range(len(nodes))]))\n",
    "feature_df = pd.DataFrame.from_dict(feature, orient='index')\n",
    "print(f'Number of nodes: {len(nodes)}')"
   ]
  },
  {
   "cell_type": "code",
   "execution_count": 8,
   "metadata": {
    "execution": {
     "iopub.execute_input": "2020-06-10T07:03:12.821660Z",
     "iopub.status.busy": "2020-06-10T07:03:12.820660Z",
     "iopub.status.idle": "2020-06-10T07:03:12.841678Z",
     "shell.execute_reply": "2020-06-10T07:03:12.841678Z",
     "shell.execute_reply.started": "2020-06-10T07:03:12.821660Z"
    }
   },
   "outputs": [
    {
     "data": {
      "text/html": [
       "<div>\n",
       "<style scoped>\n",
       "    .dataframe tbody tr th:only-of-type {\n",
       "        vertical-align: middle;\n",
       "    }\n",
       "\n",
       "    .dataframe tbody tr th {\n",
       "        vertical-align: top;\n",
       "    }\n",
       "\n",
       "    .dataframe thead th {\n",
       "        text-align: right;\n",
       "    }\n",
       "</style>\n",
       "<table border=\"1\" class=\"dataframe\">\n",
       "  <thead>\n",
       "    <tr style=\"text-align: right;\">\n",
       "      <th></th>\n",
       "      <th>0</th>\n",
       "    </tr>\n",
       "  </thead>\n",
       "  <tbody>\n",
       "    <tr>\n",
       "      <th>SLCO4C1</th>\n",
       "      <td>1</td>\n",
       "    </tr>\n",
       "    <tr>\n",
       "      <th>LPCAT2</th>\n",
       "      <td>1</td>\n",
       "    </tr>\n",
       "    <tr>\n",
       "      <th>FXR2</th>\n",
       "      <td>1</td>\n",
       "    </tr>\n",
       "    <tr>\n",
       "      <th>SPCS3</th>\n",
       "      <td>1</td>\n",
       "    </tr>\n",
       "    <tr>\n",
       "      <th>BROX</th>\n",
       "      <td>1</td>\n",
       "    </tr>\n",
       "    <tr>\n",
       "      <th>...</th>\n",
       "      <td>...</td>\n",
       "    </tr>\n",
       "    <tr>\n",
       "      <th>HIST2H3D</th>\n",
       "      <td>1</td>\n",
       "    </tr>\n",
       "    <tr>\n",
       "      <th>DDR1</th>\n",
       "      <td>1</td>\n",
       "    </tr>\n",
       "    <tr>\n",
       "      <th>PFDN4</th>\n",
       "      <td>1</td>\n",
       "    </tr>\n",
       "    <tr>\n",
       "      <th>KLC1</th>\n",
       "      <td>1</td>\n",
       "    </tr>\n",
       "    <tr>\n",
       "      <th>TLK2</th>\n",
       "      <td>1</td>\n",
       "    </tr>\n",
       "  </tbody>\n",
       "</table>\n",
       "<p>7927 rows × 1 columns</p>\n",
       "</div>"
      ],
      "text/plain": [
       "          0\n",
       "SLCO4C1   1\n",
       "LPCAT2    1\n",
       "FXR2      1\n",
       "SPCS3     1\n",
       "BROX      1\n",
       "...      ..\n",
       "HIST2H3D  1\n",
       "DDR1      1\n",
       "PFDN4     1\n",
       "KLC1      1\n",
       "TLK2      1\n",
       "\n",
       "[7927 rows x 1 columns]"
      ]
     },
     "execution_count": 8,
     "metadata": {},
     "output_type": "execute_result"
    }
   ],
   "source": [
    "feature_df"
   ]
  },
  {
   "cell_type": "code",
   "execution_count": 7,
   "metadata": {
    "execution": {
     "iopub.execute_input": "2020-05-27T14:46:19.564812Z",
     "iopub.status.busy": "2020-05-27T14:46:19.564812Z",
     "iopub.status.idle": "2020-05-27T14:46:19.584816Z",
     "shell.execute_reply": "2020-05-27T14:46:19.584816Z",
     "shell.execute_reply.started": "2020-05-27T14:46:19.564812Z"
    }
   },
   "outputs": [
    {
     "name": "stdout",
     "output_type": "stream",
     "text": [
      "StellarDiGraph: Directed multigraph\n",
      " Nodes: 2497, Edges: 9407\n",
      "\n",
      " Node types:\n",
      "  default: [2497]\n",
      "    Features: float32 vector, length 1\n",
      "    Edge types: default-default->default\n",
      "\n",
      " Edge types:\n",
      "    default-default->default: [9407]\n",
      "        Weights: all 1 (default)\n"
     ]
    }
   ],
   "source": [
    "G = sg.StellarDiGraph(edges=df[['source', 'target']], nodes=feature_df)\n",
    "print(G.info())\n"
   ]
  },
  {
   "cell_type": "code",
   "execution_count": 8,
   "metadata": {
    "execution": {
     "iopub.execute_input": "2020-05-27T14:46:19.586817Z",
     "iopub.status.busy": "2020-05-27T14:46:19.585816Z",
     "iopub.status.idle": "2020-05-27T14:46:19.589817Z",
     "shell.execute_reply": "2020-05-27T14:46:19.589817Z",
     "shell.execute_reply.started": "2020-05-27T14:46:19.586817Z"
    }
   },
   "outputs": [
    {
     "data": {
      "text/plain": [
       "Index(['MAPT', 'SPTBN1', 'GOLGA8A', 'PELP1', 'SMAD4', 'ABL1', 'AR', 'SPAG8',\n",
       "       'SCIMP', 'ATF4',\n",
       "       ...\n",
       "       'STRAP', 'OAS1', 'NFYB', 'MED29', 'TRAPPC5', 'SYT5', 'KCNJ12', 'RIF1',\n",
       "       'SNTB1', 'KLRC4-KLRK1'],\n",
       "      dtype='object', length=2497)"
      ]
     },
     "execution_count": 8,
     "metadata": {},
     "output_type": "execute_result"
    }
   ],
   "source": [
    "G.nodes()"
   ]
  },
  {
   "cell_type": "markdown",
   "metadata": {
    "colab_type": "text",
    "id": "C7SLV9uRwF8b"
   },
   "source": [
    "**1. Specify the other optional parameter values: root nodes, the number of walks to take per node, the length of each walk, and random seed.**"
   ]
  },
  {
   "cell_type": "code",
   "execution_count": 9,
   "metadata": {
    "execution": {
     "iopub.execute_input": "2020-05-27T14:46:19.590817Z",
     "iopub.status.busy": "2020-05-27T14:46:19.590817Z",
     "iopub.status.idle": "2020-05-27T14:46:19.593818Z",
     "shell.execute_reply": "2020-05-27T14:46:19.593818Z",
     "shell.execute_reply.started": "2020-05-27T14:46:19.590817Z"
    }
   },
   "outputs": [],
   "source": [
    "nodes = list(G.nodes())\n",
    "number_of_walks = 6 #\n",
    "length = 3 # Too much\n",
    "\n",
    "SEED = 0"
   ]
  },
  {
   "cell_type": "markdown",
   "metadata": {
    "colab_type": "text",
    "id": "eBTMu7SawF8e"
   },
   "source": [
    "**2. Create the UnsupervisedSampler instance with the relevant parameters passed to it.**"
   ]
  },
  {
   "cell_type": "code",
   "execution_count": 10,
   "metadata": {
    "colab": {},
    "colab_type": "code",
    "execution": {
     "iopub.execute_input": "2020-05-27T14:46:19.594818Z",
     "iopub.status.busy": "2020-05-27T14:46:19.594818Z",
     "iopub.status.idle": "2020-05-27T14:46:19.597819Z",
     "shell.execute_reply": "2020-05-27T14:46:19.597819Z",
     "shell.execute_reply.started": "2020-05-27T14:46:19.594818Z"
    },
    "id": "F5DfAA0awF8f"
   },
   "outputs": [],
   "source": [
    "biased_walker = sg.data.BiasedRandomWalk(G, n=number_of_walks, length=length, p=2, q=.5, seed=SEED)\n",
    "\n",
    "unsupervised_samples = UnsupervisedSampler(\n",
    "    G, nodes=nodes, walker=biased_walker\n",
    ")"
   ]
  },
  {
   "cell_type": "code",
   "execution_count": 11,
   "metadata": {
    "execution": {
     "iopub.execute_input": "2020-05-27T14:46:19.598819Z",
     "iopub.status.busy": "2020-05-27T14:46:19.597819Z",
     "iopub.status.idle": "2020-05-27T14:46:19.602820Z",
     "shell.execute_reply": "2020-05-27T14:46:19.602820Z",
     "shell.execute_reply.started": "2020-05-27T14:46:19.598819Z"
    }
   },
   "outputs": [],
   "source": [
    "# unsupervised_samples.run(2)"
   ]
  },
  {
   "cell_type": "markdown",
   "metadata": {
    "colab_type": "text",
    "id": "LZnh8tFuwF8i"
   },
   "source": [
    "**3. Create a node pair generator:**\n",
    "\n",
    "Next, create the node pair generator for sampling and streaming the training data to the model. The node pair generator essentially \"maps\" pairs of nodes `(target, context)` to the input of GraphSAGE: it either takes minibatches of node pairs, or an `UnsupervisedSampler` instance which generates the minibatches of node pairs on demand. The generator samples 2-hop subgraphs with `(target, context)` head nodes extracted from those pairs, and feeds them, together with the corresponding binary labels indicating which pair represent positive or negative sample, to the input layer of the node pair classifier with GraphSAGE node encoder, for SGD updates of the model parameters.\n",
    "\n",
    "Specify:\n",
    "1. The minibatch size (number of node pairs per minibatch).\n",
    "2. The number of epochs for training the model.\n",
    "3. The sizes of 1- and 2-hop neighbor samples for GraphSAGE:\n",
    "\n",
    "Note that the length of `num_samples` list defines the number of layers/iterations in the GraphSAGE encoder. In this example, we are defining a 2-layer GraphSAGE encoder."
   ]
  },
  {
   "cell_type": "code",
   "execution_count": 12,
   "metadata": {
    "colab": {},
    "colab_type": "code",
    "execution": {
     "iopub.execute_input": "2020-05-27T14:46:19.603820Z",
     "iopub.status.busy": "2020-05-27T14:46:19.603820Z",
     "iopub.status.idle": "2020-05-27T14:46:19.606821Z",
     "shell.execute_reply": "2020-05-27T14:46:19.606821Z",
     "shell.execute_reply.started": "2020-05-27T14:46:19.603820Z"
    },
    "id": "BA9f1HuLwF8j"
   },
   "outputs": [],
   "source": [
    "batch_size = 256\n",
    "epochs = 50\n",
    "in_samples = [5, 5, 5]\n",
    "out_samples = [5, 5, 5]"
   ]
  },
  {
   "cell_type": "markdown",
   "metadata": {
    "colab_type": "text",
    "id": "XfIsWoh3wF8l"
   },
   "source": [
    "In the following we show the working of node pair generator with the UnsupervisedSampler, which will generate samples on demand."
   ]
  },
  {
   "cell_type": "code",
   "execution_count": 13,
   "metadata": {
    "colab": {},
    "colab_type": "code",
    "execution": {
     "iopub.execute_input": "2020-05-27T14:46:19.607821Z",
     "iopub.status.busy": "2020-05-27T14:46:19.607821Z",
     "iopub.status.idle": "2020-05-27T14:46:22.079386Z",
     "shell.execute_reply": "2020-05-27T14:46:22.079386Z",
     "shell.execute_reply.started": "2020-05-27T14:46:19.607821Z"
    },
    "id": "w8FlVEQ2wF8m"
   },
   "outputs": [],
   "source": [
    "generator = DirectedGraphSAGELinkGenerator(G, batch_size, in_samples=in_samples, out_samples=out_samples, seed=SEED)\n",
    "train_gen = generator.flow(unsupervised_samples)\n"
   ]
  },
  {
   "cell_type": "markdown",
   "metadata": {
    "colab_type": "text",
    "id": "egrijlvKwF8o"
   },
   "source": [
    "Build the model: a 2-layer GraphSAGE encoder acting as node representation learner, with a link classification layer on concatenated (`citing-paper`, `cited-paper`) node embeddings.\n",
    "\n",
    "GraphSAGE part of the model, with hidden layer sizes of 50 for both GraphSAGE layers, a bias term, and no dropout. (Dropout can be switched on by specifying a positive dropout rate, 0 < dropout < 1).\n",
    "**Note that the length of `layer_sizes` list must be equal to the length of `num_samples`, as `len(num_samples)` defines the number of hops (layers) in the GraphSAGE encoder**."
   ]
  },
  {
   "cell_type": "code",
   "execution_count": 14,
   "metadata": {
    "colab": {},
    "colab_type": "code",
    "execution": {
     "iopub.execute_input": "2020-05-27T14:46:22.080387Z",
     "iopub.status.busy": "2020-05-27T14:46:22.079386Z",
     "iopub.status.idle": "2020-05-27T14:46:22.086388Z",
     "shell.execute_reply": "2020-05-27T14:46:22.086388Z",
     "shell.execute_reply.started": "2020-05-27T14:46:22.080387Z"
    },
    "id": "X1p3CDrtwF8p"
   },
   "outputs": [],
   "source": [
    "layer_sizes = [32, 32, 32]\n",
    "graphsage = DirectedGraphSAGE(\n",
    "    layer_sizes=layer_sizes, generator=generator, bias=True, dropout=0.3, normalize=\"l2\", aggregator=sg.layer.MeanAggregator\n",
    ")"
   ]
  },
  {
   "cell_type": "code",
   "execution_count": 15,
   "metadata": {
    "colab": {},
    "colab_type": "code",
    "execution": {
     "iopub.execute_input": "2020-05-27T14:46:22.087388Z",
     "iopub.status.busy": "2020-05-27T14:46:22.086388Z",
     "iopub.status.idle": "2020-05-27T14:46:24.032829Z",
     "shell.execute_reply": "2020-05-27T14:46:24.032829Z",
     "shell.execute_reply.started": "2020-05-27T14:46:22.087388Z"
    },
    "id": "ft48oixywF8r"
   },
   "outputs": [],
   "source": [
    "# Build the model and expose input and output sockets of graphsage, for node pair inputs:\n",
    "x_inp, x_out = graphsage.in_out_tensors()"
   ]
  },
  {
   "cell_type": "code",
   "execution_count": 16,
   "metadata": {
    "colab": {
     "base_uri": "https://localhost:8080/",
     "height": 34
    },
    "colab_type": "code",
    "execution": {
     "iopub.execute_input": "2020-05-27T14:46:24.033829Z",
     "iopub.status.busy": "2020-05-27T14:46:24.033829Z",
     "iopub.status.idle": "2020-05-27T14:46:24.460660Z",
     "shell.execute_reply": "2020-05-27T14:46:24.460660Z",
     "shell.execute_reply.started": "2020-05-27T14:46:24.033829Z"
    },
    "executionInfo": {
     "elapsed": 1310,
     "status": "ok",
     "timestamp": 1589152221544,
     "user": {
      "displayName": "Mukun Guo",
      "photoUrl": "",
      "userId": "15294793601238845759"
     },
     "user_tz": -480
    },
    "id": "2t5s5uA2wF8v",
    "outputId": "ae32dd5f-a6e2-48b4-8855-5c56c5849662"
   },
   "outputs": [
    {
     "name": "stdout",
     "output_type": "stream",
     "text": [
      "link_classification: using 'concat' method to combine node embeddings into edge embeddings\n"
     ]
    }
   ],
   "source": [
    "prediction = link_classification(\n",
    "    output_dim=1, output_act=\"sigmoid\", edge_embedding_method=\"concat\"\n",
    ")(x_out)"
   ]
  },
  {
   "cell_type": "code",
   "execution_count": 17,
   "metadata": {
    "colab": {},
    "colab_type": "code",
    "execution": {
     "iopub.execute_input": "2020-05-27T14:46:24.460660Z",
     "iopub.status.busy": "2020-05-27T14:46:24.460660Z",
     "iopub.status.idle": "2020-05-27T14:46:24.511671Z",
     "shell.execute_reply": "2020-05-27T14:46:24.511671Z",
     "shell.execute_reply.started": "2020-05-27T14:46:24.460660Z"
    },
    "id": "dVzyLv-ZwF8y"
   },
   "outputs": [],
   "source": [
    "model = keras.Model(inputs=x_inp, outputs=prediction)\n",
    "\n",
    "model.compile(\n",
    "    optimizer=keras.optimizers.Adam(lr=1e-4),\n",
    "    loss=keras.losses.binary_crossentropy,\n",
    "    metrics=['binary_accuracy'],\n",
    ")"
   ]
  },
  {
   "cell_type": "code",
   "execution_count": 18,
   "metadata": {
    "execution": {
     "iopub.execute_input": "2020-05-27T14:46:24.512672Z",
     "iopub.status.busy": "2020-05-27T14:46:24.512672Z",
     "iopub.status.idle": "2020-05-27T14:46:24.515672Z",
     "shell.execute_reply": "2020-05-27T14:46:24.515672Z",
     "shell.execute_reply.started": "2020-05-27T14:46:24.512672Z"
    }
   },
   "outputs": [],
   "source": [
    "# checkpoint\n",
    "filepath=\"./checkpoints/test/weights-improvement-{epoch:02d}-{binary_accuracy:.2f}.hdf5\"\n",
    "checkpoint = tf.keras.callbacks.ModelCheckpoint(str(filepath), \n",
    "                             monitor='binary_accuracy', \n",
    "                             verbose=1, \n",
    "                             save_best_only=True, \n",
    "                             save_weights_only=True,\n",
    "                             mode='auto')\n",
    "callbacks_list = [checkpoint]"
   ]
  },
  {
   "cell_type": "markdown",
   "metadata": {
    "colab_type": "text",
    "id": "xG0S8uPNwF80"
   },
   "source": [
    "**4. Train the model.**"
   ]
  },
  {
   "cell_type": "code",
   "execution_count": 19,
   "metadata": {
    "colab": {
     "base_uri": "https://localhost:8080/",
     "height": 153
    },
    "colab_type": "code",
    "execution": {
     "iopub.execute_input": "2020-05-27T14:46:26.951717Z",
     "iopub.status.busy": "2020-05-27T14:46:26.950717Z",
     "iopub.status.idle": "2020-05-27T20:19:42.036000Z",
     "shell.execute_reply": "2020-05-27T20:19:42.011995Z",
     "shell.execute_reply.started": "2020-05-27T14:46:26.951717Z"
    },
    "executionInfo": {
     "elapsed": 254498,
     "status": "ok",
     "timestamp": 1589152526008,
     "user": {
      "displayName": "Mukun Guo",
      "photoUrl": "",
      "userId": "15294793601238845759"
     },
     "user_tz": -480
    },
    "id": "O49yIU4wwF81",
    "outputId": "b6307d3e-2e0c-4c97-b8b1-bb136b108350"
   },
   "outputs": [
    {
     "name": "stdout",
     "output_type": "stream",
     "text": [
      "WARNING:tensorflow:sample_weight modes were coerced from\n",
      "  ...\n",
      "    to  \n",
      "  ['...']\n",
      "Train for 235 steps\n",
      "Epoch 1/50\n",
      "234/235 [============================>.] - ETA: 1s - loss: 0.6908 - binary_accuracy: 0.5155  - ETA: 6 - ETA: 4:21 - loss: 0. - ETA: 3:25 - loss: 0.6915 - ETA: 2:37 - loss: 0.6914 - binary_accuracy: 0.512 - ETA: 2:35 - loss: 0.6913 - binary_accuracy: 0.512 - ETA: 2:32 - loss: 0.6 - ETA: 1:42 - loss: 0.\n",
      "Epoch 00001: binary_accuracy improved from -inf to 0.51527, saving model to ./checkpoints/test/weights-improvement-01-0.52.hdf5\n",
      "235/235 [==============================] - 375s 2s/step - loss: 0.6909 - binary_accuracy: 0.5153\n",
      "Epoch 2/50\n",
      "234/235 [============================>.] - ETA: 1s - loss: 0.6890 - binary_accuracy: 0.5215  ETA\n",
      "Epoch 00002: binary_accuracy improved from 0.51527 to 0.52168, saving model to ./checkpoints/test/weights-improvement-02-0.52.hdf5\n",
      "235/235 [==============================] - 395s 2s/step - loss: 0.6890 - binary_accuracy: 0.5217\n",
      "Epoch 3/50\n",
      "234/235 [============================>.] - ETA: 1s - loss: 0.6859 - binary_accuracy: 0.5306  ETA: 40s - loss: 0.6861 - binary_accuracy - ETA: 32s - loss: \n",
      "Epoch 00003: binary_accuracy improved from 0.52168 to 0.53055, saving model to ./checkpoints/test/weights-improvement-03-0.53.hdf5\n",
      "235/235 [==============================] - 399s 2s/step - loss: 0.6859 - binary_accuracy: 0.5306\n",
      "Epoch 4/50\n",
      "234/235 [============================>.] - ETA: 1s - loss: 0.6858 - binary_accuracy: 0.5280  - ET - ETA: 43s - loss: 0.6857 - bin - ETA: 24s - loss: 0.6856 - binary_accu - ETA: 13s - loss: 0.6857 - binary_accuracy\n",
      "Epoch 00004: binary_accuracy did not improve from 0.53055\n",
      "235/235 [==============================] - 400s 2s/step - loss: 0.6858 - binary_accuracy: 0.5279\n",
      "Epoch 5/50\n",
      "233/235 [============================>.] - ETA: 3s - loss: 0.6848 - binary_accuracy: 0.5308\n",
      "Epoch 00005: binary_accuracy improved from 0.53055 to 0.53085, saving model to ./checkpoints/test/weights-improvement-05-0.53.hdf5\n",
      "235/235 [==============================] - 391s 2s/step - loss: 0.6848 - binary_accuracy: 0.5309\n",
      "Epoch 6/50\n",
      "233/235 [============================>.] - ETA: 3s - loss: 0.6839 - binary_accuracy: 0.5368\n",
      "Epoch 00006: binary_accuracy improved from 0.53085 to 0.53629, saving model to ./checkpoints/test/weights-improvement-06-0.54.hdf5\n",
      "235/235 [==============================] - 391s 2s/step - loss: 0.6841 - binary_accuracy: 0.5363\n",
      "Epoch 7/50\n",
      "233/235 [============================>.] - ETA: 3s - loss: 0.6835 - binary_accuracy: 0.5391\n",
      "Epoch 00007: binary_accuracy improved from 0.53629 to 0.53916, saving model to ./checkpoints/test/weights-improvement-07-0.54.hdf5\n",
      "235/235 [==============================] - 396s 2s/step - loss: 0.6835 - binary_accuracy: 0.5392\n",
      "Epoch 8/50\n",
      "233/235 [============================>.] - ETA: 3s - loss: 0.6831 - binary_accuracy: 0.5419  - ETA: 7:3 - ET - ETA: 22s - loss: 0.6833 - binary\n",
      "Epoch 00008: binary_accuracy improved from 0.53916 to 0.54178, saving model to ./checkpoints/test/weights-improvement-08-0.54.hdf5\n",
      "235/235 [==============================] - 396s 2s/step - loss: 0.6831 - binary_accuracy: 0.5418\n",
      "Epoch 9/50\n",
      "232/235 [============================>.] - ETA: 5s - loss: 0.6823 - binary_accuracy: 0.5458\n",
      "Epoch 00009: binary_accuracy improved from 0.54178 to 0.54601, saving model to ./checkpoints/test/weights-improvement-09-0.55.hdf5\n",
      "235/235 [==============================] - 401s 2s/step - loss: 0.6822 - binary_accuracy: 0.5460\n",
      "Epoch 10/50\n",
      "231/235 [============================>.] - ETA: 7s - loss: 0.6813 - binary_accuracy: 0.5483\n",
      "Epoch 00010: binary_accuracy improved from 0.54601 to 0.54839, saving model to ./checkpoints/test/weights-improvement-10-0.55.hdf5\n",
      "235/235 [==============================] - 405s 2s/step - loss: 0.6814 - binary_accuracy: 0.5484\n",
      "Epoch 11/50\n",
      "232/235 [============================>.] - ETA: 5s - loss: 0.6818 - binary_accuracy: 0.5484 \n",
      "Epoch 00011: binary_accuracy improved from 0.54839 to 0.54847, saving model to ./checkpoints/test/weights-improvement-11-0.55.hdf5\n",
      "235/235 [==============================] - 392s 2s/step - loss: 0.6818 - binary_accuracy: 0.5485\n",
      "Epoch 12/50\n",
      "233/235 [============================>.] - ETA: 3s - loss: 0.6812 - binary_accuracy: 0.5506\n",
      "Epoch 00012: binary_accuracy improved from 0.54847 to 0.55041, saving model to ./checkpoints/test/weights-improvement-12-0.55.hdf5\n",
      "235/235 [==============================] - 393s 2s/step - loss: 0.6812 - binary_accuracy: 0.5504\n",
      "Epoch 13/50\n",
      "233/235 [============================>.] - ETA: 3s - loss: 0.6801 - binary_accuracy: 0.5541\n",
      "Epoch 00013: binary_accuracy improved from 0.55041 to 0.55422, saving model to ./checkpoints/test/weights-improvement-13-0.55.hdf5\n",
      "235/235 [==============================] - 398s 2s/step - loss: 0.6800 - binary_accuracy: 0.5542\n",
      "Epoch 14/50\n",
      "233/235 [============================>.] - ETA: 3s - loss: 0.6809 - binary_accuracy: 0.5560\n",
      "Epoch 00014: binary_accuracy improved from 0.55422 to 0.55607, saving model to ./checkpoints/test/weights-improvement-14-0.56.hdf5\n",
      "235/235 [==============================] - 400s 2s/step - loss: 0.6810 - binary_accuracy: 0.5561\n",
      "Epoch 15/50\n",
      "232/235 [============================>.] - ETA: 5s - loss: 0.6796 - binary_accuracy: 0.5602\n",
      "Epoch 00015: binary_accuracy improved from 0.55607 to 0.55994, saving model to ./checkpoints/test/weights-improvement-15-0.56.hdf5\n",
      "235/235 [==============================] - 398s 2s/step - loss: 0.6796 - binary_accuracy: 0.5599\n",
      "Epoch 16/50\n",
      "234/235 [============================>.] - ETA: 1s - loss: 0.6803 - binary_accuracy: 0.5585\n",
      "Epoch 00016: binary_accuracy did not improve from 0.55994\n",
      "235/235 [==============================] - 402s 2s/step - loss: 0.6803 - binary_accuracy: 0.5585\n",
      "Epoch 17/50\n",
      "233/235 [============================>.] - ETA: 3s - loss: 0.6799 - binary_accuracy: 0.5581\n",
      "Epoch 00017: binary_accuracy did not improve from 0.55994\n",
      "235/235 [==============================] - 389s 2s/step - loss: 0.6799 - binary_accuracy: 0.5582\n",
      "Epoch 18/50\n",
      "234/235 [============================>.] - ETA: 1s - loss: 0.6790 - binary_accuracy: 0.5610\n",
      "Epoch 00018: binary_accuracy improved from 0.55994 to 0.56116, saving model to ./checkpoints/test/weights-improvement-18-0.56.hdf5\n",
      "235/235 [==============================] - 393s 2s/step - loss: 0.6790 - binary_accuracy: 0.5612\n",
      "Epoch 19/50\n",
      "234/235 [============================>.] - ETA: 1s - loss: 0.6790 - binary_accuracy: 0.5617\n",
      "Epoch 00019: binary_accuracy improved from 0.56116 to 0.56186, saving model to ./checkpoints/test/weights-improvement-19-0.56.hdf5\n",
      "235/235 [==============================] - 396s 2s/step - loss: 0.6790 - binary_accuracy: 0.5619\n",
      "Epoch 20/50\n",
      "234/235 [============================>.] - ETA: 1s - loss: 0.6791 - binary_accuracy: 0.5604\n",
      "Epoch 00020: binary_accuracy did not improve from 0.56186\n",
      "235/235 [==============================] - 399s 2s/step - loss: 0.6791 - binary_accuracy: 0.5601\n",
      "Epoch 21/50\n",
      "234/235 [============================>.] - ETA: 1s - loss: 0.6797 - binary_accuracy: 0.5598\n",
      "Epoch 00021: binary_accuracy did not improve from 0.56186\n",
      "235/235 [==============================] - 402s 2s/step - loss: 0.6797 - binary_accuracy: 0.5597\n",
      "Epoch 22/50\n",
      "234/235 [============================>.] - ETA: 1s - loss: 0.6783 - binary_accuracy: 0.5646  - E\n",
      "Epoch 00022: binary_accuracy improved from 0.56186 to 0.56448, saving model to ./checkpoints/test/weights-improvement-22-0.56.hdf5\n",
      "235/235 [==============================] - 402s 2s/step - loss: 0.6783 - binary_accuracy: 0.5645\n",
      "Epoch 23/50\n",
      "234/235 [============================>.] - ETA: 1s - loss: 0.6784 - binary_accuracy: 0.5641\n",
      "Epoch 00023: binary_accuracy did not improve from 0.56448\n",
      "235/235 [==============================] - 388s 2s/step - loss: 0.6785 - binary_accuracy: 0.5640\n",
      "Epoch 24/50\n",
      "234/235 [============================>.] - ETA: 1s - loss: 0.6786 - binary_accuracy: 0.5674\n",
      "Epoch 00024: binary_accuracy improved from 0.56448 to 0.56726, saving model to ./checkpoints/test/weights-improvement-24-0.57.hdf5\n",
      "235/235 [==============================] - 393s 2s/step - loss: 0.6786 - binary_accuracy: 0.5673\n",
      "Epoch 25/50\n",
      "234/235 [============================>.] - ETA: 1s - loss: 0.6791 - binary_accuracy: 0.5658\n",
      "Epoch 00025: binary_accuracy did not improve from 0.56726\n",
      "235/235 [==============================] - 396s 2s/step - loss: 0.6789 - binary_accuracy: 0.5663\n",
      "Epoch 26/50\n",
      "232/235 [============================>.] - ETA: 5s - loss: 0.6785 - binary_accuracy: 0.5660\n",
      "Epoch 00026: binary_accuracy did not improve from 0.56726\n",
      "235/235 [==============================] - 400s 2s/step - loss: 0.6785 - binary_accuracy: 0.5657\n",
      "Epoch 27/50\n",
      "234/235 [============================>.] - ETA: 1s - loss: 0.6785 - binary_accuracy: 0.5646\n",
      "Epoch 00027: binary_accuracy did not improve from 0.56726\n",
      "235/235 [==============================] - 402s 2s/step - loss: 0.6785 - binary_accuracy: 0.5648\n",
      "Epoch 28/50\n",
      "232/235 [============================>.] - ETA: 5s - loss: 0.6792 - binary_accuracy: 0.5665 \n",
      "Epoch 00028: binary_accuracy did not improve from 0.56726\n",
      "235/235 [==============================] - 404s 2s/step - loss: 0.6793 - binary_accuracy: 0.5665\n",
      "Epoch 29/50\n",
      "233/235 [============================>.] - ETA: 3s - loss: 0.6781 - binary_accuracy: 0.5695\n",
      "Epoch 00029: binary_accuracy improved from 0.56726 to 0.56938, saving model to ./checkpoints/test/weights-improvement-29-0.57.hdf5\n",
      "235/235 [==============================] - 393s 2s/step - loss: 0.6782 - binary_accuracy: 0.5694\n",
      "Epoch 30/50\n",
      "234/235 [============================>.] - ETA: 1s - loss: 0.6779 - binary_accuracy: 0.5685\n",
      "Epoch 00030: binary_accuracy did not improve from 0.56938\n",
      "235/235 [==============================] - 394s 2s/step - loss: 0.6779 - binary_accuracy: 0.5686\n",
      "Epoch 31/50\n",
      "234/235 [============================>.] - ETA: 1s - loss: 0.6777 - binary_accuracy: 0.5670\n",
      "Epoch 00031: binary_accuracy did not improve from 0.56938\n",
      "235/235 [==============================] - 398s 2s/step - loss: 0.6777 - binary_accuracy: 0.5670\n",
      "Epoch 32/50\n",
      "234/235 [============================>.] - ETA: 1s - loss: 0.6787 - binary_accuracy: 0.5675  - ETA: 2:03 \n",
      "Epoch 00032: binary_accuracy did not improve from 0.56938\n",
      "235/235 [==============================] - 398s 2s/step - loss: 0.6787 - binary_accuracy: 0.5675\n",
      "Epoch 33/50\n",
      "234/235 [============================>.] - ETA: 1s - loss: 0.6773 - binary_accuracy: 0.5705  - ETA: 3:54 -\n",
      "Epoch 00033: binary_accuracy improved from 0.56938 to 0.57022, saving model to ./checkpoints/test/weights-improvement-33-0.57.hdf5\n",
      "235/235 [==============================] - 403s 2s/step - loss: 0.6774 - binary_accuracy: 0.5702\n",
      "Epoch 34/50\n",
      "233/235 [============================>.] - ETA: 3s - loss: 0.6783 - binary_accuracy: 0.5681\n",
      "Epoch 00034: binary_accuracy did not improve from 0.57022\n",
      "235/235 [==============================] - 404s 2s/step - loss: 0.6783 - binary_accuracy: 0.5683\n",
      "Epoch 35/50\n",
      "233/235 [============================>.] - ETA: 3s - loss: 0.6772 - binary_accuracy: 0.5709\n",
      "Epoch 00035: binary_accuracy improved from 0.57022 to 0.57082, saving model to ./checkpoints/test/weights-improvement-35-0.57.hdf5\n",
      "235/235 [==============================] - 397s 2s/step - loss: 0.6772 - binary_accuracy: 0.5708\n",
      "Epoch 36/50\n",
      "232/235 [============================>.] - ETA: 5s - loss: 0.6774 - binary_accuracy: 0.5714\n",
      "Epoch 00036: binary_accuracy improved from 0.57082 to 0.57150, saving model to ./checkpoints/test/weights-improvement-36-0.57.hdf5\n",
      "235/235 [==============================] - 400s 2s/step - loss: 0.6773 - binary_accuracy: 0.5715\n",
      "Epoch 37/50\n",
      "234/235 [============================>.] - ETA: 1s - loss: 0.6787 - binary_accuracy: 0.5689\n",
      "Epoch 00037: binary_accuracy did not improve from 0.57150\n",
      "235/235 [==============================] - 404s 2s/step - loss: 0.6786 - binary_accuracy: 0.5688\n",
      "Epoch 38/50\n",
      "233/235 [============================>.] - ETA: 3s - loss: 0.6782 - binary_accuracy: 0.5702\n",
      "Epoch 00038: binary_accuracy did not improve from 0.57150\n",
      "235/235 [==============================] - 407s 2s/step - loss: 0.6783 - binary_accuracy: 0.5700\n",
      "Epoch 39/50\n",
      "233/235 [============================>.] - ETA: 3s - loss: 0.6775 - binary_accuracy: 0.5706    ETA: 10:59 - los - ETA: 6:52 - loss: 0.6783 - binary_accuracy: 0 - ETA: 6:43 - loss: 0.6779 - binary_accuracy: 0.568 - ETA: 6:34 - loss: 0.6779 - binary_accuracy: 0.568 - ETA: 6:25  - ETA: 4:30 - loss: 0.6775 - binary_accuracy: 0.567 - ETA: 4:26 - lo - ETA: 3:05 - loss: 0.6773 -  - ETA: 2:23 - loss: 0.6777 - binary_ - ETA: 1:50  - ETA: 44s - \n",
      "Epoch 00039: binary_accuracy did not improve from 0.57150\n",
      "235/235 [==============================] - 409s 2s/step - loss: 0.6775 - binary_accuracy: 0.5707\n",
      "Epoch 40/50\n",
      "234/235 [============================>.] - ETA: 1s - loss: 0.6762 - binary_accuracy: 0.5722  ETA: 17s - loss: 0.6765 - binary_accur\n",
      "Epoch 00040: binary_accuracy improved from 0.57150 to 0.57222, saving model to ./checkpoints/test/weights-improvement-40-0.57.hdf5\n",
      "235/235 [==============================] - 411s 2s/step - loss: 0.6762 - binary_accuracy: 0.5722\n",
      "Epoch 41/50\n",
      "234/235 [============================>.] - ETA: 1s - loss: 0.6769 - binary_accuracy: 0.5727\n",
      "Epoch 00041: binary_accuracy improved from 0.57222 to 0.57269, saving model to ./checkpoints/test/weights-improvement-41-0.57.hdf5\n",
      "235/235 [==============================] - 402s 2s/step - loss: 0.6768 - binary_accuracy: 0.5727\n",
      "Epoch 42/50\n",
      "233/235 [============================>.] - ETA: 3s - loss: 0.6763 - binary_accuracy: 0.5735    ETA:  - ETA: 8:15 - loss: 0.6755 - binary_a - ET -  - ETA: 2:38 - loss: - ETA: 1:33 - loss: 0.6769 -\n",
      "Epoch 00042: binary_accuracy improved from 0.57269 to 0.57324, saving model to ./checkpoints/test/weights-improvement-42-0.57.hdf5\n",
      "235/235 [==============================] - 405s 2s/step - loss: 0.6764 - binary_accuracy: 0.5732\n",
      "Epoch 43/50\n",
      "233/235 [============================>.] - ETA: 3s - loss: 0.6766 - binary_accuracy: 0.5723  - ETA: 2:00 - loss: 0.6769 - binary_accurac - ETA: 1:42 - loss: 0.6766 - bin\n",
      "Epoch 00043: binary_accuracy did not improve from 0.57324\n",
      "235/235 [==============================] - 404s 2s/step - loss: 0.6767 - binary_accuracy: 0.5722\n",
      "Epoch 44/50\n",
      "232/235 [============================>.] - ETA: 5s - loss: 0.6777 - binary_accuracy: 0.5738  - ETA: 4:12 - loss: 0.6778 - binary_accuracy: 0.572 - ETA: 4:08 - loss: 0.6 - ETA: 3:04 - loss: 0.6778 - bina - ETA:\n",
      "Epoch 00044: binary_accuracy improved from 0.57324 to 0.57406, saving model to ./checkpoints/test/weights-improvement-44-0.57.hdf5\n",
      "235/235 [==============================] - 408s 2s/step - loss: 0.6775 - binary_accuracy: 0.5741\n",
      "Epoch 45/50\n",
      "234/235 [============================>.] - ETA: 1s - loss: 0.6758 - binary_accuracy: 0.5747\n",
      "Epoch 00045: binary_accuracy improved from 0.57406 to 0.57446, saving model to ./checkpoints/test/weights-improvement-45-0.57.hdf5\n",
      "235/235 [==============================] - 408s 2s/step - loss: 0.6758 - binary_accuracy: 0.5745\n",
      "Epoch 46/50\n",
      "233/235 [============================>.] - ETA: 3s - loss: 0.6764 - binary_accuracy: 0.5766\n",
      "Epoch 00046: binary_accuracy improved from 0.57446 to 0.57656, saving model to ./checkpoints/test/weights-improvement-46-0.58.hdf5\n",
      "235/235 [==============================] - 411s 2s/step - loss: 0.6764 - binary_accuracy: 0.5766\n",
      "Epoch 47/50\n",
      "233/235 [============================>.] - ETA: 3s - loss: 0.6759 - binary_accuracy: 0.5762\n",
      "Epoch 00047: binary_accuracy did not improve from 0.57656\n",
      "235/235 [==============================] - 402s 2s/step - loss: 0.6759 - binary_accuracy: 0.5762\n",
      "Epoch 48/50\n",
      "232/235 [============================>.] - ETA: 5s - loss: 0.6753 - binary_accuracy: 0.5762  - ETA: 1:03 - loss: 0.6750 - bi - ETA: 43s -\n",
      "Epoch 00048: binary_accuracy did not improve from 0.57656\n",
      "235/235 [==============================] - 405s 2s/step - loss: 0.6753 - binary_accuracy: 0.5760\n",
      "Epoch 49/50\n",
      "232/235 [============================>.] - ETA: 5s - loss: 0.6763 - binary_accuracy: 0.5738  - ETA: 2:36 - los - ETA: 1:28 - loss: 0.6765 - - ETA:\n",
      "Epoch 00049: binary_accuracy did not improve from 0.57656\n",
      "235/235 [==============================] - 407s 2s/step - loss: 0.6762 - binary_accuracy: 0.5738\n",
      "Epoch 50/50\n",
      "233/235 [============================>.] - ETA: 3s - loss: 0.6757 - binary_accuracy: 0.5744  - ETA: 1:44 - loss: 0.67\n",
      "Epoch 00050: binary_accuracy did not improve from 0.57656\n",
      "235/235 [==============================] - 409s 2s/step - loss: 0.6757 - binary_accuracy: 0.5744\n"
     ]
    }
   ],
   "source": [
    "history = model.fit(\n",
    "    train_gen,\n",
    "    epochs=epochs,\n",
    "    verbose=1,\n",
    "    use_multiprocessing=False,\n",
    "    workers=8,\n",
    "    shuffle=True,\n",
    "    callbacks=callbacks_list\n",
    ")"
   ]
  },
  {
   "cell_type": "markdown",
   "metadata": {
    "colab_type": "text",
    "id": "g_n2_WfewF84"
   },
   "source": [
    "### Extracting node embeddings\n",
    "Now that the node pair classifier is trained, we can use its node encoder part as node embeddings evaluator. Below we evaluate node embeddings as activations of the output of graphsage layer stack, and visualise them, coloring nodes by their subject label."
   ]
  },
  {
   "cell_type": "code",
   "execution_count": 20,
   "metadata": {
    "colab": {},
    "colab_type": "code",
    "execution": {
     "iopub.execute_input": "2020-05-28T00:07:57.576197Z",
     "iopub.status.busy": "2020-05-28T00:07:57.576197Z",
     "iopub.status.idle": "2020-05-28T00:07:57.649214Z",
     "shell.execute_reply": "2020-05-28T00:07:57.648213Z",
     "shell.execute_reply.started": "2020-05-28T00:07:57.576197Z"
    },
    "id": "zBhlNnOPwF84"
   },
   "outputs": [],
   "source": [
    "from sklearn.decomposition import PCA\n",
    "from sklearn.manifold import TSNE\n",
    "from stellargraph.mapper import GraphSAGENodeGenerator\n",
    "import pandas as pd\n",
    "import numpy as np\n",
    "import matplotlib.pyplot as plt\n",
    "\n",
    "%matplotlib inline"
   ]
  },
  {
   "cell_type": "markdown",
   "metadata": {
    "colab_type": "text",
    "id": "WHQ8BfEnwF87"
   },
   "source": [
    "**Building a new node-based model**\n",
    "\n",
    "The `(src, dst)` node pair classifier `model` has two identical node encoders: one for source nodes in the node pairs, the other for destination nodes in the node pairs passed to the model. We can use either of the two identical encoders to evaluate node embeddings. Below we create an embedding model by defining a new Keras model with `x_inp_src` (a list of odd elements in `x_inp`) and `x_out_src` (the 1st element in `x_out`) as input and output, respectively. Note that this model's weights are the same as those of the corresponding node encoder in the previously trained node pair classifier."
   ]
  },
  {
   "cell_type": "code",
   "execution_count": 21,
   "metadata": {
    "colab": {},
    "colab_type": "code",
    "execution": {
     "iopub.execute_input": "2020-05-28T00:07:59.133825Z",
     "iopub.status.busy": "2020-05-28T00:07:59.133825Z",
     "iopub.status.idle": "2020-05-28T00:07:59.145332Z",
     "shell.execute_reply": "2020-05-28T00:07:59.143828Z",
     "shell.execute_reply.started": "2020-05-28T00:07:59.133825Z"
    },
    "id": "ADA8uY39wF87"
   },
   "outputs": [],
   "source": [
    "x_inp_src = x_inp[0::2]\n",
    "x_out_src = x_out[0]\n",
    "embedding_model = keras.Model(inputs=x_inp_src, outputs=x_out_src)"
   ]
  },
  {
   "cell_type": "code",
   "execution_count": 22,
   "metadata": {
    "colab": {
     "base_uri": "https://localhost:8080/",
     "height": 34
    },
    "colab_type": "code",
    "execution": {
     "iopub.execute_input": "2020-05-28T00:07:59.822483Z",
     "iopub.status.busy": "2020-05-28T00:07:59.822483Z",
     "iopub.status.idle": "2020-05-28T00:07:59.829485Z",
     "shell.execute_reply": "2020-05-28T00:07:59.828485Z",
     "shell.execute_reply.started": "2020-05-28T00:07:59.822483Z"
    },
    "executionInfo": {
     "elapsed": 809,
     "status": "ok",
     "timestamp": 1589152554624,
     "user": {
      "displayName": "Mukun Guo",
      "photoUrl": "",
      "userId": "15294793601238845759"
     },
     "user_tz": -480
    },
    "id": "0q2HxeOF33LL",
    "outputId": "cb41e958-3401-45ca-e664-638cb4662596"
   },
   "outputs": [
    {
     "name": "stdout",
     "output_type": "stream",
     "text": [
      "[<tf.Tensor 'input_1:0' shape=(None, 1, 1) dtype=float32>, <tf.Tensor 'input_2:0' shape=(None, 5, 1) dtype=float32>, <tf.Tensor 'input_3:0' shape=(None, 5, 1) dtype=float32>, <tf.Tensor 'input_4:0' shape=(None, 25, 1) dtype=float32>, <tf.Tensor 'input_5:0' shape=(None, 25, 1) dtype=float32>, <tf.Tensor 'input_6:0' shape=(None, 25, 1) dtype=float32>, <tf.Tensor 'input_7:0' shape=(None, 25, 1) dtype=float32>, <tf.Tensor 'input_8:0' shape=(None, 125, 1) dtype=float32>, <tf.Tensor 'input_9:0' shape=(None, 125, 1) dtype=float32>, <tf.Tensor 'input_10:0' shape=(None, 125, 1) dtype=float32>, <tf.Tensor 'input_11:0' shape=(None, 125, 1) dtype=float32>, <tf.Tensor 'input_12:0' shape=(None, 125, 1) dtype=float32>, <tf.Tensor 'input_13:0' shape=(None, 125, 1) dtype=float32>, <tf.Tensor 'input_14:0' shape=(None, 125, 1) dtype=float32>, <tf.Tensor 'input_15:0' shape=(None, 125, 1) dtype=float32>]\n"
     ]
    }
   ],
   "source": [
    "print(x_inp_src)"
   ]
  },
  {
   "cell_type": "markdown",
   "metadata": {
    "colab_type": "text",
    "id": "HobAnHzdwF8-"
   },
   "source": [
    "We also need a node generator to feed graph nodes to `embedding_model`. We want to evaluate node embeddings for all nodes in the graph:"
   ]
  },
  {
   "cell_type": "code",
   "execution_count": 23,
   "metadata": {
    "execution": {
     "iopub.execute_input": "2020-05-28T00:08:01.209792Z",
     "iopub.status.busy": "2020-05-28T00:08:01.209792Z",
     "iopub.status.idle": "2020-05-28T00:08:01.222309Z",
     "shell.execute_reply": "2020-05-28T00:08:01.221796Z",
     "shell.execute_reply.started": "2020-05-28T00:08:01.209792Z"
    }
   },
   "outputs": [
    {
     "data": {
      "text/html": [
       "<div>\n",
       "<style scoped>\n",
       "    .dataframe tbody tr th:only-of-type {\n",
       "        vertical-align: middle;\n",
       "    }\n",
       "\n",
       "    .dataframe tbody tr th {\n",
       "        vertical-align: top;\n",
       "    }\n",
       "\n",
       "    .dataframe thead th {\n",
       "        text-align: right;\n",
       "    }\n",
       "</style>\n",
       "<table border=\"1\" class=\"dataframe\">\n",
       "  <thead>\n",
       "    <tr style=\"text-align: right;\">\n",
       "      <th></th>\n",
       "      <th>cell_type</th>\n",
       "      <th>source</th>\n",
       "      <th>target</th>\n",
       "      <th>weight</th>\n",
       "      <th>type</th>\n",
       "    </tr>\n",
       "  </thead>\n",
       "  <tbody>\n",
       "    <tr>\n",
       "      <th>0</th>\n",
       "      <td>GM12878</td>\n",
       "      <td>BCL3</td>\n",
       "      <td>MRPL20</td>\n",
       "      <td>55.002413</td>\n",
       "      <td>TSS</td>\n",
       "    </tr>\n",
       "    <tr>\n",
       "      <th>1</th>\n",
       "      <td>GM12878</td>\n",
       "      <td>BCL3</td>\n",
       "      <td>CDK11A</td>\n",
       "      <td>206.122635</td>\n",
       "      <td>TSS</td>\n",
       "    </tr>\n",
       "    <tr>\n",
       "      <th>2</th>\n",
       "      <td>GM12878</td>\n",
       "      <td>BCL3</td>\n",
       "      <td>TNFRSF14</td>\n",
       "      <td>190.000000</td>\n",
       "      <td>TSS</td>\n",
       "    </tr>\n",
       "    <tr>\n",
       "      <th>3</th>\n",
       "      <td>GM12878</td>\n",
       "      <td>BCL3</td>\n",
       "      <td>NPHP4</td>\n",
       "      <td>149.679014</td>\n",
       "      <td>TSS</td>\n",
       "    </tr>\n",
       "    <tr>\n",
       "      <th>4</th>\n",
       "      <td>GM12878</td>\n",
       "      <td>BCL3</td>\n",
       "      <td>KCNAB2</td>\n",
       "      <td>404.296705</td>\n",
       "      <td>TSS</td>\n",
       "    </tr>\n",
       "    <tr>\n",
       "      <th>...</th>\n",
       "      <td>...</td>\n",
       "      <td>...</td>\n",
       "      <td>...</td>\n",
       "      <td>...</td>\n",
       "      <td>...</td>\n",
       "    </tr>\n",
       "    <tr>\n",
       "      <th>9402</th>\n",
       "      <td>GM12878</td>\n",
       "      <td>ZNF446</td>\n",
       "      <td>ZNF397</td>\n",
       "      <td>NaN</td>\n",
       "      <td>PPI</td>\n",
       "    </tr>\n",
       "    <tr>\n",
       "      <th>9403</th>\n",
       "      <td>GM12878</td>\n",
       "      <td>ZNF408</td>\n",
       "      <td>ZNF408</td>\n",
       "      <td>NaN</td>\n",
       "      <td>PPI</td>\n",
       "    </tr>\n",
       "    <tr>\n",
       "      <th>9404</th>\n",
       "      <td>GM12878</td>\n",
       "      <td>ZNF446</td>\n",
       "      <td>ZNF434</td>\n",
       "      <td>NaN</td>\n",
       "      <td>PPI</td>\n",
       "    </tr>\n",
       "    <tr>\n",
       "      <th>9405</th>\n",
       "      <td>GM12878</td>\n",
       "      <td>ZNF496</td>\n",
       "      <td>ZNF446</td>\n",
       "      <td>NaN</td>\n",
       "      <td>PPI</td>\n",
       "    </tr>\n",
       "    <tr>\n",
       "      <th>9406</th>\n",
       "      <td>GM12878</td>\n",
       "      <td>ZSCAN16</td>\n",
       "      <td>ZNF446</td>\n",
       "      <td>NaN</td>\n",
       "      <td>PPI</td>\n",
       "    </tr>\n",
       "  </tbody>\n",
       "</table>\n",
       "<p>9407 rows × 5 columns</p>\n",
       "</div>"
      ],
      "text/plain": [
       "     cell_type   source    target      weight type\n",
       "0      GM12878     BCL3    MRPL20   55.002413  TSS\n",
       "1      GM12878     BCL3    CDK11A  206.122635  TSS\n",
       "2      GM12878     BCL3  TNFRSF14  190.000000  TSS\n",
       "3      GM12878     BCL3     NPHP4  149.679014  TSS\n",
       "4      GM12878     BCL3    KCNAB2  404.296705  TSS\n",
       "...        ...      ...       ...         ...  ...\n",
       "9402   GM12878   ZNF446    ZNF397         NaN  PPI\n",
       "9403   GM12878   ZNF408    ZNF408         NaN  PPI\n",
       "9404   GM12878   ZNF446    ZNF434         NaN  PPI\n",
       "9405   GM12878   ZNF496    ZNF446         NaN  PPI\n",
       "9406   GM12878  ZSCAN16    ZNF446         NaN  PPI\n",
       "\n",
       "[9407 rows x 5 columns]"
      ]
     },
     "execution_count": 23,
     "metadata": {},
     "output_type": "execute_result"
    }
   ],
   "source": [
    "df"
   ]
  },
  {
   "cell_type": "code",
   "execution_count": 28,
   "metadata": {
    "colab": {},
    "colab_type": "code",
    "execution": {
     "iopub.execute_input": "2020-05-28T00:10:12.002684Z",
     "iopub.status.busy": "2020-05-28T00:10:12.002684Z",
     "iopub.status.idle": "2020-05-28T00:10:12.277758Z",
     "shell.execute_reply": "2020-05-28T00:10:12.276757Z",
     "shell.execute_reply.started": "2020-05-28T00:10:12.002684Z"
    },
    "id": "OBoqyW9wwF8-"
   },
   "outputs": [],
   "source": [
    "node_ids = feature_df.index\n",
    "node_gen = DirectedGraphSAGENodeGenerator(G, batch_size, in_samples=in_samples, out_samples=out_samples).flow(node_ids)"
   ]
  },
  {
   "cell_type": "code",
   "execution_count": 29,
   "metadata": {
    "colab": {
     "base_uri": "https://localhost:8080/",
     "height": 34
    },
    "colab_type": "code",
    "execution": {
     "iopub.execute_input": "2020-05-28T00:10:13.622393Z",
     "iopub.status.busy": "2020-05-28T00:10:13.622393Z",
     "iopub.status.idle": "2020-05-28T00:10:28.375346Z",
     "shell.execute_reply": "2020-05-28T00:10:28.365343Z",
     "shell.execute_reply.started": "2020-05-28T00:10:13.622393Z"
    },
    "executionInfo": {
     "elapsed": 3054,
     "status": "ok",
     "timestamp": 1589152598746,
     "user": {
      "displayName": "Mukun Guo",
      "photoUrl": "",
      "userId": "15294793601238845759"
     },
     "user_tz": -480
    },
    "id": "LVlJOSEIwF9B",
    "outputId": "f24422d4-4a8b-4db2-cdc8-09fba4afb4e4"
   },
   "outputs": [
    {
     "name": "stdout",
     "output_type": "stream",
     "text": [
      "10/10 [==============================] - 8s 796ms/step\n"
     ]
    }
   ],
   "source": [
    "node_embeddings = embedding_model.predict(node_gen, workers=4, verbose=1)"
   ]
  },
  {
   "cell_type": "markdown",
   "metadata": {
    "colab_type": "text",
    "id": "ux6c3s_pwF9D"
   },
   "source": [
    "#### Visualize the node embeddings \n",
    "Next we visualize the node embeddings in 2D using t-SNE. Colors of the nodes depict their true classes (subject in the case of Cora dataset) of the nodes. "
   ]
  },
  {
   "cell_type": "code",
   "execution_count": 30,
   "metadata": {
    "colab": {},
    "colab_type": "code",
    "execution": {
     "iopub.execute_input": "2020-05-28T00:10:31.212482Z",
     "iopub.status.busy": "2020-05-28T00:10:31.212482Z",
     "iopub.status.idle": "2020-05-28T00:10:39.164281Z",
     "shell.execute_reply": "2020-05-28T00:10:39.163280Z",
     "shell.execute_reply.started": "2020-05-28T00:10:31.212482Z"
    },
    "id": "q0oxAQ35wF9E"
   },
   "outputs": [],
   "source": [
    "# node_subject = node_subjects.astype(\"category\").cat.codes\n",
    "\n",
    "X = node_embeddings\n",
    "if X.shape[1] > 2:\n",
    "    transform = TSNE  # PCA\n",
    "\n",
    "    trans = transform(n_components=2)\n",
    "    emb_transformed = pd.DataFrame(trans.fit_transform(X), index=node_ids)\n",
    "#     emb_transformed[\"label\"] = node_subject\n",
    "else:\n",
    "    emb_transformed = pd.DataFrame(X, index=node_ids)\n",
    "    emb_transformed = emb_transformed.rename(columns={\"0\": 0, \"1\": 1})\n",
    "#     emb_transformed[\"label\"] = node_subject"
   ]
  },
  {
   "cell_type": "code",
   "execution_count": 46,
   "metadata": {
    "execution": {
     "iopub.execute_input": "2020-05-28T00:44:35.256119Z",
     "iopub.status.busy": "2020-05-28T00:44:35.255118Z",
     "iopub.status.idle": "2020-05-28T00:44:35.261370Z",
     "shell.execute_reply": "2020-05-28T00:44:35.260119Z",
     "shell.execute_reply.started": "2020-05-28T00:44:35.256119Z"
    }
   },
   "outputs": [
    {
     "name": "stdout",
     "output_type": "stream",
     "text": [
      "{'BCL3', 'POLR2AphosphoS2', 'NFE2', 'NFYA', 'JUNB', 'NRF1', 'SIX5', 'RAD21', 'NBN'}\n"
     ]
    }
   ],
   "source": [
    "tfs = set(tf2gene['source'])\n",
    "print(tfs)\n",
    "\n",
    "def geneType(name):\n",
    "    if name in tfs:\n",
    "        return 1   # 1 represents TFs\n",
    "    else:\n",
    "        return 0   # 2 represents normal genes"
   ]
  },
  {
   "cell_type": "code",
   "execution_count": 50,
   "metadata": {
    "execution": {
     "iopub.execute_input": "2020-05-28T00:45:10.432133Z",
     "iopub.status.busy": "2020-05-28T00:45:10.432133Z",
     "iopub.status.idle": "2020-05-28T00:45:10.438646Z",
     "shell.execute_reply": "2020-05-28T00:45:10.438135Z",
     "shell.execute_reply.started": "2020-05-28T00:45:10.432133Z"
    }
   },
   "outputs": [],
   "source": [
    "emb_transformed['type'] = emb_transformed.index.map(geneType)\n"
   ]
  },
  {
   "cell_type": "code",
   "execution_count": 52,
   "metadata": {
    "colab": {
     "base_uri": "https://localhost:8080/",
     "height": 441
    },
    "colab_type": "code",
    "execution": {
     "iopub.execute_input": "2020-05-28T00:45:31.468384Z",
     "iopub.status.busy": "2020-05-28T00:45:31.468384Z",
     "iopub.status.idle": "2020-05-28T00:45:31.652424Z",
     "shell.execute_reply": "2020-05-28T00:45:31.651423Z",
     "shell.execute_reply.started": "2020-05-28T00:45:31.468384Z"
    },
    "executionInfo": {
     "elapsed": 20256,
     "status": "ok",
     "timestamp": 1589152717200,
     "user": {
      "displayName": "Mukun Guo",
      "photoUrl": "",
      "userId": "15294793601238845759"
     },
     "user_tz": -480
    },
    "id": "7CCDvkqmwF9G",
    "outputId": "415bf5fa-cb5d-427a-c4a7-9b0bd4b52264"
   },
   "outputs": [
    {
     "data": {
      "image/png": "[encoded data removed]",
      "text/plain": [
       "<Figure size 504x504 with 1 Axes>"
      ]
     },
     "metadata": {
      "needs_background": "light"
     },
     "output_type": "display_data"
    }
   ],
   "source": [
    "alpha = 0.7\n",
    "\n",
    "fig, ax = plt.subplots(figsize=(7, 7))\n",
    "ax.scatter(\n",
    "    emb_transformed[0],\n",
    "    emb_transformed[1],\n",
    "    c=emb_transformed[\"type\"].astype(\"category\"),\n",
    "#     cmap=\"jet\",\n",
    "    alpha=alpha,\n",
    ")\n",
    "ax.set(aspect=\"equal\", xlabel=\"$X_1$\", ylabel=\"$X_2$\")\n",
    "plt.title(\n",
    "    \"{} visualization of GraphSAGE embeddings for cora dataset\".format(transform.__name__)\n",
    ")\n",
    "plt.show()"
   ]
  },
  {
   "cell_type": "code",
   "execution_count": null,
   "metadata": {
    "colab": {
     "base_uri": "https://localhost:8080/",
     "height": 204
    },
    "colab_type": "code",
    "executionInfo": {
     "elapsed": 816,
     "status": "ok",
     "timestamp": 1589152741142,
     "user": {
      "displayName": "Mukun Guo",
      "photoUrl": "",
      "userId": "15294793601238845759"
     },
     "user_tz": -480
    },
    "id": "MuPkHzRk4eTU",
    "outputId": "c0d6c7ad-0e2a-4ce0-ffaf-f7f75ad30d2f"
   },
   "outputs": [],
   "source": [
    "emb_transformed.head()"
   ]
  }
 ],
 "metadata": {
  "kernelspec": {
   "display_name": "Python 3",
   "language": "python",
   "name": "python3"
  },
  "language_info": {
   "codemirror_mode": {
    "name": "ipython",
    "version": 3
   },
   "file_extension": ".py",
   "mimetype": "text/x-python",
   "name": "python",
   "nbconvert_exporter": "python",
   "pygments_lexer": "ipython3",
   "version": "3.7.7"
  }
 },
 "nbformat": 4,
 "nbformat_minor": 4
}
